{
 "cells": [
  {
   "cell_type": "markdown",
   "id": "710a540b",
   "metadata": {},
   "source": [
    "### *Requirements*\n",
    "*To use this notebook, you need a WARC export of your search result from SolrWayback. (See **[SolrWayback > Export](https://nlnwa.github.io/research-services/docs/solrwayback/solrwayback-5export.html)** )*\n",
    "\n",
    "*The exported data:*\n",
    "- *must be in the WARC format,*\n",
    "- *must be indexed as `type:html` or `content_type:\"text/html\"`.*\n",
    "\n",
    "*After export, the WARC file should be moved to the `/warc/` folder.*\n",
    "\n",
    "*We also recommend to give it a meaningful name, e.g. `domain-regjeringen-no_content-type-html.warc`*"
   ]
  },
  {
   "cell_type": "markdown",
   "id": "7ba0a5dc",
   "metadata": {},
   "source": [
    "# WARC to HTML\n",
    "This notebook allow you to extract html files from warc records.\n",
    "\n",
    "The purpose is to allow further work on the html files, e.g. removing boiler plate, tokenisation, etc."
   ]
  },
  {
   "cell_type": "markdown",
   "id": "95b531bc",
   "metadata": {},
   "source": [
    "## Import packages\n",
    "Before starting, we must import the necessary python libraries.\n",
    "\n",
    "To run a code cell: Make sure it is marked and then press <kbd>Shift</kbd> + <kbd>Enter</kbd>)"
   ]
  },
  {
   "cell_type": "code",
   "execution_count": null,
   "id": "a93c902a",
   "metadata": {},
   "outputs": [],
   "source": [
    "import os\n",
    "from warcio import ArchiveIterator\n",
    "from warcio.archiveiterator import ArchiveIterator"
   ]
  },
  {
   "cell_type": "markdown",
   "id": "9023df73",
   "metadata": {},
   "source": [
    "## Set WARC file path and HTML output\n",
    "First, we need to set the path and file name we want to extract from."
   ]
  },
  {
   "cell_type": "code",
   "execution_count": null,
   "id": "0c7815bd",
   "metadata": {},
   "outputs": [],
   "source": [
    "warc_path = '../warc/file-name.warc'"
   ]
  },
  {
   "cell_type": "markdown",
   "id": "a1c5aa3a",
   "metadata": {},
   "source": [
    "Then, we define where the HTML files should be output to:"
   ]
  },
  {
   "cell_type": "code",
   "execution_count": null,
   "id": "4992a26a",
   "metadata": {},
   "outputs": [],
   "source": [
    "html_dir = '../html/{name-of}_html/'\n",
    "\n",
    "# Create the output folder if it doesn't exist\n",
    "if not os.path.exists(html_dir):\n",
    "    os.makedirs(html_dir)"
   ]
  },
  {
   "cell_type": "markdown",
   "id": "d0e32d2c",
   "metadata": {},
   "source": [
    "## Open WARC and extract HTML"
   ]
  },
  {
   "cell_type": "code",
   "execution_count": null,
   "id": "563e4b4b",
   "metadata": {},
   "outputs": [],
   "source": [
    "# Open the WARC file and iterate through its records\n",
    "with open(warc_path, 'rb') as stream:\n",
    "    for record in ArchiveIterator(stream):\n",
    "        # Only process 'response' records\n",
    "        if record.rec_type == 'response':\n",
    "            # Get the WARC-Record-ID and sanitize into valid filename\n",
    "            warc_record_id = record.rec_headers.get_header('WARC-Record-ID')\n",
    "            warc_record_id = warc_record_id.replace('<', '').replace('>', '').replace(':', '_')\n",
    "            \n",
    "            # Create HTML filename based on WARC-Record-ID (URN UUID)\n",
    "            html_file_name = f\"{warc_record_id}.html\"\n",
    "            \n",
    "            # Create full path to the HTML file\n",
    "            html_file_path = os.path.join(html_dir, html_file_name)\n",
    "            \n",
    "            # Extract and write HTML payload to file\n",
    "            payload = record.content_stream().read()\n",
    "            with open(html_file_path, 'wb') as f:\n",
    "                f.write(payload)"
   ]
  },
  {
   "cell_type": "code",
   "execution_count": null,
   "id": "c6ec18b3",
   "metadata": {},
   "outputs": [],
   "source": []
  }
 ],
 "metadata": {
  "kernelspec": {
   "display_name": "Python 3 (ipykernel)",
   "language": "python",
   "name": "python3"
  },
  "language_info": {
   "codemirror_mode": {
    "name": "ipython",
    "version": 3
   },
   "file_extension": ".py",
   "mimetype": "text/x-python",
   "name": "python",
   "nbconvert_exporter": "python",
   "pygments_lexer": "ipython3",
   "version": "3.9.7"
  }
 },
 "nbformat": 4,
 "nbformat_minor": 5
}
