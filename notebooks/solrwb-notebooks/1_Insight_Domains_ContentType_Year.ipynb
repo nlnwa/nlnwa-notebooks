{
 "cells": [
  {
   "cell_type": "markdown",
   "id": "7c89fb77",
   "metadata": {},
   "source": [
    "# Analyse Search Results: Domains, Content Type and Year"
   ]
  },
  {
   "cell_type": "markdown",
   "id": "e047bf54",
   "metadata": {},
   "source": [
    "Engaging with big data often necessitates initial analysis to establish some kind of sense of the data.\n",
    "\n",
    "This notebook will allow you to analyse results from a search in SolrWayback, by checking how the resources are distributed by domain, media type and crawl year.\n",
    "\n",
    "If you are new to python or programming - DON'T WORRY! The narrative between the code cells will explain what the script is performing. To run a cell, simply press SHIFT+Enter or the \"Run\"-button in the top.\n",
    "\n",
    "NB!\n",
    "You will need a file in JSONL format, exported from your SolrWayback query result (see [documentation]()). For this notebook's operations to work, the fields \"domain\", \"content_type\" and \"crawl year\" must be included in the export."
   ]
  },
  {
   "cell_type": "markdown",
   "id": "d3c0dfe5",
   "metadata": {},
   "source": [
    "### Import libraries"
   ]
  },
  {
   "cell_type": "markdown",
   "id": "f86650a4",
   "metadata": {},
   "source": [
    "First, we need to import the necessary libraries."
   ]
  },
  {
   "cell_type": "code",
   "execution_count": null,
   "id": "66919e68",
   "metadata": {},
   "outputs": [],
   "source": [
    "import pandas as pd\n",
    "import plotly.express as px"
   ]
  },
  {
   "cell_type": "markdown",
   "id": "b5c2f209",
   "metadata": {},
   "source": [
    "### Load data from SolrWayback"
   ]
  },
  {
   "cell_type": "markdown",
   "id": "8189132d",
   "metadata": {},
   "source": [
    "Load the JSONL data set you exported from SolrWayback. *(The display function on line 2 outputs a table with the first and last 5 lines of your data.)* "
   ]
  },
  {
   "cell_type": "code",
   "execution_count": null,
   "id": "0a5e895b",
   "metadata": {},
   "outputs": [],
   "source": [
    "df = pd.read_json('../data/solrwayback_JonasGahrStore.jsonl', lines=True)\n",
    "display(df)"
   ]
  },
  {
   "cell_type": "markdown",
   "id": "250f8e9b",
   "metadata": {},
   "source": [
    "## 1. Domain stats"
   ]
  },
  {
   "cell_type": "markdown",
   "id": "fd2f936d",
   "metadata": {},
   "source": [
    "### Count"
   ]
  },
  {
   "cell_type": "markdown",
   "id": "8bbb14d9",
   "metadata": {},
   "source": [
    "Now, we can count the number of occurrences of each domain, and sort them in descending order."
   ]
  },
  {
   "cell_type": "code",
   "execution_count": null,
   "id": "24fd490b",
   "metadata": {},
   "outputs": [],
   "source": [
    "domain_counts = df['domain'].value_counts().reset_index()\n",
    "domain_counts.columns = ['domain', 'count']\n",
    "domain_counts_sorted = domain_counts.sort_values('count', ascending=False)\n",
    "display(domain_counts_sorted)"
   ]
  },
  {
   "cell_type": "markdown",
   "id": "21e9cef3",
   "metadata": {},
   "source": [
    "### Visualisation"
   ]
  },
  {
   "cell_type": "markdown",
   "id": "112071de",
   "metadata": {},
   "source": [
    "Since we have counted the number of resources per domain, it is also possible to visualise the distribution.\n",
    "\n",
    "We will use the **plotly** graphing tool to generate an interactive pie chart.\n",
    "\n",
    "*TIP: You can move your mouse over the pie chart to display data for that block, and active/deactive domains in the right column.*"
   ]
  },
  {
   "cell_type": "code",
   "execution_count": null,
   "id": "9275008f",
   "metadata": {},
   "outputs": [],
   "source": [
    "fig = px.pie(domain_counts_sorted, values='count', names='domain')\n",
    "fig.update_traces(textposition='inside', textinfo='label')\n",
    "fig.update_layout(title_text=\"Distribution of resources per domain\", font_size=15)\n",
    "fig.show()"
   ]
  },
  {
   "cell_type": "markdown",
   "id": "067517e8",
   "metadata": {},
   "source": [
    "## 2. Media type"
   ]
  },
  {
   "cell_type": "markdown",
   "id": "2337357c",
   "metadata": {},
   "source": [
    "### Count"
   ]
  },
  {
   "cell_type": "markdown",
   "id": "f79b405e",
   "metadata": {},
   "source": [
    "As with the domains above, we can also count the occurrences of each media type/subtype.\n",
    "\n",
    "*(Media type is synonymous to what is called \"Content type\" in WARC records.)*"
   ]
  },
  {
   "cell_type": "code",
   "execution_count": null,
   "id": "c2d5e475",
   "metadata": {},
   "outputs": [],
   "source": [
    "content_type_counts = df['content_type'].value_counts().reset_index()\n",
    "content_type_counts.columns = ['content_type', 'count']\n",
    "content_type_sorted = content_type_counts.sort_values('count', ascending=False)\n",
    "print(content_type_sorted)"
   ]
  },
  {
   "cell_type": "markdown",
   "id": "8c7f06aa",
   "metadata": {},
   "source": [
    "### Visualisation"
   ]
  },
  {
   "cell_type": "markdown",
   "id": "d50191c0",
   "metadata": {},
   "source": [
    "Run the code block below to visualise the distribution of each content type/subtype."
   ]
  },
  {
   "cell_type": "code",
   "execution_count": null,
   "id": "496c3dc7",
   "metadata": {},
   "outputs": [],
   "source": [
    "fig = px.pie(content_type_sorted, values='count', names='content_type')\n",
    "fig.update_traces(textposition='inside', textinfo='label')\n",
    "fig.update_layout(title_text=\"Distribution of resources by content type\", font_size=15)\n",
    "fig.show()"
   ]
  },
  {
   "cell_type": "markdown",
   "id": "0363658b",
   "metadata": {},
   "source": [
    "## 3. Crawl year"
   ]
  },
  {
   "cell_type": "markdown",
   "id": "4b64a974",
   "metadata": {},
   "source": [
    "### Count"
   ]
  },
  {
   "cell_type": "markdown",
   "id": "7206909e",
   "metadata": {},
   "source": [
    "The code block below will count the number of resources per crawl year, and print the result."
   ]
  },
  {
   "cell_type": "code",
   "execution_count": null,
   "id": "6056b025",
   "metadata": {},
   "outputs": [],
   "source": [
    "crawl_year_counts = df['crawl_year'].value_counts().reset_index()\n",
    "crawl_year_counts.columns = ['crawl_year', 'count']\n",
    "crawl_year_sorted = crawl_year_counts.sort_values('crawl_year')\n",
    "print(crawl_year_sorted)"
   ]
  },
  {
   "cell_type": "markdown",
   "id": "edafbce7",
   "metadata": {},
   "source": [
    "### Visualisation"
   ]
  },
  {
   "cell_type": "markdown",
   "id": "1ef680ea",
   "metadata": {},
   "source": [
    "Then, we want to visualise their distribution over time, using **plotly** to make a bar chart."
   ]
  },
  {
   "cell_type": "code",
   "execution_count": null,
   "id": "8a9865b0",
   "metadata": {},
   "outputs": [],
   "source": [
    "fig = px.bar(crawl_year_sorted, y='count', x='crawl_year', text_auto='.2s')\n",
    "fig.show()"
   ]
  },
  {
   "cell_type": "code",
   "execution_count": null,
   "id": "5aa1d96e",
   "metadata": {},
   "outputs": [],
   "source": []
  }
 ],
 "metadata": {
  "kernelspec": {
   "display_name": "Python 3 (ipykernel)",
   "language": "python",
   "name": "python3"
  },
  "language_info": {
   "codemirror_mode": {
    "name": "ipython",
    "version": 3
   },
   "file_extension": ".py",
   "mimetype": "text/x-python",
   "name": "python",
   "nbconvert_exporter": "python",
   "pygments_lexer": "ipython3",
   "version": "3.9.7"
  }
 },
 "nbformat": 4,
 "nbformat_minor": 5
}
