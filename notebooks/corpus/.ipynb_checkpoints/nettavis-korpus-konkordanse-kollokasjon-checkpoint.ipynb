{
 "cells": [
  {
   "cell_type": "markdown",
   "id": "05de1daf-8e8d-4fda-9f94-ee14b50136fa",
   "metadata": {},
   "source": [
    "***NB:*** *Denne notebooken er i utvikling, og ment som eksempel på hvordan brukere kan jobbe programmatisk med Nasjonalbiblioteket korpus av nettavis-tekster. Notebooken lar deg:*\n",
    "- *bygge og visualisere korpus*\n",
    "- *hente konkordanser,*\n",
    "- *beregne relativfrekvens for kollokasjoner.*\n",
    "\n",
    "*Har du spørsmål? Les gjerne [overordnet informasjon om nettavis-korpuset](https://www.nb.no/samlingen/nettarkivet/forskning/korpus-med-nettaviser/) eller send oss en e-post på [nettarkivet@nb.no](mailto:nettarkivet@nb.no).*\n",
    "\n",
    "___"
   ]
  },
  {
   "cell_type": "markdown",
   "id": "b09cfab3-b087-4c99-9d81-62964a58d2ca",
   "metadata": {},
   "source": [
    "# 0. Importer `dhlab` for python"
   ]
  },
  {
   "cell_type": "markdown",
   "id": "2f4ba907-482a-41f8-8892-3458f78397a8",
   "metadata": {},
   "source": [
    "Før vi begynner må vi importere nødvendige python-pakker. Dersom du ikke har installert `dhlab` allerede må du avkommentere den første linja og fjerne `# ` foran `!pip install ...`"
   ]
  },
  {
   "cell_type": "code",
   "execution_count": null,
   "id": "a610b652-da43-4f84-b13c-77cb5ded0444",
   "metadata": {},
   "outputs": [],
   "source": [
    "# !pip install -U dhlab (fjern `# ` for å installere siste versjon av python-pakka for dhlab\n",
    "import dhlab as dh\n",
    "import dhlab.nbtext as nb\n",
    "from dhlab import Corpus, totals, Collocations, Ngram\n",
    "import plotly.express as px\n",
    "import numpy as np"
   ]
  },
  {
   "cell_type": "markdown",
   "id": "bb09be38-cbc6-4d51-9d2d-9344b25fc3f1",
   "metadata": {},
   "source": [
    "___"
   ]
  },
  {
   "cell_type": "markdown",
   "id": "fb70b1a3-106c-42f2-b711-a626ffb5b5fa",
   "metadata": {},
   "source": [
    "# 1. Korpusanalyse"
   ]
  },
  {
   "cell_type": "markdown",
   "id": "cc1c9b6c-392b-4d21-9238-82f80c0167b2",
   "metadata": {},
   "source": [
    "Et korpus betyr en samling av tekster. I denne sammenhengen skal vi lage et korpus med tekster fra norske nettaviser.\n",
    "\n",
    "I `dhlab` brukes Python-klassen `Corpus` til å representere en liste med metadata om hvert dokument. Her finner du metadata om publikasjonstittel, språk, dato for innhøsting, domenenavn, osv. Hver tekst i korpuset har også en unik `dhlabid`, DHlabs persistente URN.\n",
    "\n",
    "Hvis du ønsker en oversikt over tekstenes ulike attributter, slik de eksponeres gjennom APIet, kan du lese mer om [Korpus med nettaviser](https://www.nb.no/samlingen/nettarkivet/forskning/korpus-med-nettaviser/#hvilke-skjema-attributter-kan-jeg-benytte-mot-apiet?)."
   ]
  },
  {
   "cell_type": "markdown",
   "id": "b50169cc-7642-42c3-9026-c924f6b65566",
   "metadata": {},
   "source": [
    "## 1.1 Bygge korpus"
   ]
  },
  {
   "cell_type": "markdown",
   "id": "1041f2ea-6e94-464a-9de7-51272ca6848d",
   "metadata": {},
   "source": [
    "La oss bygge et korpus!\n",
    "\n",
    "Kodecellen under bygger et korpus med tekster fra NRK som inneholder ord som begynner på \"vindmølle*\".\n",
    "\n",
    "`doctype=\"nettavis\"` angir at det er nettavis-tekst vi vil jobbe med. `title=\"NRK\"` avgrenser til tekster fra NRK, og `fulltext=\"vindmølle*\"` avgrenser til tekster som inneholder ord som begynner på vindmølle."
   ]
  },
  {
   "cell_type": "code",
   "execution_count": null,
   "id": "fcdc8f15-cd61-44ab-b4d8-4a9c3d45119c",
   "metadata": {},
   "outputs": [],
   "source": [
    "corpus = dh.Corpus(doctype=\"nettavis\", fulltext=\"vindmølle*\", limit=100000)\n",
    "corpus"
   ]
  },
  {
   "cell_type": "markdown",
   "id": "437127c1-e8ee-4c9b-a226-093fcd636dc0",
   "metadata": {},
   "source": [
    "## 1.2 Innsikt og visualisering"
   ]
  },
  {
   "cell_type": "markdown",
   "id": "ae5c34f7-93e7-497c-a3cf-a4b7d057b208",
   "metadata": {},
   "source": [
    "Før du går videre og analyserer teksten ønsker du kanskje innsikt i korpuset du har bygget? La oss visualisere hvordan tekstene fordeler seg etter år, publikasjoner og språk."
   ]
  },
  {
   "cell_type": "markdown",
   "id": "327d6911-be21-4328-a0a9-f8a7960437bf",
   "metadata": {},
   "source": [
    "### 1.2.1 Publikasjoner i korpus (tree map)"
   ]
  },
  {
   "cell_type": "markdown",
   "id": "f52a4972-b628-451f-8dfc-d66f8d2db27a",
   "metadata": {},
   "source": [
    "Vise distribusjon av tekster per publikasjon, og visualiserer fordelingen i et tree map."
   ]
  },
  {
   "cell_type": "code",
   "execution_count": null,
   "id": "5f816790-ffdc-419c-92d2-788da107e7a6",
   "metadata": {},
   "outputs": [],
   "source": [
    "telle_titler = corpus['title'].value_counts()\n",
    "\n",
    "fig = px.treemap(\n",
    "    path=[telle_titler.index],\n",
    "    values=telle_titler.values,\n",
    "    title='Fordeling av tekster etter publikasjonsnavn',\n",
    "    hover_data={'Antall tekster': telle_titler.values}\n",
    ")\n",
    "\n",
    "fig.show()\n"
   ]
  },
  {
   "cell_type": "markdown",
   "id": "e0a1b48f-afbb-4aa2-a43e-5bfdceacdb68",
   "metadata": {},
   "source": [
    "### 1.2.2 Fordeling av tekster over tid"
   ]
  },
  {
   "cell_type": "code",
   "execution_count": null,
   "id": "2f47c4d9-9d2d-4dde-bd35-2899bb6577b2",
   "metadata": {
    "scrolled": true
   },
   "outputs": [],
   "source": [
    "hoestetid = pd.to_datetime(corpus['timestamp'], format='%Y%m%d')\n",
    "\n",
    "# Generer tilfeldige verdier for spredning langs y-aksen\n",
    "y_spredning = np.random.uniform(0, 1, size=len(hoestetid))\n",
    "\n",
    "# Legg til jitter (tilfeldig justering langs y-aksen) på høstetidspunktene\n",
    "x_jitter = hoestetid + pd.to_timedelta(np.random.uniform(-2, 2, size=len(hoestetid)), unit='D')\n",
    "\n",
    "# Lager scatter plot med jitter for bedre spredning\n",
    "fig = px.scatter(\n",
    "    x=x_jitter,  # Høstetidspunkter med jitter på x-aksen\n",
    "    y=y_spredning,  # Tilfeldig spredning på y-aksen\n",
    "    labels={'x': 'Høstetidspunkt', 'y': 'Spredning'},\n",
    "    title='Tekster etter høstedato',\n",
    "    opacity=0.5,  # Gjør punktene delvis gjennomsiktige\n",
    "    size_max=5  # Øk punktstørrelsen\n",
    ")\n",
    "\n",
    "# Vis diagrammet\n",
    "fig.show()\n"
   ]
  },
  {
   "cell_type": "markdown",
   "id": "dccd07a7-70fe-4adc-b9ce-37544fcd9caf",
   "metadata": {},
   "source": [
    "### 1.2.3 Fordeling av språk/målform"
   ]
  },
  {
   "cell_type": "code",
   "execution_count": null,
   "id": "21360b00-fb2d-45bc-9c3b-1e7ddb3d38a1",
   "metadata": {},
   "outputs": [],
   "source": [
    "# Tell antall forekomster av hvert språk (langs-kode)\n",
    "språkfordeling = corpus['langs'].value_counts()\n",
    "\n",
    "# Lag et kakediagram basert på språkfordelingen\n",
    "fig = px.pie(\n",
    "    values=språkfordeling.values,  # Antall forekomster av hvert språk\n",
    "    names=språkfordeling.index,    # Språkkoder (ISO 639-2)\n",
    "    title='Fordeling av språk/målform',\n",
    "    labels={'names': 'Språk/målform', 'values': 'Antall forekomster'}\n",
    ")\n",
    "\n",
    "# Vis diagrammet\n",
    "fig.show()\n"
   ]
  },
  {
   "cell_type": "markdown",
   "id": "b87c3df6-02b5-474a-ac9d-cc094a461b35",
   "metadata": {},
   "source": [
    "## 1.3 Eksportere korpus"
   ]
  },
  {
   "cell_type": "markdown",
   "id": "7ec42cc1-50ca-42b5-b9b6-cc9b81485b9d",
   "metadata": {},
   "source": [
    "Hvis du vil lagre resultatene kan du eksportere dem i Excel og/eller JSONL format. Husk å endre filnavnet og ev. filsti!"
   ]
  },
  {
   "cell_type": "code",
   "execution_count": null,
   "id": "7f432435-b867-4b11-ab20-dca23dec297a",
   "metadata": {},
   "outputs": [],
   "source": [
    "# Eksporter korpus til Excel (endre filnavn og filsti)\n",
    "corpus.frame.to_excel('./korpus-vindmølle.xlsx', index=False)\n",
    "\n",
    "# Eksportere korpus til JSONL (endre filnavn og filsti)\n",
    "corpus.frame.to_json('./korpus-vindmølle.jsonl', orient='records', lines=True)"
   ]
  },
  {
   "cell_type": "markdown",
   "id": "b9ee0f8d-f328-4ef2-b794-2e78e68b198a",
   "metadata": {},
   "source": [
    "___"
   ]
  },
  {
   "cell_type": "markdown",
   "id": "efd768d9-d975-47ea-b2e2-8e435acd436a",
   "metadata": {},
   "source": [
    "## 2. Konkordanser"
   ]
  },
  {
   "cell_type": "markdown",
   "id": "fd4652ee-8106-4384-9886-832c2923f774",
   "metadata": {},
   "source": [
    "Når du har bygget korpuset kan du hente ut ulike informasjon om korpuset.\n",
    "\n",
    "Kodecellen under henter ut konkordanser, det vil si et tekstvindu med inntil 12 ord før/etter et søkeord. Søkeordet fremheves i fet skrift.\n",
    "\n",
    "La oss be om konkordanser for ordet \"vindmølle\"."
   ]
  },
  {
   "cell_type": "code",
   "execution_count": null,
   "id": "e56b9211-dbea-4490-82f6-8696aeb4d3e0",
   "metadata": {
    "scrolled": true
   },
   "outputs": [],
   "source": [
    "conc_windmill = corpus.conc(words=\"vindmølle*\")\n",
    "conc_windmill.show()"
   ]
  },
  {
   "cell_type": "markdown",
   "id": "71cd054d-1743-40ef-be2e-298ad5897345",
   "metadata": {},
   "source": [
    "### Eksportere konkordanser"
   ]
  },
  {
   "cell_type": "markdown",
   "id": "45af6a29-c073-48a9-b505-eaf704532c08",
   "metadata": {},
   "source": [
    "Hvis du vil lagre resultatene kan du eksportere dem i Excel og/eller JSONL format. Husk å endre filnavnet og ev. filsti!"
   ]
  },
  {
   "cell_type": "code",
   "execution_count": null,
   "id": "5c00ae65-d510-46ad-a81b-7cbebacd6e0d",
   "metadata": {},
   "outputs": [],
   "source": [
    "# Eksportere konkordanser til Excel\n",
    "conc_windmill.frame.to_excel('./konkordanser-vindmølle.xlsx', index=False)\n",
    "\n",
    "# Eksportere konkordanser til JSONL\n",
    "conc_windmill.frame.to_json('./konkordanser-vindmølle.jsonl', orient='records', lines=True)"
   ]
  },
  {
   "cell_type": "markdown",
   "id": "da390e0e-4153-4d74-b666-8b933889418e",
   "metadata": {},
   "source": [
    "___"
   ]
  },
  {
   "cell_type": "markdown",
   "id": "5996ff6b-8c0c-4cf5-9c58-7144e9bae006",
   "metadata": {},
   "source": [
    "## 3. Kollokasjoner og ordfrekvenser\n",
    "Kollokasjoner er ordpar som forekommer sammen. Ved å telle kollokasjoner for et gitt ord kan vi si noe om frekvensen for hvor hyppig/sjelden ulike ord forekommer sammen med hverandre.\n",
    "\n",
    "En del ord alltid vil forekomme hyppig i alle tekster, slik som `og`, `han` og `hun`. For å finne ord som er signifikante innen en gitt kontekst kan vi beregne en relativfrekvens, der vi sammenlikner frekvensen i vårt eget korpus med et allment referansekorpus.\n",
    "\n",
    "Cellen under lister ordene med høyest relativfrekvens, gitt et nøkkelord i korpuset."
   ]
  },
  {
   "cell_type": "code",
   "execution_count": null,
   "id": "f8a6916f-a88f-46fd-b15c-fe4e21f9b7d6",
   "metadata": {},
   "outputs": [],
   "source": [
    "tot = totals(50000) # Henter referansekorpus for å sammenlikne relativfrekvens\n",
    "coll = corpus.coll(\"vindmøller\").frame.sort_values(by=\"counts\", ascending=False) # Teller kollokasjoner for nøkkelord i korpuset\n",
    "(coll.counts / tot.freq).sort_values(ascending = False).head(20) # Finner relativfrekvens i korpuset, sammenliknet med referansekorpuset"
   ]
  }
 ],
 "metadata": {
  "kernelspec": {
   "display_name": "Python 3 (ipykernel)",
   "language": "python",
   "name": "python3"
  },
  "language_info": {
   "codemirror_mode": {
    "name": "ipython",
    "version": 3
   },
   "file_extension": ".py",
   "mimetype": "text/x-python",
   "name": "python",
   "nbconvert_exporter": "python",
   "pygments_lexer": "ipython3",
   "version": "3.12.4"
  }
 },
 "nbformat": 4,
 "nbformat_minor": 5
}
