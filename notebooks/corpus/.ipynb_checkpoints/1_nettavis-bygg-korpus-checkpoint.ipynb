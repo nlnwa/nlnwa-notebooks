{
 "cells": [
  {
   "cell_type": "markdown",
   "id": "05de1daf-8e8d-4fda-9f94-ee14b50136fa",
   "metadata": {},
   "source": [
    "***NB:*** *Denne notebooken er i utvikling, og ment som eksempel på hvordan brukere kan jobbe programmatisk med Nasjonalbiblioteket korpus av nettavis-tekster. Notebooken lar deg:*\n",
    "- *bygge korpus,*\n",
    "- *hente konkordanser,*\n",
    "- *beregne relativfrekvens for kollokasjoner.*\n",
    "\n",
    "*Har du spørsmål? Les gjerne [overordnet informasjon om nettavis-korpuset](https://www.nb.no/samlingen/nettarkivet/forskning/korpus-med-nettaviser/) eller send oss en e-post på [nettarkivet@nb.no](mailto:nettarkivet@nb.no).*\n",
    "\n",
    "___"
   ]
  },
  {
   "cell_type": "markdown",
   "id": "b09cfab3-b087-4c99-9d81-62964a58d2ca",
   "metadata": {},
   "source": [
    "# 0. Importer `dhlab` for python"
   ]
  },
  {
   "cell_type": "markdown",
   "id": "2f4ba907-482a-41f8-8892-3458f78397a8",
   "metadata": {},
   "source": [
    "Før vi begynner må vi importere nødvendige python-pakker. Dersom du ikke har installert `dhlab` allerede må du avkommentere den første linja og fjerne `# ` foran `!pip install ...`"
   ]
  },
  {
   "cell_type": "code",
   "execution_count": 8,
   "id": "a610b652-da43-4f84-b13c-77cb5ded0444",
   "metadata": {},
   "outputs": [],
   "source": [
    "# !pip install -U dhlab (fjern `#` for å installere siste versjon av python-pakka for dhlab\n",
    "import dhlab as dh\n",
    "import dhlab.nbtext as nb\n",
    "from dhlab import Corpus, totals, Collocations, Ngram\n",
    "import plotly.express as px"
   ]
  },
  {
   "cell_type": "markdown",
   "id": "fb70b1a3-106c-42f2-b711-a626ffb5b5fa",
   "metadata": {},
   "source": [
    "# 1. Korpusanalyse"
   ]
  },
  {
   "cell_type": "markdown",
   "id": "cc1c9b6c-392b-4d21-9238-82f80c0167b2",
   "metadata": {},
   "source": [
    "Et korpus betyr en samling av tekster. I denne sammenhengen skal vi lage et korpus med tekster fra norske nettaviser.\n",
    "\n",
    "I `dhlab` brukes Python-klassen `Corpus` til å representere en liste med metadata om hvert dokument. Her finner du metadata om publikasjonstittel, språk, dato for innhøsting, domenenavn, osv. Hver tekst i korpuset har også en unik `dhlabid`, DHlabs persistente URN.\n",
    "\n",
    "Hvis du ønsker en oversikt over tekstenes ulike attributter, slik de eksponeres gjennom APIet, kan du lese mer om [Korpus med nettaviser](https://www.nb.no/samlingen/nettarkivet/forskning/korpus-med-nettaviser/#hvilke-skjema-attributter-kan-jeg-benytte-mot-apiet?)."
   ]
  },
  {
   "cell_type": "markdown",
   "id": "b50169cc-7642-42c3-9026-c924f6b65566",
   "metadata": {},
   "source": [
    "## 1.1 Bygge korpus"
   ]
  },
  {
   "cell_type": "markdown",
   "id": "1041f2ea-6e94-464a-9de7-51272ca6848d",
   "metadata": {},
   "source": [
    "La oss bygge et korpus!\n",
    "\n",
    "Kodecellen under bygger et korpus med tekster fra NRK som inneholder ord som begynner på \"vindmølle*\".\n",
    "\n",
    "`doctype=\"nettavis\"` angir at det er nettavis-tekst vi vil jobbe med. `title=\"NRK\"` avgrenser til tekster fra NRK, og `fulltext=\"vindmølle*\"` avgrenser til tekster som inneholder ord som begynner på vindmølle."
   ]
  },
  {
   "cell_type": "code",
   "execution_count": 53,
   "id": "fcdc8f15-cd61-44ab-b4d8-4a9c3d45119c",
   "metadata": {},
   "outputs": [
    {
     "data": {
      "text/html": [
       "<div>\n",
       "<style scoped>\n",
       "    .dataframe tbody tr th:only-of-type {\n",
       "        vertical-align: middle;\n",
       "    }\n",
       "\n",
       "    .dataframe tbody tr th {\n",
       "        vertical-align: top;\n",
       "    }\n",
       "\n",
       "    .dataframe thead th {\n",
       "        text-align: right;\n",
       "    }\n",
       "</style>\n",
       "<table border=\"1\" class=\"dataframe\">\n",
       "  <thead>\n",
       "    <tr style=\"text-align: right;\">\n",
       "      <th></th>\n",
       "      <th>dhlabid</th>\n",
       "      <th>urn</th>\n",
       "      <th>title</th>\n",
       "      <th>authors</th>\n",
       "      <th>oaiid</th>\n",
       "      <th>sesamid</th>\n",
       "      <th>isbn10</th>\n",
       "      <th>city</th>\n",
       "      <th>timestamp</th>\n",
       "      <th>year</th>\n",
       "      <th>publisher</th>\n",
       "      <th>langs</th>\n",
       "      <th>subjects</th>\n",
       "      <th>ddc</th>\n",
       "      <th>genres</th>\n",
       "      <th>literaryform</th>\n",
       "      <th>doctype</th>\n",
       "    </tr>\n",
       "  </thead>\n",
       "  <tbody>\n",
       "    <tr>\n",
       "      <th>0</th>\n",
       "      <td>601780681</td>\n",
       "      <td>&lt;urn:uuid:8b066b9f-3049-4139-bbb7-cbc4144c24fc&gt;</td>\n",
       "      <td>VG</td>\n",
       "      <td>None</td>\n",
       "      <td>https://www.vg.no:443/nyheter/innenriks/i/G3nO...</td>\n",
       "      <td>None</td>\n",
       "      <td>None</td>\n",
       "      <td>Oslo</td>\n",
       "      <td>20211222</td>\n",
       "      <td>2021</td>\n",
       "      <td>vg.no</td>\n",
       "      <td>nob</td>\n",
       "      <td>None</td>\n",
       "      <td>None</td>\n",
       "      <td>None</td>\n",
       "      <td>None</td>\n",
       "      <td>nettavis</td>\n",
       "    </tr>\n",
       "    <tr>\n",
       "      <th>1</th>\n",
       "      <td>601830982</td>\n",
       "      <td>&lt;urn:uuid:4c308f23-e163-4cc1-998b-1e103362fd36&gt;</td>\n",
       "      <td>Ås Avis</td>\n",
       "      <td>None</td>\n",
       "      <td>https://www.aasavis.no:443/vi-tar-tilbake-tryg...</td>\n",
       "      <td>None</td>\n",
       "      <td>None</td>\n",
       "      <td>Ås</td>\n",
       "      <td>20220613</td>\n",
       "      <td>2022</td>\n",
       "      <td>aasavis.no</td>\n",
       "      <td>nob</td>\n",
       "      <td>None</td>\n",
       "      <td>None</td>\n",
       "      <td>None</td>\n",
       "      <td>None</td>\n",
       "      <td>nettavis</td>\n",
       "    </tr>\n",
       "    <tr>\n",
       "      <th>2</th>\n",
       "      <td>601783108</td>\n",
       "      <td>&lt;urn:uuid:e51f1806-617f-4846-91a4-3127431ca860&gt;</td>\n",
       "      <td>VG</td>\n",
       "      <td>None</td>\n",
       "      <td>https://www.vg.no:443/forbruker/mat-og-drikke/...</td>\n",
       "      <td>None</td>\n",
       "      <td>None</td>\n",
       "      <td>Oslo</td>\n",
       "      <td>20200509</td>\n",
       "      <td>2020</td>\n",
       "      <td>vg.no</td>\n",
       "      <td>nob</td>\n",
       "      <td>None</td>\n",
       "      <td>None</td>\n",
       "      <td>None</td>\n",
       "      <td>None</td>\n",
       "      <td>nettavis</td>\n",
       "    </tr>\n",
       "    <tr>\n",
       "      <th>3</th>\n",
       "      <td>601764881</td>\n",
       "      <td>&lt;urn:uuid:713a401b-f401-40f6-b44f-33d293fafcde&gt;</td>\n",
       "      <td>VG</td>\n",
       "      <td>None</td>\n",
       "      <td>https://tvguide.vg.no:443/p/1JDDVq-v-khe</td>\n",
       "      <td>None</td>\n",
       "      <td>None</td>\n",
       "      <td>Oslo</td>\n",
       "      <td>20200526</td>\n",
       "      <td>2020</td>\n",
       "      <td>vg.no</td>\n",
       "      <td>nob</td>\n",
       "      <td>None</td>\n",
       "      <td>None</td>\n",
       "      <td>None</td>\n",
       "      <td>None</td>\n",
       "      <td>nettavis</td>\n",
       "    </tr>\n",
       "    <tr>\n",
       "      <th>4</th>\n",
       "      <td>601763555</td>\n",
       "      <td>&lt;urn:uuid:16e3d478-22b6-4aad-8185-2e4b40689b7b&gt;</td>\n",
       "      <td>VG</td>\n",
       "      <td>None</td>\n",
       "      <td>https://www.vg.no:443/nyheter/utenriks/i/gWvWG...</td>\n",
       "      <td>None</td>\n",
       "      <td>None</td>\n",
       "      <td>Oslo</td>\n",
       "      <td>20210101</td>\n",
       "      <td>2021</td>\n",
       "      <td>vg.no</td>\n",
       "      <td>nob</td>\n",
       "      <td>None</td>\n",
       "      <td>None</td>\n",
       "      <td>None</td>\n",
       "      <td>None</td>\n",
       "      <td>nettavis</td>\n",
       "    </tr>\n",
       "    <tr>\n",
       "      <th>...</th>\n",
       "      <td>...</td>\n",
       "      <td>...</td>\n",
       "      <td>...</td>\n",
       "      <td>...</td>\n",
       "      <td>...</td>\n",
       "      <td>...</td>\n",
       "      <td>...</td>\n",
       "      <td>...</td>\n",
       "      <td>...</td>\n",
       "      <td>...</td>\n",
       "      <td>...</td>\n",
       "      <td>...</td>\n",
       "      <td>...</td>\n",
       "      <td>...</td>\n",
       "      <td>...</td>\n",
       "      <td>...</td>\n",
       "      <td>...</td>\n",
       "    </tr>\n",
       "    <tr>\n",
       "      <th>1139</th>\n",
       "      <td>600808897</td>\n",
       "      <td>&lt;urn:uuid:2ec56b25-8496-42ef-9709-cc095653c08b&gt;</td>\n",
       "      <td>Forskning.no</td>\n",
       "      <td>None</td>\n",
       "      <td>https://forskning.no:443/landbruk-mat-partner/...</td>\n",
       "      <td>None</td>\n",
       "      <td>None</td>\n",
       "      <td>Oslo</td>\n",
       "      <td>20200221</td>\n",
       "      <td>2020</td>\n",
       "      <td>forskning.no</td>\n",
       "      <td>nob</td>\n",
       "      <td>None</td>\n",
       "      <td>None</td>\n",
       "      <td>None</td>\n",
       "      <td>None</td>\n",
       "      <td>nettavis</td>\n",
       "    </tr>\n",
       "    <tr>\n",
       "      <th>1140</th>\n",
       "      <td>600998260</td>\n",
       "      <td>&lt;urn:uuid:7a9bca24-f36c-44ae-b668-d6b5bf98d76c&gt;</td>\n",
       "      <td>iHarstad</td>\n",
       "      <td>None</td>\n",
       "      <td>https://www.iharstad.no:443/hekta-pa-mat-en-ga...</td>\n",
       "      <td>None</td>\n",
       "      <td>None</td>\n",
       "      <td>Harstad</td>\n",
       "      <td>20211030</td>\n",
       "      <td>2021</td>\n",
       "      <td>iharstad.no</td>\n",
       "      <td>nob</td>\n",
       "      <td>None</td>\n",
       "      <td>None</td>\n",
       "      <td>None</td>\n",
       "      <td>None</td>\n",
       "      <td>nettavis</td>\n",
       "    </tr>\n",
       "    <tr>\n",
       "      <th>1141</th>\n",
       "      <td>600925102</td>\n",
       "      <td>&lt;urn:uuid:f11c5179-b367-4eef-a2bb-95a6ec31a746&gt;</td>\n",
       "      <td>Hamar Arbeiderblad</td>\n",
       "      <td>None</td>\n",
       "      <td>https://www.h-a.no:443/tag/vinspalte/</td>\n",
       "      <td>None</td>\n",
       "      <td>None</td>\n",
       "      <td>Hamar</td>\n",
       "      <td>20200902</td>\n",
       "      <td>2020</td>\n",
       "      <td>h-a.no</td>\n",
       "      <td>nob</td>\n",
       "      <td>None</td>\n",
       "      <td>None</td>\n",
       "      <td>None</td>\n",
       "      <td>None</td>\n",
       "      <td>nettavis</td>\n",
       "    </tr>\n",
       "    <tr>\n",
       "      <th>1142</th>\n",
       "      <td>600805170</td>\n",
       "      <td>&lt;urn:uuid:b29542d0-50ea-4ffd-ab16-48b6d3d5b321&gt;</td>\n",
       "      <td>Forskersonen</td>\n",
       "      <td>None</td>\n",
       "      <td>https://forskersonen.no:443/jul-mat-meninger/e...</td>\n",
       "      <td>None</td>\n",
       "      <td>None</td>\n",
       "      <td>Oslo</td>\n",
       "      <td>20220531</td>\n",
       "      <td>2022</td>\n",
       "      <td>forskersonen.no</td>\n",
       "      <td>nob</td>\n",
       "      <td>None</td>\n",
       "      <td>None</td>\n",
       "      <td>None</td>\n",
       "      <td>None</td>\n",
       "      <td>nettavis</td>\n",
       "    </tr>\n",
       "    <tr>\n",
       "      <th>1143</th>\n",
       "      <td>600965830</td>\n",
       "      <td>&lt;urn:uuid:8e9820e5-bf33-4443-8857-e093f02961bf&gt;</td>\n",
       "      <td>Helgelands Blad</td>\n",
       "      <td>None</td>\n",
       "      <td>https://www.hblad.no:443/nyheter/mat/</td>\n",
       "      <td>None</td>\n",
       "      <td>None</td>\n",
       "      <td>Sandnessjøen</td>\n",
       "      <td>20200313</td>\n",
       "      <td>2020</td>\n",
       "      <td>hblad.no</td>\n",
       "      <td>nob</td>\n",
       "      <td>None</td>\n",
       "      <td>None</td>\n",
       "      <td>None</td>\n",
       "      <td>None</td>\n",
       "      <td>nettavis</td>\n",
       "    </tr>\n",
       "  </tbody>\n",
       "</table>\n",
       "<p>1144 rows × 17 columns</p>\n",
       "</div>"
      ],
      "text/plain": [
       "        dhlabid                                              urn  \\\n",
       "0     601780681  <urn:uuid:8b066b9f-3049-4139-bbb7-cbc4144c24fc>   \n",
       "1     601830982  <urn:uuid:4c308f23-e163-4cc1-998b-1e103362fd36>   \n",
       "2     601783108  <urn:uuid:e51f1806-617f-4846-91a4-3127431ca860>   \n",
       "3     601764881  <urn:uuid:713a401b-f401-40f6-b44f-33d293fafcde>   \n",
       "4     601763555  <urn:uuid:16e3d478-22b6-4aad-8185-2e4b40689b7b>   \n",
       "...         ...                                              ...   \n",
       "1139  600808897  <urn:uuid:2ec56b25-8496-42ef-9709-cc095653c08b>   \n",
       "1140  600998260  <urn:uuid:7a9bca24-f36c-44ae-b668-d6b5bf98d76c>   \n",
       "1141  600925102  <urn:uuid:f11c5179-b367-4eef-a2bb-95a6ec31a746>   \n",
       "1142  600805170  <urn:uuid:b29542d0-50ea-4ffd-ab16-48b6d3d5b321>   \n",
       "1143  600965830  <urn:uuid:8e9820e5-bf33-4443-8857-e093f02961bf>   \n",
       "\n",
       "                   title authors  \\\n",
       "0                     VG    None   \n",
       "1                Ås Avis    None   \n",
       "2                     VG    None   \n",
       "3                     VG    None   \n",
       "4                     VG    None   \n",
       "...                  ...     ...   \n",
       "1139        Forskning.no    None   \n",
       "1140            iHarstad    None   \n",
       "1141  Hamar Arbeiderblad    None   \n",
       "1142        Forskersonen    None   \n",
       "1143     Helgelands Blad    None   \n",
       "\n",
       "                                                  oaiid sesamid isbn10  \\\n",
       "0     https://www.vg.no:443/nyheter/innenriks/i/G3nO...    None   None   \n",
       "1     https://www.aasavis.no:443/vi-tar-tilbake-tryg...    None   None   \n",
       "2     https://www.vg.no:443/forbruker/mat-og-drikke/...    None   None   \n",
       "3              https://tvguide.vg.no:443/p/1JDDVq-v-khe    None   None   \n",
       "4     https://www.vg.no:443/nyheter/utenriks/i/gWvWG...    None   None   \n",
       "...                                                 ...     ...    ...   \n",
       "1139  https://forskning.no:443/landbruk-mat-partner/...    None   None   \n",
       "1140  https://www.iharstad.no:443/hekta-pa-mat-en-ga...    None   None   \n",
       "1141              https://www.h-a.no:443/tag/vinspalte/    None   None   \n",
       "1142  https://forskersonen.no:443/jul-mat-meninger/e...    None   None   \n",
       "1143              https://www.hblad.no:443/nyheter/mat/    None   None   \n",
       "\n",
       "              city  timestamp  year        publisher langs subjects   ddc  \\\n",
       "0             Oslo   20211222  2021            vg.no   nob     None  None   \n",
       "1               Ås   20220613  2022       aasavis.no   nob     None  None   \n",
       "2             Oslo   20200509  2020            vg.no   nob     None  None   \n",
       "3             Oslo   20200526  2020            vg.no   nob     None  None   \n",
       "4             Oslo   20210101  2021            vg.no   nob     None  None   \n",
       "...            ...        ...   ...              ...   ...      ...   ...   \n",
       "1139          Oslo   20200221  2020     forskning.no   nob     None  None   \n",
       "1140       Harstad   20211030  2021      iharstad.no   nob     None  None   \n",
       "1141         Hamar   20200902  2020           h-a.no   nob     None  None   \n",
       "1142          Oslo   20220531  2022  forskersonen.no   nob     None  None   \n",
       "1143  Sandnessjøen   20200313  2020         hblad.no   nob     None  None   \n",
       "\n",
       "     genres literaryform   doctype  \n",
       "0      None         None  nettavis  \n",
       "1      None         None  nettavis  \n",
       "2      None         None  nettavis  \n",
       "3      None         None  nettavis  \n",
       "4      None         None  nettavis  \n",
       "...     ...          ...       ...  \n",
       "1139   None         None  nettavis  \n",
       "1140   None         None  nettavis  \n",
       "1141   None         None  nettavis  \n",
       "1142   None         None  nettavis  \n",
       "1143   None         None  nettavis  \n",
       "\n",
       "[1144 rows x 17 columns]"
      ]
     },
     "execution_count": 53,
     "metadata": {},
     "output_type": "execute_result"
    }
   ],
   "source": [
    "corpus = dh.Corpus(doctype=\"nettavis\", fulltext=\"ribbe\", limit=100000)\n",
    "corpus"
   ]
  },
  {
   "cell_type": "markdown",
   "id": "437127c1-e8ee-4c9b-a226-093fcd636dc0",
   "metadata": {},
   "source": [
    "## 1.2 Innsikt i korpus (visualisering)"
   ]
  },
  {
   "cell_type": "markdown",
   "id": "ae5c34f7-93e7-497c-a3cf-a4b7d057b208",
   "metadata": {},
   "source": [
    "Før du går videre og analyserer teksten ønsker du kanskje innsikt i korpuset du har bygget? La oss visualisere hvordan tekstene fordeler seg etter år, publikasjoner og språk."
   ]
  },
  {
   "cell_type": "markdown",
   "id": "7af85297-d461-46d7-8a43-eb10a65ab9e6",
   "metadata": {},
   "source": [
    "### 1.2.1 Antall tekster per år (stolpediagram)"
   ]
  },
  {
   "cell_type": "code",
   "execution_count": 54,
   "id": "ea8b3448-2e05-43ad-9728-fd6a4c106e68",
   "metadata": {},
   "outputs": [
    {
     "data": {
      "application/vnd.plotly.v1+json": {
       "config": {
        "plotlyServerURL": "https://plot.ly"
       },
       "data": [
        {
         "alignmentgroup": "True",
         "hovertemplate": "År=%{x}<br>Antall tekster=%{y}<extra></extra>",
         "legendgroup": "",
         "marker": {
          "color": "#636efa",
          "pattern": {
           "shape": ""
          }
         },
         "name": "",
         "offsetgroup": "",
         "orientation": "v",
         "showlegend": false,
         "textposition": "auto",
         "type": "bar",
         "x": [
          "2019",
          "2020",
          "2021",
          "2022"
         ],
         "xaxis": "x",
         "y": [
          24,
          420,
          571,
          129
         ],
         "yaxis": "y"
        }
       ],
       "layout": {
        "autosize": true,
        "barmode": "relative",
        "legend": {
         "tracegroupgap": 0
        },
        "template": {
         "data": {
          "bar": [
           {
            "error_x": {
             "color": "#2a3f5f"
            },
            "error_y": {
             "color": "#2a3f5f"
            },
            "marker": {
             "line": {
              "color": "#E5ECF6",
              "width": 0.5
             },
             "pattern": {
              "fillmode": "overlay",
              "size": 10,
              "solidity": 0.2
             }
            },
            "type": "bar"
           }
          ],
          "barpolar": [
           {
            "marker": {
             "line": {
              "color": "#E5ECF6",
              "width": 0.5
             },
             "pattern": {
              "fillmode": "overlay",
              "size": 10,
              "solidity": 0.2
             }
            },
            "type": "barpolar"
           }
          ],
          "carpet": [
           {
            "aaxis": {
             "endlinecolor": "#2a3f5f",
             "gridcolor": "white",
             "linecolor": "white",
             "minorgridcolor": "white",
             "startlinecolor": "#2a3f5f"
            },
            "baxis": {
             "endlinecolor": "#2a3f5f",
             "gridcolor": "white",
             "linecolor": "white",
             "minorgridcolor": "white",
             "startlinecolor": "#2a3f5f"
            },
            "type": "carpet"
           }
          ],
          "choropleth": [
           {
            "colorbar": {
             "outlinewidth": 0,
             "ticks": ""
            },
            "type": "choropleth"
           }
          ],
          "contour": [
           {
            "colorbar": {
             "outlinewidth": 0,
             "ticks": ""
            },
            "colorscale": [
             [
              0,
              "#0d0887"
             ],
             [
              0.1111111111111111,
              "#46039f"
             ],
             [
              0.2222222222222222,
              "#7201a8"
             ],
             [
              0.3333333333333333,
              "#9c179e"
             ],
             [
              0.4444444444444444,
              "#bd3786"
             ],
             [
              0.5555555555555556,
              "#d8576b"
             ],
             [
              0.6666666666666666,
              "#ed7953"
             ],
             [
              0.7777777777777778,
              "#fb9f3a"
             ],
             [
              0.8888888888888888,
              "#fdca26"
             ],
             [
              1,
              "#f0f921"
             ]
            ],
            "type": "contour"
           }
          ],
          "contourcarpet": [
           {
            "colorbar": {
             "outlinewidth": 0,
             "ticks": ""
            },
            "type": "contourcarpet"
           }
          ],
          "heatmap": [
           {
            "colorbar": {
             "outlinewidth": 0,
             "ticks": ""
            },
            "colorscale": [
             [
              0,
              "#0d0887"
             ],
             [
              0.1111111111111111,
              "#46039f"
             ],
             [
              0.2222222222222222,
              "#7201a8"
             ],
             [
              0.3333333333333333,
              "#9c179e"
             ],
             [
              0.4444444444444444,
              "#bd3786"
             ],
             [
              0.5555555555555556,
              "#d8576b"
             ],
             [
              0.6666666666666666,
              "#ed7953"
             ],
             [
              0.7777777777777778,
              "#fb9f3a"
             ],
             [
              0.8888888888888888,
              "#fdca26"
             ],
             [
              1,
              "#f0f921"
             ]
            ],
            "type": "heatmap"
           }
          ],
          "heatmapgl": [
           {
            "colorbar": {
             "outlinewidth": 0,
             "ticks": ""
            },
            "colorscale": [
             [
              0,
              "#0d0887"
             ],
             [
              0.1111111111111111,
              "#46039f"
             ],
             [
              0.2222222222222222,
              "#7201a8"
             ],
             [
              0.3333333333333333,
              "#9c179e"
             ],
             [
              0.4444444444444444,
              "#bd3786"
             ],
             [
              0.5555555555555556,
              "#d8576b"
             ],
             [
              0.6666666666666666,
              "#ed7953"
             ],
             [
              0.7777777777777778,
              "#fb9f3a"
             ],
             [
              0.8888888888888888,
              "#fdca26"
             ],
             [
              1,
              "#f0f921"
             ]
            ],
            "type": "heatmapgl"
           }
          ],
          "histogram": [
           {
            "marker": {
             "pattern": {
              "fillmode": "overlay",
              "size": 10,
              "solidity": 0.2
             }
            },
            "type": "histogram"
           }
          ],
          "histogram2d": [
           {
            "colorbar": {
             "outlinewidth": 0,
             "ticks": ""
            },
            "colorscale": [
             [
              0,
              "#0d0887"
             ],
             [
              0.1111111111111111,
              "#46039f"
             ],
             [
              0.2222222222222222,
              "#7201a8"
             ],
             [
              0.3333333333333333,
              "#9c179e"
             ],
             [
              0.4444444444444444,
              "#bd3786"
             ],
             [
              0.5555555555555556,
              "#d8576b"
             ],
             [
              0.6666666666666666,
              "#ed7953"
             ],
             [
              0.7777777777777778,
              "#fb9f3a"
             ],
             [
              0.8888888888888888,
              "#fdca26"
             ],
             [
              1,
              "#f0f921"
             ]
            ],
            "type": "histogram2d"
           }
          ],
          "histogram2dcontour": [
           {
            "colorbar": {
             "outlinewidth": 0,
             "ticks": ""
            },
            "colorscale": [
             [
              0,
              "#0d0887"
             ],
             [
              0.1111111111111111,
              "#46039f"
             ],
             [
              0.2222222222222222,
              "#7201a8"
             ],
             [
              0.3333333333333333,
              "#9c179e"
             ],
             [
              0.4444444444444444,
              "#bd3786"
             ],
             [
              0.5555555555555556,
              "#d8576b"
             ],
             [
              0.6666666666666666,
              "#ed7953"
             ],
             [
              0.7777777777777778,
              "#fb9f3a"
             ],
             [
              0.8888888888888888,
              "#fdca26"
             ],
             [
              1,
              "#f0f921"
             ]
            ],
            "type": "histogram2dcontour"
           }
          ],
          "mesh3d": [
           {
            "colorbar": {
             "outlinewidth": 0,
             "ticks": ""
            },
            "type": "mesh3d"
           }
          ],
          "parcoords": [
           {
            "line": {
             "colorbar": {
              "outlinewidth": 0,
              "ticks": ""
             }
            },
            "type": "parcoords"
           }
          ],
          "pie": [
           {
            "automargin": true,
            "type": "pie"
           }
          ],
          "scatter": [
           {
            "fillpattern": {
             "fillmode": "overlay",
             "size": 10,
             "solidity": 0.2
            },
            "type": "scatter"
           }
          ],
          "scatter3d": [
           {
            "line": {
             "colorbar": {
              "outlinewidth": 0,
              "ticks": ""
             }
            },
            "marker": {
             "colorbar": {
              "outlinewidth": 0,
              "ticks": ""
             }
            },
            "type": "scatter3d"
           }
          ],
          "scattercarpet": [
           {
            "marker": {
             "colorbar": {
              "outlinewidth": 0,
              "ticks": ""
             }
            },
            "type": "scattercarpet"
           }
          ],
          "scattergeo": [
           {
            "marker": {
             "colorbar": {
              "outlinewidth": 0,
              "ticks": ""
             }
            },
            "type": "scattergeo"
           }
          ],
          "scattergl": [
           {
            "marker": {
             "colorbar": {
              "outlinewidth": 0,
              "ticks": ""
             }
            },
            "type": "scattergl"
           }
          ],
          "scattermapbox": [
           {
            "marker": {
             "colorbar": {
              "outlinewidth": 0,
              "ticks": ""
             }
            },
            "type": "scattermapbox"
           }
          ],
          "scatterpolar": [
           {
            "marker": {
             "colorbar": {
              "outlinewidth": 0,
              "ticks": ""
             }
            },
            "type": "scatterpolar"
           }
          ],
          "scatterpolargl": [
           {
            "marker": {
             "colorbar": {
              "outlinewidth": 0,
              "ticks": ""
             }
            },
            "type": "scatterpolargl"
           }
          ],
          "scatterternary": [
           {
            "marker": {
             "colorbar": {
              "outlinewidth": 0,
              "ticks": ""
             }
            },
            "type": "scatterternary"
           }
          ],
          "surface": [
           {
            "colorbar": {
             "outlinewidth": 0,
             "ticks": ""
            },
            "colorscale": [
             [
              0,
              "#0d0887"
             ],
             [
              0.1111111111111111,
              "#46039f"
             ],
             [
              0.2222222222222222,
              "#7201a8"
             ],
             [
              0.3333333333333333,
              "#9c179e"
             ],
             [
              0.4444444444444444,
              "#bd3786"
             ],
             [
              0.5555555555555556,
              "#d8576b"
             ],
             [
              0.6666666666666666,
              "#ed7953"
             ],
             [
              0.7777777777777778,
              "#fb9f3a"
             ],
             [
              0.8888888888888888,
              "#fdca26"
             ],
             [
              1,
              "#f0f921"
             ]
            ],
            "type": "surface"
           }
          ],
          "table": [
           {
            "cells": {
             "fill": {
              "color": "#EBF0F8"
             },
             "line": {
              "color": "white"
             }
            },
            "header": {
             "fill": {
              "color": "#C8D4E3"
             },
             "line": {
              "color": "white"
             }
            },
            "type": "table"
           }
          ]
         },
         "layout": {
          "annotationdefaults": {
           "arrowcolor": "#2a3f5f",
           "arrowhead": 0,
           "arrowwidth": 1
          },
          "autotypenumbers": "strict",
          "coloraxis": {
           "colorbar": {
            "outlinewidth": 0,
            "ticks": ""
           }
          },
          "colorscale": {
           "diverging": [
            [
             0,
             "#8e0152"
            ],
            [
             0.1,
             "#c51b7d"
            ],
            [
             0.2,
             "#de77ae"
            ],
            [
             0.3,
             "#f1b6da"
            ],
            [
             0.4,
             "#fde0ef"
            ],
            [
             0.5,
             "#f7f7f7"
            ],
            [
             0.6,
             "#e6f5d0"
            ],
            [
             0.7,
             "#b8e186"
            ],
            [
             0.8,
             "#7fbc41"
            ],
            [
             0.9,
             "#4d9221"
            ],
            [
             1,
             "#276419"
            ]
           ],
           "sequential": [
            [
             0,
             "#0d0887"
            ],
            [
             0.1111111111111111,
             "#46039f"
            ],
            [
             0.2222222222222222,
             "#7201a8"
            ],
            [
             0.3333333333333333,
             "#9c179e"
            ],
            [
             0.4444444444444444,
             "#bd3786"
            ],
            [
             0.5555555555555556,
             "#d8576b"
            ],
            [
             0.6666666666666666,
             "#ed7953"
            ],
            [
             0.7777777777777778,
             "#fb9f3a"
            ],
            [
             0.8888888888888888,
             "#fdca26"
            ],
            [
             1,
             "#f0f921"
            ]
           ],
           "sequentialminus": [
            [
             0,
             "#0d0887"
            ],
            [
             0.1111111111111111,
             "#46039f"
            ],
            [
             0.2222222222222222,
             "#7201a8"
            ],
            [
             0.3333333333333333,
             "#9c179e"
            ],
            [
             0.4444444444444444,
             "#bd3786"
            ],
            [
             0.5555555555555556,
             "#d8576b"
            ],
            [
             0.6666666666666666,
             "#ed7953"
            ],
            [
             0.7777777777777778,
             "#fb9f3a"
            ],
            [
             0.8888888888888888,
             "#fdca26"
            ],
            [
             1,
             "#f0f921"
            ]
           ]
          },
          "colorway": [
           "#636efa",
           "#EF553B",
           "#00cc96",
           "#ab63fa",
           "#FFA15A",
           "#19d3f3",
           "#FF6692",
           "#B6E880",
           "#FF97FF",
           "#FECB52"
          ],
          "font": {
           "color": "#2a3f5f"
          },
          "geo": {
           "bgcolor": "white",
           "lakecolor": "white",
           "landcolor": "#E5ECF6",
           "showlakes": true,
           "showland": true,
           "subunitcolor": "white"
          },
          "hoverlabel": {
           "align": "left"
          },
          "hovermode": "closest",
          "mapbox": {
           "style": "light"
          },
          "paper_bgcolor": "white",
          "plot_bgcolor": "#E5ECF6",
          "polar": {
           "angularaxis": {
            "gridcolor": "white",
            "linecolor": "white",
            "ticks": ""
           },
           "bgcolor": "#E5ECF6",
           "radialaxis": {
            "gridcolor": "white",
            "linecolor": "white",
            "ticks": ""
           }
          },
          "scene": {
           "xaxis": {
            "backgroundcolor": "#E5ECF6",
            "gridcolor": "white",
            "gridwidth": 2,
            "linecolor": "white",
            "showbackground": true,
            "ticks": "",
            "zerolinecolor": "white"
           },
           "yaxis": {
            "backgroundcolor": "#E5ECF6",
            "gridcolor": "white",
            "gridwidth": 2,
            "linecolor": "white",
            "showbackground": true,
            "ticks": "",
            "zerolinecolor": "white"
           },
           "zaxis": {
            "backgroundcolor": "#E5ECF6",
            "gridcolor": "white",
            "gridwidth": 2,
            "linecolor": "white",
            "showbackground": true,
            "ticks": "",
            "zerolinecolor": "white"
           }
          },
          "shapedefaults": {
           "line": {
            "color": "#2a3f5f"
           }
          },
          "ternary": {
           "aaxis": {
            "gridcolor": "white",
            "linecolor": "white",
            "ticks": ""
           },
           "baxis": {
            "gridcolor": "white",
            "linecolor": "white",
            "ticks": ""
           },
           "bgcolor": "#E5ECF6",
           "caxis": {
            "gridcolor": "white",
            "linecolor": "white",
            "ticks": ""
           }
          },
          "title": {
           "x": 0.05
          },
          "xaxis": {
           "automargin": true,
           "gridcolor": "white",
           "linecolor": "white",
           "ticks": "",
           "title": {
            "standoff": 15
           },
           "zerolinecolor": "white",
           "zerolinewidth": 2
          },
          "yaxis": {
           "automargin": true,
           "gridcolor": "white",
           "linecolor": "white",
           "ticks": "",
           "title": {
            "standoff": 15
           },
           "zerolinecolor": "white",
           "zerolinewidth": 2
          }
         }
        },
        "title": {
         "text": "Antall tekster per år"
        },
        "xaxis": {
         "anchor": "y",
         "autorange": true,
         "domain": [
          0,
          1
         ],
         "dtick": 1,
         "range": [
          -0.5,
          3.5
         ],
         "tick0": 2019,
         "tickmode": "linear",
         "title": {
          "text": "År"
         },
         "type": "category"
        },
        "yaxis": {
         "anchor": "x",
         "autorange": true,
         "domain": [
          0,
          1
         ],
         "range": [
          0,
          601.0526315789474
         ],
         "title": {
          "text": "Antall tekster"
         },
         "type": "linear"
        }
       }
      },
      "image/png": "[encoded data removed]",
      "text/html": [
       "<div>                            <div id=\"c593dbfd-f23c-4673-bcc9-ffa2a5634d90\" class=\"plotly-graph-div\" style=\"height:525px; width:100%;\"></div>            <script type=\"text/javascript\">                require([\"plotly\"], function(Plotly) {                    window.PLOTLYENV=window.PLOTLYENV || {};                                    if (document.getElementById(\"c593dbfd-f23c-4673-bcc9-ffa2a5634d90\")) {                    Plotly.newPlot(                        \"c593dbfd-f23c-4673-bcc9-ffa2a5634d90\",                        [{\"alignmentgroup\":\"True\",\"hovertemplate\":\"\\u00c5r=%{x}\\u003cbr\\u003eAntall tekster=%{y}\\u003cextra\\u003e\\u003c\\u002fextra\\u003e\",\"legendgroup\":\"\",\"marker\":{\"color\":\"#636efa\",\"pattern\":{\"shape\":\"\"}},\"name\":\"\",\"offsetgroup\":\"\",\"orientation\":\"v\",\"showlegend\":false,\"textposition\":\"auto\",\"x\":[\"2019\",\"2020\",\"2021\",\"2022\"],\"xaxis\":\"x\",\"y\":[24,420,571,129],\"yaxis\":\"y\",\"type\":\"bar\"}],                        {\"template\":{\"data\":{\"histogram2dcontour\":[{\"type\":\"histogram2dcontour\",\"colorbar\":{\"outlinewidth\":0,\"ticks\":\"\"},\"colorscale\":[[0.0,\"#0d0887\"],[0.1111111111111111,\"#46039f\"],[0.2222222222222222,\"#7201a8\"],[0.3333333333333333,\"#9c179e\"],[0.4444444444444444,\"#bd3786\"],[0.5555555555555556,\"#d8576b\"],[0.6666666666666666,\"#ed7953\"],[0.7777777777777778,\"#fb9f3a\"],[0.8888888888888888,\"#fdca26\"],[1.0,\"#f0f921\"]]}],\"choropleth\":[{\"type\":\"choropleth\",\"colorbar\":{\"outlinewidth\":0,\"ticks\":\"\"}}],\"histogram2d\":[{\"type\":\"histogram2d\",\"colorbar\":{\"outlinewidth\":0,\"ticks\":\"\"},\"colorscale\":[[0.0,\"#0d0887\"],[0.1111111111111111,\"#46039f\"],[0.2222222222222222,\"#7201a8\"],[0.3333333333333333,\"#9c179e\"],[0.4444444444444444,\"#bd3786\"],[0.5555555555555556,\"#d8576b\"],[0.6666666666666666,\"#ed7953\"],[0.7777777777777778,\"#fb9f3a\"],[0.8888888888888888,\"#fdca26\"],[1.0,\"#f0f921\"]]}],\"heatmap\":[{\"type\":\"heatmap\",\"colorbar\":{\"outlinewidth\":0,\"ticks\":\"\"},\"colorscale\":[[0.0,\"#0d0887\"],[0.1111111111111111,\"#46039f\"],[0.2222222222222222,\"#7201a8\"],[0.3333333333333333,\"#9c179e\"],[0.4444444444444444,\"#bd3786\"],[0.5555555555555556,\"#d8576b\"],[0.6666666666666666,\"#ed7953\"],[0.7777777777777778,\"#fb9f3a\"],[0.8888888888888888,\"#fdca26\"],[1.0,\"#f0f921\"]]}],\"heatmapgl\":[{\"type\":\"heatmapgl\",\"colorbar\":{\"outlinewidth\":0,\"ticks\":\"\"},\"colorscale\":[[0.0,\"#0d0887\"],[0.1111111111111111,\"#46039f\"],[0.2222222222222222,\"#7201a8\"],[0.3333333333333333,\"#9c179e\"],[0.4444444444444444,\"#bd3786\"],[0.5555555555555556,\"#d8576b\"],[0.6666666666666666,\"#ed7953\"],[0.7777777777777778,\"#fb9f3a\"],[0.8888888888888888,\"#fdca26\"],[1.0,\"#f0f921\"]]}],\"contourcarpet\":[{\"type\":\"contourcarpet\",\"colorbar\":{\"outlinewidth\":0,\"ticks\":\"\"}}],\"contour\":[{\"type\":\"contour\",\"colorbar\":{\"outlinewidth\":0,\"ticks\":\"\"},\"colorscale\":[[0.0,\"#0d0887\"],[0.1111111111111111,\"#46039f\"],[0.2222222222222222,\"#7201a8\"],[0.3333333333333333,\"#9c179e\"],[0.4444444444444444,\"#bd3786\"],[0.5555555555555556,\"#d8576b\"],[0.6666666666666666,\"#ed7953\"],[0.7777777777777778,\"#fb9f3a\"],[0.8888888888888888,\"#fdca26\"],[1.0,\"#f0f921\"]]}],\"surface\":[{\"type\":\"surface\",\"colorbar\":{\"outlinewidth\":0,\"ticks\":\"\"},\"colorscale\":[[0.0,\"#0d0887\"],[0.1111111111111111,\"#46039f\"],[0.2222222222222222,\"#7201a8\"],[0.3333333333333333,\"#9c179e\"],[0.4444444444444444,\"#bd3786\"],[0.5555555555555556,\"#d8576b\"],[0.6666666666666666,\"#ed7953\"],[0.7777777777777778,\"#fb9f3a\"],[0.8888888888888888,\"#fdca26\"],[1.0,\"#f0f921\"]]}],\"mesh3d\":[{\"type\":\"mesh3d\",\"colorbar\":{\"outlinewidth\":0,\"ticks\":\"\"}}],\"scatter\":[{\"fillpattern\":{\"fillmode\":\"overlay\",\"size\":10,\"solidity\":0.2},\"type\":\"scatter\"}],\"parcoords\":[{\"type\":\"parcoords\",\"line\":{\"colorbar\":{\"outlinewidth\":0,\"ticks\":\"\"}}}],\"scatterpolargl\":[{\"type\":\"scatterpolargl\",\"marker\":{\"colorbar\":{\"outlinewidth\":0,\"ticks\":\"\"}}}],\"bar\":[{\"error_x\":{\"color\":\"#2a3f5f\"},\"error_y\":{\"color\":\"#2a3f5f\"},\"marker\":{\"line\":{\"color\":\"#E5ECF6\",\"width\":0.5},\"pattern\":{\"fillmode\":\"overlay\",\"size\":10,\"solidity\":0.2}},\"type\":\"bar\"}],\"scattergeo\":[{\"type\":\"scattergeo\",\"marker\":{\"colorbar\":{\"outlinewidth\":0,\"ticks\":\"\"}}}],\"scatterpolar\":[{\"type\":\"scatterpolar\",\"marker\":{\"colorbar\":{\"outlinewidth\":0,\"ticks\":\"\"}}}],\"histogram\":[{\"marker\":{\"pattern\":{\"fillmode\":\"overlay\",\"size\":10,\"solidity\":0.2}},\"type\":\"histogram\"}],\"scattergl\":[{\"type\":\"scattergl\",\"marker\":{\"colorbar\":{\"outlinewidth\":0,\"ticks\":\"\"}}}],\"scatter3d\":[{\"type\":\"scatter3d\",\"line\":{\"colorbar\":{\"outlinewidth\":0,\"ticks\":\"\"}},\"marker\":{\"colorbar\":{\"outlinewidth\":0,\"ticks\":\"\"}}}],\"scattermapbox\":[{\"type\":\"scattermapbox\",\"marker\":{\"colorbar\":{\"outlinewidth\":0,\"ticks\":\"\"}}}],\"scatterternary\":[{\"type\":\"scatterternary\",\"marker\":{\"colorbar\":{\"outlinewidth\":0,\"ticks\":\"\"}}}],\"scattercarpet\":[{\"type\":\"scattercarpet\",\"marker\":{\"colorbar\":{\"outlinewidth\":0,\"ticks\":\"\"}}}],\"carpet\":[{\"aaxis\":{\"endlinecolor\":\"#2a3f5f\",\"gridcolor\":\"white\",\"linecolor\":\"white\",\"minorgridcolor\":\"white\",\"startlinecolor\":\"#2a3f5f\"},\"baxis\":{\"endlinecolor\":\"#2a3f5f\",\"gridcolor\":\"white\",\"linecolor\":\"white\",\"minorgridcolor\":\"white\",\"startlinecolor\":\"#2a3f5f\"},\"type\":\"carpet\"}],\"table\":[{\"cells\":{\"fill\":{\"color\":\"#EBF0F8\"},\"line\":{\"color\":\"white\"}},\"header\":{\"fill\":{\"color\":\"#C8D4E3\"},\"line\":{\"color\":\"white\"}},\"type\":\"table\"}],\"barpolar\":[{\"marker\":{\"line\":{\"color\":\"#E5ECF6\",\"width\":0.5},\"pattern\":{\"fillmode\":\"overlay\",\"size\":10,\"solidity\":0.2}},\"type\":\"barpolar\"}],\"pie\":[{\"automargin\":true,\"type\":\"pie\"}]},\"layout\":{\"autotypenumbers\":\"strict\",\"colorway\":[\"#636efa\",\"#EF553B\",\"#00cc96\",\"#ab63fa\",\"#FFA15A\",\"#19d3f3\",\"#FF6692\",\"#B6E880\",\"#FF97FF\",\"#FECB52\"],\"font\":{\"color\":\"#2a3f5f\"},\"hovermode\":\"closest\",\"hoverlabel\":{\"align\":\"left\"},\"paper_bgcolor\":\"white\",\"plot_bgcolor\":\"#E5ECF6\",\"polar\":{\"bgcolor\":\"#E5ECF6\",\"angularaxis\":{\"gridcolor\":\"white\",\"linecolor\":\"white\",\"ticks\":\"\"},\"radialaxis\":{\"gridcolor\":\"white\",\"linecolor\":\"white\",\"ticks\":\"\"}},\"ternary\":{\"bgcolor\":\"#E5ECF6\",\"aaxis\":{\"gridcolor\":\"white\",\"linecolor\":\"white\",\"ticks\":\"\"},\"baxis\":{\"gridcolor\":\"white\",\"linecolor\":\"white\",\"ticks\":\"\"},\"caxis\":{\"gridcolor\":\"white\",\"linecolor\":\"white\",\"ticks\":\"\"}},\"coloraxis\":{\"colorbar\":{\"outlinewidth\":0,\"ticks\":\"\"}},\"colorscale\":{\"sequential\":[[0.0,\"#0d0887\"],[0.1111111111111111,\"#46039f\"],[0.2222222222222222,\"#7201a8\"],[0.3333333333333333,\"#9c179e\"],[0.4444444444444444,\"#bd3786\"],[0.5555555555555556,\"#d8576b\"],[0.6666666666666666,\"#ed7953\"],[0.7777777777777778,\"#fb9f3a\"],[0.8888888888888888,\"#fdca26\"],[1.0,\"#f0f921\"]],\"sequentialminus\":[[0.0,\"#0d0887\"],[0.1111111111111111,\"#46039f\"],[0.2222222222222222,\"#7201a8\"],[0.3333333333333333,\"#9c179e\"],[0.4444444444444444,\"#bd3786\"],[0.5555555555555556,\"#d8576b\"],[0.6666666666666666,\"#ed7953\"],[0.7777777777777778,\"#fb9f3a\"],[0.8888888888888888,\"#fdca26\"],[1.0,\"#f0f921\"]],\"diverging\":[[0,\"#8e0152\"],[0.1,\"#c51b7d\"],[0.2,\"#de77ae\"],[0.3,\"#f1b6da\"],[0.4,\"#fde0ef\"],[0.5,\"#f7f7f7\"],[0.6,\"#e6f5d0\"],[0.7,\"#b8e186\"],[0.8,\"#7fbc41\"],[0.9,\"#4d9221\"],[1,\"#276419\"]]},\"xaxis\":{\"gridcolor\":\"white\",\"linecolor\":\"white\",\"ticks\":\"\",\"title\":{\"standoff\":15},\"zerolinecolor\":\"white\",\"automargin\":true,\"zerolinewidth\":2},\"yaxis\":{\"gridcolor\":\"white\",\"linecolor\":\"white\",\"ticks\":\"\",\"title\":{\"standoff\":15},\"zerolinecolor\":\"white\",\"automargin\":true,\"zerolinewidth\":2},\"scene\":{\"xaxis\":{\"backgroundcolor\":\"#E5ECF6\",\"gridcolor\":\"white\",\"linecolor\":\"white\",\"showbackground\":true,\"ticks\":\"\",\"zerolinecolor\":\"white\",\"gridwidth\":2},\"yaxis\":{\"backgroundcolor\":\"#E5ECF6\",\"gridcolor\":\"white\",\"linecolor\":\"white\",\"showbackground\":true,\"ticks\":\"\",\"zerolinecolor\":\"white\",\"gridwidth\":2},\"zaxis\":{\"backgroundcolor\":\"#E5ECF6\",\"gridcolor\":\"white\",\"linecolor\":\"white\",\"showbackground\":true,\"ticks\":\"\",\"zerolinecolor\":\"white\",\"gridwidth\":2}},\"shapedefaults\":{\"line\":{\"color\":\"#2a3f5f\"}},\"annotationdefaults\":{\"arrowcolor\":\"#2a3f5f\",\"arrowhead\":0,\"arrowwidth\":1},\"geo\":{\"bgcolor\":\"white\",\"landcolor\":\"#E5ECF6\",\"subunitcolor\":\"white\",\"showland\":true,\"showlakes\":true,\"lakecolor\":\"white\"},\"title\":{\"x\":0.05},\"mapbox\":{\"style\":\"light\"}}},\"xaxis\":{\"anchor\":\"y\",\"domain\":[0.0,1.0],\"title\":{\"text\":\"\\u00c5r\"},\"tickmode\":\"linear\",\"tick0\":2019,\"dtick\":1},\"yaxis\":{\"anchor\":\"x\",\"domain\":[0.0,1.0],\"title\":{\"text\":\"Antall tekster\"}},\"legend\":{\"tracegroupgap\":0},\"title\":{\"text\":\"Antall tekster per \\u00e5r\"},\"barmode\":\"relative\"},                        {\"responsive\": true}                    ).then(function(){\n",
       "                            \n",
       "var gd = document.getElementById('c593dbfd-f23c-4673-bcc9-ffa2a5634d90');\n",
       "var x = new MutationObserver(function (mutations, observer) {{\n",
       "        var display = window.getComputedStyle(gd).display;\n",
       "        if (!display || display === 'none') {{\n",
       "            console.log([gd, 'removed!']);\n",
       "            Plotly.purge(gd);\n",
       "            observer.disconnect();\n",
       "        }}\n",
       "}});\n",
       "\n",
       "// Listen for the removal of the full notebook cells\n",
       "var notebookContainer = gd.closest('#notebook-container');\n",
       "if (notebookContainer) {{\n",
       "    x.observe(notebookContainer, {childList: true});\n",
       "}}\n",
       "\n",
       "// Listen for the clearing of the current output cell\n",
       "var outputEl = gd.closest('.output');\n",
       "if (outputEl) {{\n",
       "    x.observe(outputEl, {childList: true});\n",
       "}}\n",
       "\n",
       "                        })                };                });            </script>        </div>"
      ]
     },
     "metadata": {},
     "output_type": "display_data"
    }
   ],
   "source": [
    "telle_aar = corpus['year'].astype(str).value_counts().sort_index()\n",
    "fig = px.bar(\n",
    "    x=telle_aar.index,\n",
    "    y=telle_aar.values,\n",
    "    labels={'x': 'År', 'y': 'Antall tekster'}, \n",
    "    title='Antall tekster per år'\n",
    ")\n",
    "fig.update_layout(xaxis=dict(tickmode='linear', tick0=2019, dtick=1))\n",
    "fig.show()"
   ]
  },
  {
   "cell_type": "markdown",
   "id": "327d6911-be21-4328-a0a9-f8a7960437bf",
   "metadata": {},
   "source": [
    "### 1.2.2 Fordeling av publikasjonstitler (tree map)"
   ]
  },
  {
   "cell_type": "code",
   "execution_count": 55,
   "id": "5f816790-ffdc-419c-92d2-788da107e7a6",
   "metadata": {},
   "outputs": [
    {
     "data": {
      "application/vnd.plotly.v1+json": {
       "config": {
        "plotlyServerURL": "https://plot.ly"
       },
       "data": [
        {
         "branchvalues": "total",
         "customdata": [
          [
           27
          ],
          [
           6
          ],
          [
           16
          ],
          [
           1
          ],
          [
           1
          ],
          [
           1
          ],
          [
           4
          ],
          [
           5
          ],
          [
           4
          ],
          [
           4
          ],
          [
           3
          ],
          [
           3
          ],
          [
           7
          ],
          [
           22
          ],
          [
           1
          ],
          [
           2
          ],
          [
           5
          ],
          [
           2
          ],
          [
           2
          ],
          [
           8
          ],
          [
           23
          ],
          [
           1
          ],
          [
           20
          ],
          [
           2
          ],
          [
           27
          ],
          [
           1
          ],
          [
           4
          ],
          [
           2
          ],
          [
           5
          ],
          [
           1
          ],
          [
           14
          ],
          [
           2
          ],
          [
           2
          ],
          [
           22
          ],
          [
           1
          ],
          [
           1
          ],
          [
           1
          ],
          [
           9
          ],
          [
           47
          ],
          [
           1
          ],
          [
           1
          ],
          [
           3
          ],
          [
           1
          ],
          [
           1
          ],
          [
           3
          ],
          [
           1
          ],
          [
           7
          ],
          [
           242
          ],
          [
           3
          ],
          [
           2
          ],
          [
           1
          ],
          [
           12
          ],
          [
           14
          ],
          [
           2
          ],
          [
           5
          ],
          [
           1
          ],
          [
           2
          ],
          [
           13
          ],
          [
           3
          ],
          [
           4
          ],
          [
           4
          ],
          [
           19
          ],
          [
           2
          ],
          [
           2
          ],
          [
           2
          ],
          [
           2
          ],
          [
           1
          ],
          [
           4
          ],
          [
           6
          ],
          [
           2
          ],
          [
           2
          ],
          [
           3
          ],
          [
           37
          ],
          [
           3
          ],
          [
           7
          ],
          [
           5
          ],
          [
           7
          ],
          [
           1
          ],
          [
           3
          ],
          [
           2
          ],
          [
           7
          ],
          [
           2
          ],
          [
           3
          ],
          [
           2
          ],
          [
           5
          ],
          [
           41
          ],
          [
           6
          ],
          [
           4
          ],
          [
           2
          ],
          [
           1
          ],
          [
           2
          ],
          [
           5
          ],
          [
           15
          ],
          [
           1
          ],
          [
           2
          ],
          [
           1
          ],
          [
           1
          ],
          [
           15
          ],
          [
           2
          ],
          [
           20
          ],
          [
           2
          ],
          [
           1
          ],
          [
           2
          ],
          [
           1
          ],
          [
           6
          ],
          [
           1
          ],
          [
           29
          ],
          [
           2
          ],
          [
           1
          ],
          [
           7
          ],
          [
           4
          ],
          [
           6
          ],
          [
           2
          ],
          [
           1
          ],
          [
           1
          ],
          [
           2
          ],
          [
           11
          ],
          [
           3
          ],
          [
           2
          ],
          [
           5
          ],
          [
           96
          ],
          [
           4
          ],
          [
           2
          ],
          [
           5
          ],
          [
           3
          ],
          [
           1
          ],
          [
           1
          ],
          [
           4
          ],
          [
           2
          ],
          [
           1
          ],
          [
           5
          ],
          [
           6
          ],
          [
           15
          ],
          [
           7
          ],
          [
           1
          ],
          [
           3
          ],
          [
           5
          ],
          [
           5
          ],
          [
           2
          ],
          [
           5
          ]
         ],
         "domain": {
          "x": [
           0,
           1
          ],
          "y": [
           0,
           1
          ]
         },
         "hovertemplate": "labels=%{label}<br>value=%{value}<br>parent=%{parent}<br>id=%{id}<br>Antall tekster=%{customdata[0]}<extra></extra>",
         "ids": [
          "ABC Nyheter",
          "Adresseavisen",
          "Aftenposten",
          "Agder",
          "Agderposten",
          "Akershus Amtstidende",
          "Altaposten",
          "Alvdal midt i væla (2011-)",
          "Arbeidets Rett",
          "Arendals Tidende",
          "AuraAvis",
          "Avisa Nordland",
          "Avisa Sør-Trøndelag",
          "Bergens tidende",
          "Bladet (Stjørdalens blad)",
          "Bladet Vesterålen",
          "Bodø Nu",
          "Byavisa Drammen",
          "Bygdebladet",
          "Bygdeposten",
          "Dagbladet",
          "Dagen",
          "Dagens næringsliv",
          "Dagens perspektiv",
          "Dagsavisen",
          "DalaneTidende",
          "Din side",
          "Drammen Live24",
          "Drammens Tidende",
          "Driva",
          "E24",
          "Eidsvoll Ullensaker Blad",
          "Enebakk Avis",
          "Finansavisen",
          "Firda Tidend",
          "Fjell-Ljom",
          "Fjordabladet",
          "Forskersonen",
          "Forskning.no",
          "Framtid i Nord",
          "Fredriksstad Blad",
          "Fremover",
          "Friheten",
          "Gjengangeren",
          "Gjesdalsbuen",
          "Glåmdalen",
          "Gudbrandsdølen Dagningen",
          "Hamar Arbeiderblad",
          "Hamar Dagblad",
          "Harstad Tidende",
          "Haugesund Avis",
          "Hedalen.no",
          "Helgelands Blad",
          "Helgelendingen",
          "Hitra24",
          "Human Rights Service",
          "Inderøyningen",
          "Indre Akershus Blad",
          "Innherred.no",
          "Jarlsberg",
          "Jærbladet",
          "Khrono",
          "Klar tale",
          "Kragerø Blad Vestmar",
          "Laagendalsposten",
          "Lierposten",
          "Lofot-Tidende",
          "Lokalavisa Trysil-Engerdal",
          "Mitt Kongsvinger",
          "Morgenbladet",
          "Moss Avis",
          "N247.no",
          "NRK",
          "Namdalsavisa",
          "Nationen",
          "Natt og dag",
          "Nettavisen",
          "Nordlys",
          "Nordstrand Blad",
          "Opdalingen",
          "Opp.no",
          "P4",
          "Rakkestad avis",
          "Rana Blad",
          "Rana no",
          "Resett",
          "Ringerikes Blad",
          "Ringsaker Blad",
          "Romerikes Blad",
          "Ruijan Kaiku",
          "Røyken og Hurums Avis",
          "Sagat",
          "Sagene avis",
          "Sande Avis",
          "Sandnesposten",
          "Sognavis",
          "Stangeavisa",
          "Stavanger Aftenblad",
          "Steinkjer-Avisa",
          "Stjørdalsnytt",
          "Studvest",
          "Suldalsposten",
          "Sunnmøringen",
          "Sunnmørsposten",
          "Sykepleien",
          "Sámi magasiinna",
          "TV2",
          "Teknisk ukeblad",
          "Telemarksavisa",
          "Telen",
          "Trollheimsporten",
          "Troms Folkeblad",
          "Tromsø By",
          "Trondheim24.no",
          "Trønderavisa",
          "Tvedestrands Posten",
          "Tynsetingen.no",
          "Tønsbergs Blad",
          "Universitas",
          "Utrop",
          "VG",
          "Valdres",
          "Varden",
          "Vefsn no",
          "Vestby Avis",
          "Vesterålen online",
          "Vikebladet Vestposten",
          "Våganavisa",
          "Vårt land",
          "VårtOslo",
          "iGjerstad",
          "iHarstad",
          "iSolør.no",
          "iTromsø",
          "Ås Avis",
          "Åsane tidende",
          "Østlandets Blad",
          "Østlandsposten",
          "Østlendingen",
          "Øyene"
         ],
         "labels": [
          "ABC Nyheter",
          "Adresseavisen",
          "Aftenposten",
          "Agder",
          "Agderposten",
          "Akershus Amtstidende",
          "Altaposten",
          "Alvdal midt i væla (2011-)",
          "Arbeidets Rett",
          "Arendals Tidende",
          "AuraAvis",
          "Avisa Nordland",
          "Avisa Sør-Trøndelag",
          "Bergens tidende",
          "Bladet (Stjørdalens blad)",
          "Bladet Vesterålen",
          "Bodø Nu",
          "Byavisa Drammen",
          "Bygdebladet",
          "Bygdeposten",
          "Dagbladet",
          "Dagen",
          "Dagens næringsliv",
          "Dagens perspektiv",
          "Dagsavisen",
          "DalaneTidende",
          "Din side",
          "Drammen Live24",
          "Drammens Tidende",
          "Driva",
          "E24",
          "Eidsvoll Ullensaker Blad",
          "Enebakk Avis",
          "Finansavisen",
          "Firda Tidend",
          "Fjell-Ljom",
          "Fjordabladet",
          "Forskersonen",
          "Forskning.no",
          "Framtid i Nord",
          "Fredriksstad Blad",
          "Fremover",
          "Friheten",
          "Gjengangeren",
          "Gjesdalsbuen",
          "Glåmdalen",
          "Gudbrandsdølen Dagningen",
          "Hamar Arbeiderblad",
          "Hamar Dagblad",
          "Harstad Tidende",
          "Haugesund Avis",
          "Hedalen.no",
          "Helgelands Blad",
          "Helgelendingen",
          "Hitra24",
          "Human Rights Service",
          "Inderøyningen",
          "Indre Akershus Blad",
          "Innherred.no",
          "Jarlsberg",
          "Jærbladet",
          "Khrono",
          "Klar tale",
          "Kragerø Blad Vestmar",
          "Laagendalsposten",
          "Lierposten",
          "Lofot-Tidende",
          "Lokalavisa Trysil-Engerdal",
          "Mitt Kongsvinger",
          "Morgenbladet",
          "Moss Avis",
          "N247.no",
          "NRK",
          "Namdalsavisa",
          "Nationen",
          "Natt og dag",
          "Nettavisen",
          "Nordlys",
          "Nordstrand Blad",
          "Opdalingen",
          "Opp.no",
          "P4",
          "Rakkestad avis",
          "Rana Blad",
          "Rana no",
          "Resett",
          "Ringerikes Blad",
          "Ringsaker Blad",
          "Romerikes Blad",
          "Ruijan Kaiku",
          "Røyken og Hurums Avis",
          "Sagat",
          "Sagene avis",
          "Sande Avis",
          "Sandnesposten",
          "Sognavis",
          "Stangeavisa",
          "Stavanger Aftenblad",
          "Steinkjer-Avisa",
          "Stjørdalsnytt",
          "Studvest",
          "Suldalsposten",
          "Sunnmøringen",
          "Sunnmørsposten",
          "Sykepleien",
          "Sámi magasiinna",
          "TV2",
          "Teknisk ukeblad",
          "Telemarksavisa",
          "Telen",
          "Trollheimsporten",
          "Troms Folkeblad",
          "Tromsø By",
          "Trondheim24.no",
          "Trønderavisa",
          "Tvedestrands Posten",
          "Tynsetingen.no",
          "Tønsbergs Blad",
          "Universitas",
          "Utrop",
          "VG",
          "Valdres",
          "Varden",
          "Vefsn no",
          "Vestby Avis",
          "Vesterålen online",
          "Vikebladet Vestposten",
          "Våganavisa",
          "Vårt land",
          "VårtOslo",
          "iGjerstad",
          "iHarstad",
          "iSolør.no",
          "iTromsø",
          "Ås Avis",
          "Åsane tidende",
          "Østlandets Blad",
          "Østlandsposten",
          "Østlendingen",
          "Øyene"
         ],
         "name": "",
         "parents": [
          "",
          "",
          "",
          "",
          "",
          "",
          "",
          "",
          "",
          "",
          "",
          "",
          "",
          "",
          "",
          "",
          "",
          "",
          "",
          "",
          "",
          "",
          "",
          "",
          "",
          "",
          "",
          "",
          "",
          "",
          "",
          "",
          "",
          "",
          "",
          "",
          "",
          "",
          "",
          "",
          "",
          "",
          "",
          "",
          "",
          "",
          "",
          "",
          "",
          "",
          "",
          "",
          "",
          "",
          "",
          "",
          "",
          "",
          "",
          "",
          "",
          "",
          "",
          "",
          "",
          "",
          "",
          "",
          "",
          "",
          "",
          "",
          "",
          "",
          "",
          "",
          "",
          "",
          "",
          "",
          "",
          "",
          "",
          "",
          "",
          "",
          "",
          "",
          "",
          "",
          "",
          "",
          "",
          "",
          "",
          "",
          "",
          "",
          "",
          "",
          "",
          "",
          "",
          "",
          "",
          "",
          "",
          "",
          "",
          "",
          "",
          "",
          "",
          "",
          "",
          "",
          "",
          "",
          "",
          "",
          "",
          "",
          "",
          "",
          "",
          "",
          "",
          "",
          "",
          "",
          "",
          "",
          "",
          "",
          "",
          "",
          "",
          "",
          "",
          ""
         ],
         "type": "treemap",
         "values": [
          27,
          6,
          16,
          1,
          1,
          1,
          4,
          5,
          4,
          4,
          3,
          3,
          7,
          22,
          1,
          2,
          5,
          2,
          2,
          8,
          23,
          1,
          20,
          2,
          27,
          1,
          4,
          2,
          5,
          1,
          14,
          2,
          2,
          22,
          1,
          1,
          1,
          9,
          47,
          1,
          1,
          3,
          1,
          1,
          3,
          1,
          7,
          242,
          3,
          2,
          1,
          12,
          14,
          2,
          5,
          1,
          2,
          13,
          3,
          4,
          4,
          19,
          2,
          2,
          2,
          2,
          1,
          4,
          6,
          2,
          2,
          3,
          37,
          3,
          7,
          5,
          7,
          1,
          3,
          2,
          7,
          2,
          3,
          2,
          5,
          41,
          6,
          4,
          2,
          1,
          2,
          5,
          15,
          1,
          2,
          1,
          1,
          15,
          2,
          20,
          2,
          1,
          2,
          1,
          6,
          1,
          29,
          2,
          1,
          7,
          4,
          6,
          2,
          1,
          1,
          2,
          11,
          3,
          2,
          5,
          96,
          4,
          2,
          5,
          3,
          1,
          1,
          4,
          2,
          1,
          5,
          6,
          15,
          7,
          1,
          3,
          5,
          5,
          2,
          5
         ]
        }
       ],
       "layout": {
        "autosize": true,
        "legend": {
         "tracegroupgap": 0
        },
        "template": {
         "data": {
          "bar": [
           {
            "error_x": {
             "color": "#2a3f5f"
            },
            "error_y": {
             "color": "#2a3f5f"
            },
            "marker": {
             "line": {
              "color": "#E5ECF6",
              "width": 0.5
             },
             "pattern": {
              "fillmode": "overlay",
              "size": 10,
              "solidity": 0.2
             }
            },
            "type": "bar"
           }
          ],
          "barpolar": [
           {
            "marker": {
             "line": {
              "color": "#E5ECF6",
              "width": 0.5
             },
             "pattern": {
              "fillmode": "overlay",
              "size": 10,
              "solidity": 0.2
             }
            },
            "type": "barpolar"
           }
          ],
          "carpet": [
           {
            "aaxis": {
             "endlinecolor": "#2a3f5f",
             "gridcolor": "white",
             "linecolor": "white",
             "minorgridcolor": "white",
             "startlinecolor": "#2a3f5f"
            },
            "baxis": {
             "endlinecolor": "#2a3f5f",
             "gridcolor": "white",
             "linecolor": "white",
             "minorgridcolor": "white",
             "startlinecolor": "#2a3f5f"
            },
            "type": "carpet"
           }
          ],
          "choropleth": [
           {
            "colorbar": {
             "outlinewidth": 0,
             "ticks": ""
            },
            "type": "choropleth"
           }
          ],
          "contour": [
           {
            "colorbar": {
             "outlinewidth": 0,
             "ticks": ""
            },
            "colorscale": [
             [
              0,
              "#0d0887"
             ],
             [
              0.1111111111111111,
              "#46039f"
             ],
             [
              0.2222222222222222,
              "#7201a8"
             ],
             [
              0.3333333333333333,
              "#9c179e"
             ],
             [
              0.4444444444444444,
              "#bd3786"
             ],
             [
              0.5555555555555556,
              "#d8576b"
             ],
             [
              0.6666666666666666,
              "#ed7953"
             ],
             [
              0.7777777777777778,
              "#fb9f3a"
             ],
             [
              0.8888888888888888,
              "#fdca26"
             ],
             [
              1,
              "#f0f921"
             ]
            ],
            "type": "contour"
           }
          ],
          "contourcarpet": [
           {
            "colorbar": {
             "outlinewidth": 0,
             "ticks": ""
            },
            "type": "contourcarpet"
           }
          ],
          "heatmap": [
           {
            "colorbar": {
             "outlinewidth": 0,
             "ticks": ""
            },
            "colorscale": [
             [
              0,
              "#0d0887"
             ],
             [
              0.1111111111111111,
              "#46039f"
             ],
             [
              0.2222222222222222,
              "#7201a8"
             ],
             [
              0.3333333333333333,
              "#9c179e"
             ],
             [
              0.4444444444444444,
              "#bd3786"
             ],
             [
              0.5555555555555556,
              "#d8576b"
             ],
             [
              0.6666666666666666,
              "#ed7953"
             ],
             [
              0.7777777777777778,
              "#fb9f3a"
             ],
             [
              0.8888888888888888,
              "#fdca26"
             ],
             [
              1,
              "#f0f921"
             ]
            ],
            "type": "heatmap"
           }
          ],
          "heatmapgl": [
           {
            "colorbar": {
             "outlinewidth": 0,
             "ticks": ""
            },
            "colorscale": [
             [
              0,
              "#0d0887"
             ],
             [
              0.1111111111111111,
              "#46039f"
             ],
             [
              0.2222222222222222,
              "#7201a8"
             ],
             [
              0.3333333333333333,
              "#9c179e"
             ],
             [
              0.4444444444444444,
              "#bd3786"
             ],
             [
              0.5555555555555556,
              "#d8576b"
             ],
             [
              0.6666666666666666,
              "#ed7953"
             ],
             [
              0.7777777777777778,
              "#fb9f3a"
             ],
             [
              0.8888888888888888,
              "#fdca26"
             ],
             [
              1,
              "#f0f921"
             ]
            ],
            "type": "heatmapgl"
           }
          ],
          "histogram": [
           {
            "marker": {
             "pattern": {
              "fillmode": "overlay",
              "size": 10,
              "solidity": 0.2
             }
            },
            "type": "histogram"
           }
          ],
          "histogram2d": [
           {
            "colorbar": {
             "outlinewidth": 0,
             "ticks": ""
            },
            "colorscale": [
             [
              0,
              "#0d0887"
             ],
             [
              0.1111111111111111,
              "#46039f"
             ],
             [
              0.2222222222222222,
              "#7201a8"
             ],
             [
              0.3333333333333333,
              "#9c179e"
             ],
             [
              0.4444444444444444,
              "#bd3786"
             ],
             [
              0.5555555555555556,
              "#d8576b"
             ],
             [
              0.6666666666666666,
              "#ed7953"
             ],
             [
              0.7777777777777778,
              "#fb9f3a"
             ],
             [
              0.8888888888888888,
              "#fdca26"
             ],
             [
              1,
              "#f0f921"
             ]
            ],
            "type": "histogram2d"
           }
          ],
          "histogram2dcontour": [
           {
            "colorbar": {
             "outlinewidth": 0,
             "ticks": ""
            },
            "colorscale": [
             [
              0,
              "#0d0887"
             ],
             [
              0.1111111111111111,
              "#46039f"
             ],
             [
              0.2222222222222222,
              "#7201a8"
             ],
             [
              0.3333333333333333,
              "#9c179e"
             ],
             [
              0.4444444444444444,
              "#bd3786"
             ],
             [
              0.5555555555555556,
              "#d8576b"
             ],
             [
              0.6666666666666666,
              "#ed7953"
             ],
             [
              0.7777777777777778,
              "#fb9f3a"
             ],
             [
              0.8888888888888888,
              "#fdca26"
             ],
             [
              1,
              "#f0f921"
             ]
            ],
            "type": "histogram2dcontour"
           }
          ],
          "mesh3d": [
           {
            "colorbar": {
             "outlinewidth": 0,
             "ticks": ""
            },
            "type": "mesh3d"
           }
          ],
          "parcoords": [
           {
            "line": {
             "colorbar": {
              "outlinewidth": 0,
              "ticks": ""
             }
            },
            "type": "parcoords"
           }
          ],
          "pie": [
           {
            "automargin": true,
            "type": "pie"
           }
          ],
          "scatter": [
           {
            "fillpattern": {
             "fillmode": "overlay",
             "size": 10,
             "solidity": 0.2
            },
            "type": "scatter"
           }
          ],
          "scatter3d": [
           {
            "line": {
             "colorbar": {
              "outlinewidth": 0,
              "ticks": ""
             }
            },
            "marker": {
             "colorbar": {
              "outlinewidth": 0,
              "ticks": ""
             }
            },
            "type": "scatter3d"
           }
          ],
          "scattercarpet": [
           {
            "marker": {
             "colorbar": {
              "outlinewidth": 0,
              "ticks": ""
             }
            },
            "type": "scattercarpet"
           }
          ],
          "scattergeo": [
           {
            "marker": {
             "colorbar": {
              "outlinewidth": 0,
              "ticks": ""
             }
            },
            "type": "scattergeo"
           }
          ],
          "scattergl": [
           {
            "marker": {
             "colorbar": {
              "outlinewidth": 0,
              "ticks": ""
             }
            },
            "type": "scattergl"
           }
          ],
          "scattermapbox": [
           {
            "marker": {
             "colorbar": {
              "outlinewidth": 0,
              "ticks": ""
             }
            },
            "type": "scattermapbox"
           }
          ],
          "scatterpolar": [
           {
            "marker": {
             "colorbar": {
              "outlinewidth": 0,
              "ticks": ""
             }
            },
            "type": "scatterpolar"
           }
          ],
          "scatterpolargl": [
           {
            "marker": {
             "colorbar": {
              "outlinewidth": 0,
              "ticks": ""
             }
            },
            "type": "scatterpolargl"
           }
          ],
          "scatterternary": [
           {
            "marker": {
             "colorbar": {
              "outlinewidth": 0,
              "ticks": ""
             }
            },
            "type": "scatterternary"
           }
          ],
          "surface": [
           {
            "colorbar": {
             "outlinewidth": 0,
             "ticks": ""
            },
            "colorscale": [
             [
              0,
              "#0d0887"
             ],
             [
              0.1111111111111111,
              "#46039f"
             ],
             [
              0.2222222222222222,
              "#7201a8"
             ],
             [
              0.3333333333333333,
              "#9c179e"
             ],
             [
              0.4444444444444444,
              "#bd3786"
             ],
             [
              0.5555555555555556,
              "#d8576b"
             ],
             [
              0.6666666666666666,
              "#ed7953"
             ],
             [
              0.7777777777777778,
              "#fb9f3a"
             ],
             [
              0.8888888888888888,
              "#fdca26"
             ],
             [
              1,
              "#f0f921"
             ]
            ],
            "type": "surface"
           }
          ],
          "table": [
           {
            "cells": {
             "fill": {
              "color": "#EBF0F8"
             },
             "line": {
              "color": "white"
             }
            },
            "header": {
             "fill": {
              "color": "#C8D4E3"
             },
             "line": {
              "color": "white"
             }
            },
            "type": "table"
           }
          ]
         },
         "layout": {
          "annotationdefaults": {
           "arrowcolor": "#2a3f5f",
           "arrowhead": 0,
           "arrowwidth": 1
          },
          "autotypenumbers": "strict",
          "coloraxis": {
           "colorbar": {
            "outlinewidth": 0,
            "ticks": ""
           }
          },
          "colorscale": {
           "diverging": [
            [
             0,
             "#8e0152"
            ],
            [
             0.1,
             "#c51b7d"
            ],
            [
             0.2,
             "#de77ae"
            ],
            [
             0.3,
             "#f1b6da"
            ],
            [
             0.4,
             "#fde0ef"
            ],
            [
             0.5,
             "#f7f7f7"
            ],
            [
             0.6,
             "#e6f5d0"
            ],
            [
             0.7,
             "#b8e186"
            ],
            [
             0.8,
             "#7fbc41"
            ],
            [
             0.9,
             "#4d9221"
            ],
            [
             1,
             "#276419"
            ]
           ],
           "sequential": [
            [
             0,
             "#0d0887"
            ],
            [
             0.1111111111111111,
             "#46039f"
            ],
            [
             0.2222222222222222,
             "#7201a8"
            ],
            [
             0.3333333333333333,
             "#9c179e"
            ],
            [
             0.4444444444444444,
             "#bd3786"
            ],
            [
             0.5555555555555556,
             "#d8576b"
            ],
            [
             0.6666666666666666,
             "#ed7953"
            ],
            [
             0.7777777777777778,
             "#fb9f3a"
            ],
            [
             0.8888888888888888,
             "#fdca26"
            ],
            [
             1,
             "#f0f921"
            ]
           ],
           "sequentialminus": [
            [
             0,
             "#0d0887"
            ],
            [
             0.1111111111111111,
             "#46039f"
            ],
            [
             0.2222222222222222,
             "#7201a8"
            ],
            [
             0.3333333333333333,
             "#9c179e"
            ],
            [
             0.4444444444444444,
             "#bd3786"
            ],
            [
             0.5555555555555556,
             "#d8576b"
            ],
            [
             0.6666666666666666,
             "#ed7953"
            ],
            [
             0.7777777777777778,
             "#fb9f3a"
            ],
            [
             0.8888888888888888,
             "#fdca26"
            ],
            [
             1,
             "#f0f921"
            ]
           ]
          },
          "colorway": [
           "#636efa",
           "#EF553B",
           "#00cc96",
           "#ab63fa",
           "#FFA15A",
           "#19d3f3",
           "#FF6692",
           "#B6E880",
           "#FF97FF",
           "#FECB52"
          ],
          "font": {
           "color": "#2a3f5f"
          },
          "geo": {
           "bgcolor": "white",
           "lakecolor": "white",
           "landcolor": "#E5ECF6",
           "showlakes": true,
           "showland": true,
           "subunitcolor": "white"
          },
          "hoverlabel": {
           "align": "left"
          },
          "hovermode": "closest",
          "mapbox": {
           "style": "light"
          },
          "paper_bgcolor": "white",
          "plot_bgcolor": "#E5ECF6",
          "polar": {
           "angularaxis": {
            "gridcolor": "white",
            "linecolor": "white",
            "ticks": ""
           },
           "bgcolor": "#E5ECF6",
           "radialaxis": {
            "gridcolor": "white",
            "linecolor": "white",
            "ticks": ""
           }
          },
          "scene": {
           "xaxis": {
            "backgroundcolor": "#E5ECF6",
            "gridcolor": "white",
            "gridwidth": 2,
            "linecolor": "white",
            "showbackground": true,
            "ticks": "",
            "zerolinecolor": "white"
           },
           "yaxis": {
            "backgroundcolor": "#E5ECF6",
            "gridcolor": "white",
            "gridwidth": 2,
            "linecolor": "white",
            "showbackground": true,
            "ticks": "",
            "zerolinecolor": "white"
           },
           "zaxis": {
            "backgroundcolor": "#E5ECF6",
            "gridcolor": "white",
            "gridwidth": 2,
            "linecolor": "white",
            "showbackground": true,
            "ticks": "",
            "zerolinecolor": "white"
           }
          },
          "shapedefaults": {
           "line": {
            "color": "#2a3f5f"
           }
          },
          "ternary": {
           "aaxis": {
            "gridcolor": "white",
            "linecolor": "white",
            "ticks": ""
           },
           "baxis": {
            "gridcolor": "white",
            "linecolor": "white",
            "ticks": ""
           },
           "bgcolor": "#E5ECF6",
           "caxis": {
            "gridcolor": "white",
            "linecolor": "white",
            "ticks": ""
           }
          },
          "title": {
           "x": 0.05
          },
          "xaxis": {
           "automargin": true,
           "gridcolor": "white",
           "linecolor": "white",
           "ticks": "",
           "title": {
            "standoff": 15
           },
           "zerolinecolor": "white",
           "zerolinewidth": 2
          },
          "yaxis": {
           "automargin": true,
           "gridcolor": "white",
           "linecolor": "white",
           "ticks": "",
           "title": {
            "standoff": 15
           },
           "zerolinecolor": "white",
           "zerolinewidth": 2
          }
         }
        },
        "title": {
         "text": "Fordeling av tekster etter publikasjonsnavn"
        }
       }
      },
      "image/png": "[encoded data removed]",
      "text/html": [
       "<div>                            <div id=\"d5cde056-9f72-4b31-8290-94d1b2858e61\" class=\"plotly-graph-div\" style=\"height:525px; width:100%;\"></div>            <script type=\"text/javascript\">                require([\"plotly\"], function(Plotly) {                    window.PLOTLYENV=window.PLOTLYENV || {};                                    if (document.getElementById(\"d5cde056-9f72-4b31-8290-94d1b2858e61\")) {                    Plotly.newPlot(                        \"d5cde056-9f72-4b31-8290-94d1b2858e61\",                        [{\"branchvalues\":\"total\",\"customdata\":[[27],[6],[16],[1],[1],[1],[4],[5],[4],[4],[3],[3],[7],[22],[1],[2],[5],[2],[2],[8],[23],[1],[20],[2],[27],[1],[4],[2],[5],[1],[14],[2],[2],[22],[1],[1],[1],[9],[47],[1],[1],[3],[1],[1],[3],[1],[7],[242],[3],[2],[1],[12],[14],[2],[5],[1],[2],[13],[3],[4],[4],[19],[2],[2],[2],[2],[1],[4],[6],[2],[2],[3],[37],[3],[7],[5],[7],[1],[3],[2],[7],[2],[3],[2],[5],[41],[6],[4],[2],[1],[2],[5],[15],[1],[2],[1],[1],[15],[2],[20],[2],[1],[2],[1],[6],[1],[29],[2],[1],[7],[4],[6],[2],[1],[1],[2],[11],[3],[2],[5],[96],[4],[2],[5],[3],[1],[1],[4],[2],[1],[5],[6],[15],[7],[1],[3],[5],[5],[2],[5]],\"domain\":{\"x\":[0.0,1.0],\"y\":[0.0,1.0]},\"hovertemplate\":\"labels=%{label}\\u003cbr\\u003evalue=%{value}\\u003cbr\\u003eparent=%{parent}\\u003cbr\\u003eid=%{id}\\u003cbr\\u003eAntall tekster=%{customdata[0]}\\u003cextra\\u003e\\u003c\\u002fextra\\u003e\",\"ids\":[\"ABC Nyheter\",\"Adresseavisen\",\"Aftenposten\",\"Agder\",\"Agderposten\",\"Akershus Amtstidende\",\"Altaposten\",\"Alvdal midt i v\\u00e6la (2011-)\",\"Arbeidets Rett\",\"Arendals Tidende\",\"AuraAvis\",\"Avisa Nordland\",\"Avisa S\\u00f8r-Tr\\u00f8ndelag\",\"Bergens tidende\",\"Bladet (Stj\\u00f8rdalens blad)\",\"Bladet Vester\\u00e5len\",\"Bod\\u00f8 Nu\",\"Byavisa Drammen\",\"Bygdebladet\",\"Bygdeposten\",\"Dagbladet\",\"Dagen\",\"Dagens n\\u00e6ringsliv\",\"Dagens perspektiv\",\"Dagsavisen\",\"DalaneTidende\",\"Din side\",\"Drammen Live24\",\"Drammens Tidende\",\"Driva\",\"E24\",\"Eidsvoll Ullensaker Blad\",\"Enebakk Avis\",\"Finansavisen\",\"Firda Tidend\",\"Fjell-Ljom\",\"Fjordabladet\",\"Forskersonen\",\"Forskning.no\",\"Framtid i Nord\",\"Fredriksstad Blad\",\"Fremover\",\"Friheten\",\"Gjengangeren\",\"Gjesdalsbuen\",\"Gl\\u00e5mdalen\",\"Gudbrandsd\\u00f8len Dagningen\",\"Hamar Arbeiderblad\",\"Hamar Dagblad\",\"Harstad Tidende\",\"Haugesund Avis\",\"Hedalen.no\",\"Helgelands Blad\",\"Helgelendingen\",\"Hitra24\",\"Human Rights Service\",\"Inder\\u00f8yningen\",\"Indre Akershus Blad\",\"Innherred.no\",\"Jarlsberg\",\"J\\u00e6rbladet\",\"Khrono\",\"Klar tale\",\"Krager\\u00f8 Blad Vestmar\",\"Laagendalsposten\",\"Lierposten\",\"Lofot-Tidende\",\"Lokalavisa Trysil-Engerdal\",\"Mitt Kongsvinger\",\"Morgenbladet\",\"Moss Avis\",\"N247.no\",\"NRK\",\"Namdalsavisa\",\"Nationen\",\"Natt og dag\",\"Nettavisen\",\"Nordlys\",\"Nordstrand Blad\",\"Opdalingen\",\"Opp.no\",\"P4\",\"Rakkestad avis\",\"Rana Blad\",\"Rana no\",\"Resett\",\"Ringerikes Blad\",\"Ringsaker Blad\",\"Romerikes Blad\",\"Ruijan Kaiku\",\"R\\u00f8yken og Hurums Avis\",\"Sagat\",\"Sagene avis\",\"Sande Avis\",\"Sandnesposten\",\"Sognavis\",\"Stangeavisa\",\"Stavanger Aftenblad\",\"Steinkjer-Avisa\",\"Stj\\u00f8rdalsnytt\",\"Studvest\",\"Suldalsposten\",\"Sunnm\\u00f8ringen\",\"Sunnm\\u00f8rsposten\",\"Sykepleien\",\"S\\u00e1mi magasiinna\",\"TV2\",\"Teknisk ukeblad\",\"Telemarksavisa\",\"Telen\",\"Trollheimsporten\",\"Troms Folkeblad\",\"Troms\\u00f8 By\",\"Trondheim24.no\",\"Tr\\u00f8nderavisa\",\"Tvedestrands Posten\",\"Tynsetingen.no\",\"T\\u00f8nsbergs Blad\",\"Universitas\",\"Utrop\",\"VG\",\"Valdres\",\"Varden\",\"Vefsn no\",\"Vestby Avis\",\"Vester\\u00e5len online\",\"Vikebladet Vestposten\",\"V\\u00e5ganavisa\",\"V\\u00e5rt land\",\"V\\u00e5rtOslo\",\"iGjerstad\",\"iHarstad\",\"iSol\\u00f8r.no\",\"iTroms\\u00f8\",\"\\u00c5s Avis\",\"\\u00c5sane tidende\",\"\\u00d8stlandets Blad\",\"\\u00d8stlandsposten\",\"\\u00d8stlendingen\",\"\\u00d8yene\"],\"labels\":[\"ABC Nyheter\",\"Adresseavisen\",\"Aftenposten\",\"Agder\",\"Agderposten\",\"Akershus Amtstidende\",\"Altaposten\",\"Alvdal midt i v\\u00e6la (2011-)\",\"Arbeidets Rett\",\"Arendals Tidende\",\"AuraAvis\",\"Avisa Nordland\",\"Avisa S\\u00f8r-Tr\\u00f8ndelag\",\"Bergens tidende\",\"Bladet (Stj\\u00f8rdalens blad)\",\"Bladet Vester\\u00e5len\",\"Bod\\u00f8 Nu\",\"Byavisa Drammen\",\"Bygdebladet\",\"Bygdeposten\",\"Dagbladet\",\"Dagen\",\"Dagens n\\u00e6ringsliv\",\"Dagens perspektiv\",\"Dagsavisen\",\"DalaneTidende\",\"Din side\",\"Drammen Live24\",\"Drammens Tidende\",\"Driva\",\"E24\",\"Eidsvoll Ullensaker Blad\",\"Enebakk Avis\",\"Finansavisen\",\"Firda Tidend\",\"Fjell-Ljom\",\"Fjordabladet\",\"Forskersonen\",\"Forskning.no\",\"Framtid i Nord\",\"Fredriksstad Blad\",\"Fremover\",\"Friheten\",\"Gjengangeren\",\"Gjesdalsbuen\",\"Gl\\u00e5mdalen\",\"Gudbrandsd\\u00f8len Dagningen\",\"Hamar Arbeiderblad\",\"Hamar Dagblad\",\"Harstad Tidende\",\"Haugesund Avis\",\"Hedalen.no\",\"Helgelands Blad\",\"Helgelendingen\",\"Hitra24\",\"Human Rights Service\",\"Inder\\u00f8yningen\",\"Indre Akershus Blad\",\"Innherred.no\",\"Jarlsberg\",\"J\\u00e6rbladet\",\"Khrono\",\"Klar tale\",\"Krager\\u00f8 Blad Vestmar\",\"Laagendalsposten\",\"Lierposten\",\"Lofot-Tidende\",\"Lokalavisa Trysil-Engerdal\",\"Mitt Kongsvinger\",\"Morgenbladet\",\"Moss Avis\",\"N247.no\",\"NRK\",\"Namdalsavisa\",\"Nationen\",\"Natt og dag\",\"Nettavisen\",\"Nordlys\",\"Nordstrand Blad\",\"Opdalingen\",\"Opp.no\",\"P4\",\"Rakkestad avis\",\"Rana Blad\",\"Rana no\",\"Resett\",\"Ringerikes Blad\",\"Ringsaker Blad\",\"Romerikes Blad\",\"Ruijan Kaiku\",\"R\\u00f8yken og Hurums Avis\",\"Sagat\",\"Sagene avis\",\"Sande Avis\",\"Sandnesposten\",\"Sognavis\",\"Stangeavisa\",\"Stavanger Aftenblad\",\"Steinkjer-Avisa\",\"Stj\\u00f8rdalsnytt\",\"Studvest\",\"Suldalsposten\",\"Sunnm\\u00f8ringen\",\"Sunnm\\u00f8rsposten\",\"Sykepleien\",\"S\\u00e1mi magasiinna\",\"TV2\",\"Teknisk ukeblad\",\"Telemarksavisa\",\"Telen\",\"Trollheimsporten\",\"Troms Folkeblad\",\"Troms\\u00f8 By\",\"Trondheim24.no\",\"Tr\\u00f8nderavisa\",\"Tvedestrands Posten\",\"Tynsetingen.no\",\"T\\u00f8nsbergs Blad\",\"Universitas\",\"Utrop\",\"VG\",\"Valdres\",\"Varden\",\"Vefsn no\",\"Vestby Avis\",\"Vester\\u00e5len online\",\"Vikebladet Vestposten\",\"V\\u00e5ganavisa\",\"V\\u00e5rt land\",\"V\\u00e5rtOslo\",\"iGjerstad\",\"iHarstad\",\"iSol\\u00f8r.no\",\"iTroms\\u00f8\",\"\\u00c5s Avis\",\"\\u00c5sane tidende\",\"\\u00d8stlandets Blad\",\"\\u00d8stlandsposten\",\"\\u00d8stlendingen\",\"\\u00d8yene\"],\"name\":\"\",\"parents\":[\"\",\"\",\"\",\"\",\"\",\"\",\"\",\"\",\"\",\"\",\"\",\"\",\"\",\"\",\"\",\"\",\"\",\"\",\"\",\"\",\"\",\"\",\"\",\"\",\"\",\"\",\"\",\"\",\"\",\"\",\"\",\"\",\"\",\"\",\"\",\"\",\"\",\"\",\"\",\"\",\"\",\"\",\"\",\"\",\"\",\"\",\"\",\"\",\"\",\"\",\"\",\"\",\"\",\"\",\"\",\"\",\"\",\"\",\"\",\"\",\"\",\"\",\"\",\"\",\"\",\"\",\"\",\"\",\"\",\"\",\"\",\"\",\"\",\"\",\"\",\"\",\"\",\"\",\"\",\"\",\"\",\"\",\"\",\"\",\"\",\"\",\"\",\"\",\"\",\"\",\"\",\"\",\"\",\"\",\"\",\"\",\"\",\"\",\"\",\"\",\"\",\"\",\"\",\"\",\"\",\"\",\"\",\"\",\"\",\"\",\"\",\"\",\"\",\"\",\"\",\"\",\"\",\"\",\"\",\"\",\"\",\"\",\"\",\"\",\"\",\"\",\"\",\"\",\"\",\"\",\"\",\"\",\"\",\"\",\"\",\"\",\"\",\"\",\"\",\"\"],\"values\":[27,6,16,1,1,1,4,5,4,4,3,3,7,22,1,2,5,2,2,8,23,1,20,2,27,1,4,2,5,1,14,2,2,22,1,1,1,9,47,1,1,3,1,1,3,1,7,242,3,2,1,12,14,2,5,1,2,13,3,4,4,19,2,2,2,2,1,4,6,2,2,3,37,3,7,5,7,1,3,2,7,2,3,2,5,41,6,4,2,1,2,5,15,1,2,1,1,15,2,20,2,1,2,1,6,1,29,2,1,7,4,6,2,1,1,2,11,3,2,5,96,4,2,5,3,1,1,4,2,1,5,6,15,7,1,3,5,5,2,5],\"type\":\"treemap\"}],                        {\"template\":{\"data\":{\"histogram2dcontour\":[{\"type\":\"histogram2dcontour\",\"colorbar\":{\"outlinewidth\":0,\"ticks\":\"\"},\"colorscale\":[[0.0,\"#0d0887\"],[0.1111111111111111,\"#46039f\"],[0.2222222222222222,\"#7201a8\"],[0.3333333333333333,\"#9c179e\"],[0.4444444444444444,\"#bd3786\"],[0.5555555555555556,\"#d8576b\"],[0.6666666666666666,\"#ed7953\"],[0.7777777777777778,\"#fb9f3a\"],[0.8888888888888888,\"#fdca26\"],[1.0,\"#f0f921\"]]}],\"choropleth\":[{\"type\":\"choropleth\",\"colorbar\":{\"outlinewidth\":0,\"ticks\":\"\"}}],\"histogram2d\":[{\"type\":\"histogram2d\",\"colorbar\":{\"outlinewidth\":0,\"ticks\":\"\"},\"colorscale\":[[0.0,\"#0d0887\"],[0.1111111111111111,\"#46039f\"],[0.2222222222222222,\"#7201a8\"],[0.3333333333333333,\"#9c179e\"],[0.4444444444444444,\"#bd3786\"],[0.5555555555555556,\"#d8576b\"],[0.6666666666666666,\"#ed7953\"],[0.7777777777777778,\"#fb9f3a\"],[0.8888888888888888,\"#fdca26\"],[1.0,\"#f0f921\"]]}],\"heatmap\":[{\"type\":\"heatmap\",\"colorbar\":{\"outlinewidth\":0,\"ticks\":\"\"},\"colorscale\":[[0.0,\"#0d0887\"],[0.1111111111111111,\"#46039f\"],[0.2222222222222222,\"#7201a8\"],[0.3333333333333333,\"#9c179e\"],[0.4444444444444444,\"#bd3786\"],[0.5555555555555556,\"#d8576b\"],[0.6666666666666666,\"#ed7953\"],[0.7777777777777778,\"#fb9f3a\"],[0.8888888888888888,\"#fdca26\"],[1.0,\"#f0f921\"]]}],\"heatmapgl\":[{\"type\":\"heatmapgl\",\"colorbar\":{\"outlinewidth\":0,\"ticks\":\"\"},\"colorscale\":[[0.0,\"#0d0887\"],[0.1111111111111111,\"#46039f\"],[0.2222222222222222,\"#7201a8\"],[0.3333333333333333,\"#9c179e\"],[0.4444444444444444,\"#bd3786\"],[0.5555555555555556,\"#d8576b\"],[0.6666666666666666,\"#ed7953\"],[0.7777777777777778,\"#fb9f3a\"],[0.8888888888888888,\"#fdca26\"],[1.0,\"#f0f921\"]]}],\"contourcarpet\":[{\"type\":\"contourcarpet\",\"colorbar\":{\"outlinewidth\":0,\"ticks\":\"\"}}],\"contour\":[{\"type\":\"contour\",\"colorbar\":{\"outlinewidth\":0,\"ticks\":\"\"},\"colorscale\":[[0.0,\"#0d0887\"],[0.1111111111111111,\"#46039f\"],[0.2222222222222222,\"#7201a8\"],[0.3333333333333333,\"#9c179e\"],[0.4444444444444444,\"#bd3786\"],[0.5555555555555556,\"#d8576b\"],[0.6666666666666666,\"#ed7953\"],[0.7777777777777778,\"#fb9f3a\"],[0.8888888888888888,\"#fdca26\"],[1.0,\"#f0f921\"]]}],\"surface\":[{\"type\":\"surface\",\"colorbar\":{\"outlinewidth\":0,\"ticks\":\"\"},\"colorscale\":[[0.0,\"#0d0887\"],[0.1111111111111111,\"#46039f\"],[0.2222222222222222,\"#7201a8\"],[0.3333333333333333,\"#9c179e\"],[0.4444444444444444,\"#bd3786\"],[0.5555555555555556,\"#d8576b\"],[0.6666666666666666,\"#ed7953\"],[0.7777777777777778,\"#fb9f3a\"],[0.8888888888888888,\"#fdca26\"],[1.0,\"#f0f921\"]]}],\"mesh3d\":[{\"type\":\"mesh3d\",\"colorbar\":{\"outlinewidth\":0,\"ticks\":\"\"}}],\"scatter\":[{\"fillpattern\":{\"fillmode\":\"overlay\",\"size\":10,\"solidity\":0.2},\"type\":\"scatter\"}],\"parcoords\":[{\"type\":\"parcoords\",\"line\":{\"colorbar\":{\"outlinewidth\":0,\"ticks\":\"\"}}}],\"scatterpolargl\":[{\"type\":\"scatterpolargl\",\"marker\":{\"colorbar\":{\"outlinewidth\":0,\"ticks\":\"\"}}}],\"bar\":[{\"error_x\":{\"color\":\"#2a3f5f\"},\"error_y\":{\"color\":\"#2a3f5f\"},\"marker\":{\"line\":{\"color\":\"#E5ECF6\",\"width\":0.5},\"pattern\":{\"fillmode\":\"overlay\",\"size\":10,\"solidity\":0.2}},\"type\":\"bar\"}],\"scattergeo\":[{\"type\":\"scattergeo\",\"marker\":{\"colorbar\":{\"outlinewidth\":0,\"ticks\":\"\"}}}],\"scatterpolar\":[{\"type\":\"scatterpolar\",\"marker\":{\"colorbar\":{\"outlinewidth\":0,\"ticks\":\"\"}}}],\"histogram\":[{\"marker\":{\"pattern\":{\"fillmode\":\"overlay\",\"size\":10,\"solidity\":0.2}},\"type\":\"histogram\"}],\"scattergl\":[{\"type\":\"scattergl\",\"marker\":{\"colorbar\":{\"outlinewidth\":0,\"ticks\":\"\"}}}],\"scatter3d\":[{\"type\":\"scatter3d\",\"line\":{\"colorbar\":{\"outlinewidth\":0,\"ticks\":\"\"}},\"marker\":{\"colorbar\":{\"outlinewidth\":0,\"ticks\":\"\"}}}],\"scattermapbox\":[{\"type\":\"scattermapbox\",\"marker\":{\"colorbar\":{\"outlinewidth\":0,\"ticks\":\"\"}}}],\"scatterternary\":[{\"type\":\"scatterternary\",\"marker\":{\"colorbar\":{\"outlinewidth\":0,\"ticks\":\"\"}}}],\"scattercarpet\":[{\"type\":\"scattercarpet\",\"marker\":{\"colorbar\":{\"outlinewidth\":0,\"ticks\":\"\"}}}],\"carpet\":[{\"aaxis\":{\"endlinecolor\":\"#2a3f5f\",\"gridcolor\":\"white\",\"linecolor\":\"white\",\"minorgridcolor\":\"white\",\"startlinecolor\":\"#2a3f5f\"},\"baxis\":{\"endlinecolor\":\"#2a3f5f\",\"gridcolor\":\"white\",\"linecolor\":\"white\",\"minorgridcolor\":\"white\",\"startlinecolor\":\"#2a3f5f\"},\"type\":\"carpet\"}],\"table\":[{\"cells\":{\"fill\":{\"color\":\"#EBF0F8\"},\"line\":{\"color\":\"white\"}},\"header\":{\"fill\":{\"color\":\"#C8D4E3\"},\"line\":{\"color\":\"white\"}},\"type\":\"table\"}],\"barpolar\":[{\"marker\":{\"line\":{\"color\":\"#E5ECF6\",\"width\":0.5},\"pattern\":{\"fillmode\":\"overlay\",\"size\":10,\"solidity\":0.2}},\"type\":\"barpolar\"}],\"pie\":[{\"automargin\":true,\"type\":\"pie\"}]},\"layout\":{\"autotypenumbers\":\"strict\",\"colorway\":[\"#636efa\",\"#EF553B\",\"#00cc96\",\"#ab63fa\",\"#FFA15A\",\"#19d3f3\",\"#FF6692\",\"#B6E880\",\"#FF97FF\",\"#FECB52\"],\"font\":{\"color\":\"#2a3f5f\"},\"hovermode\":\"closest\",\"hoverlabel\":{\"align\":\"left\"},\"paper_bgcolor\":\"white\",\"plot_bgcolor\":\"#E5ECF6\",\"polar\":{\"bgcolor\":\"#E5ECF6\",\"angularaxis\":{\"gridcolor\":\"white\",\"linecolor\":\"white\",\"ticks\":\"\"},\"radialaxis\":{\"gridcolor\":\"white\",\"linecolor\":\"white\",\"ticks\":\"\"}},\"ternary\":{\"bgcolor\":\"#E5ECF6\",\"aaxis\":{\"gridcolor\":\"white\",\"linecolor\":\"white\",\"ticks\":\"\"},\"baxis\":{\"gridcolor\":\"white\",\"linecolor\":\"white\",\"ticks\":\"\"},\"caxis\":{\"gridcolor\":\"white\",\"linecolor\":\"white\",\"ticks\":\"\"}},\"coloraxis\":{\"colorbar\":{\"outlinewidth\":0,\"ticks\":\"\"}},\"colorscale\":{\"sequential\":[[0.0,\"#0d0887\"],[0.1111111111111111,\"#46039f\"],[0.2222222222222222,\"#7201a8\"],[0.3333333333333333,\"#9c179e\"],[0.4444444444444444,\"#bd3786\"],[0.5555555555555556,\"#d8576b\"],[0.6666666666666666,\"#ed7953\"],[0.7777777777777778,\"#fb9f3a\"],[0.8888888888888888,\"#fdca26\"],[1.0,\"#f0f921\"]],\"sequentialminus\":[[0.0,\"#0d0887\"],[0.1111111111111111,\"#46039f\"],[0.2222222222222222,\"#7201a8\"],[0.3333333333333333,\"#9c179e\"],[0.4444444444444444,\"#bd3786\"],[0.5555555555555556,\"#d8576b\"],[0.6666666666666666,\"#ed7953\"],[0.7777777777777778,\"#fb9f3a\"],[0.8888888888888888,\"#fdca26\"],[1.0,\"#f0f921\"]],\"diverging\":[[0,\"#8e0152\"],[0.1,\"#c51b7d\"],[0.2,\"#de77ae\"],[0.3,\"#f1b6da\"],[0.4,\"#fde0ef\"],[0.5,\"#f7f7f7\"],[0.6,\"#e6f5d0\"],[0.7,\"#b8e186\"],[0.8,\"#7fbc41\"],[0.9,\"#4d9221\"],[1,\"#276419\"]]},\"xaxis\":{\"gridcolor\":\"white\",\"linecolor\":\"white\",\"ticks\":\"\",\"title\":{\"standoff\":15},\"zerolinecolor\":\"white\",\"automargin\":true,\"zerolinewidth\":2},\"yaxis\":{\"gridcolor\":\"white\",\"linecolor\":\"white\",\"ticks\":\"\",\"title\":{\"standoff\":15},\"zerolinecolor\":\"white\",\"automargin\":true,\"zerolinewidth\":2},\"scene\":{\"xaxis\":{\"backgroundcolor\":\"#E5ECF6\",\"gridcolor\":\"white\",\"linecolor\":\"white\",\"showbackground\":true,\"ticks\":\"\",\"zerolinecolor\":\"white\",\"gridwidth\":2},\"yaxis\":{\"backgroundcolor\":\"#E5ECF6\",\"gridcolor\":\"white\",\"linecolor\":\"white\",\"showbackground\":true,\"ticks\":\"\",\"zerolinecolor\":\"white\",\"gridwidth\":2},\"zaxis\":{\"backgroundcolor\":\"#E5ECF6\",\"gridcolor\":\"white\",\"linecolor\":\"white\",\"showbackground\":true,\"ticks\":\"\",\"zerolinecolor\":\"white\",\"gridwidth\":2}},\"shapedefaults\":{\"line\":{\"color\":\"#2a3f5f\"}},\"annotationdefaults\":{\"arrowcolor\":\"#2a3f5f\",\"arrowhead\":0,\"arrowwidth\":1},\"geo\":{\"bgcolor\":\"white\",\"landcolor\":\"#E5ECF6\",\"subunitcolor\":\"white\",\"showland\":true,\"showlakes\":true,\"lakecolor\":\"white\"},\"title\":{\"x\":0.05},\"mapbox\":{\"style\":\"light\"}}},\"legend\":{\"tracegroupgap\":0},\"title\":{\"text\":\"Fordeling av tekster etter publikasjonsnavn\"}},                        {\"responsive\": true}                    ).then(function(){\n",
       "                            \n",
       "var gd = document.getElementById('d5cde056-9f72-4b31-8290-94d1b2858e61');\n",
       "var x = new MutationObserver(function (mutations, observer) {{\n",
       "        var display = window.getComputedStyle(gd).display;\n",
       "        if (!display || display === 'none') {{\n",
       "            console.log([gd, 'removed!']);\n",
       "            Plotly.purge(gd);\n",
       "            observer.disconnect();\n",
       "        }}\n",
       "}});\n",
       "\n",
       "// Listen for the removal of the full notebook cells\n",
       "var notebookContainer = gd.closest('#notebook-container');\n",
       "if (notebookContainer) {{\n",
       "    x.observe(notebookContainer, {childList: true});\n",
       "}}\n",
       "\n",
       "// Listen for the clearing of the current output cell\n",
       "var outputEl = gd.closest('.output');\n",
       "if (outputEl) {{\n",
       "    x.observe(outputEl, {childList: true});\n",
       "}}\n",
       "\n",
       "                        })                };                });            </script>        </div>"
      ]
     },
     "metadata": {},
     "output_type": "display_data"
    }
   ],
   "source": [
    "import plotly.express as px\n",
    "\n",
    "# Count the number of texts per publication title\n",
    "telle_titler = corpus['title'].value_counts()\n",
    "\n",
    "# Create a tree map based on the title distribution\n",
    "fig = px.treemap(\n",
    "    path=[telle_titler.index],  # Titles as the path (even in a flat structure)\n",
    "    values=telle_titler.values,  # Number of texts as values\n",
    "    title='Fordeling av tekster etter publikasjonsnavn',\n",
    "    hover_data={'Antall tekster': telle_titler.values}\n",
    ")\n",
    "\n",
    "# Display the tree map\n",
    "fig.show()\n"
   ]
  },
  {
   "cell_type": "code",
   "execution_count": 68,
   "id": "2f47c4d9-9d2d-4dde-bd35-2899bb6577b2",
   "metadata": {
    "scrolled": true
   },
   "outputs": [
    {
     "data": {
      "application/vnd.plotly.v1+json": {
       "config": {
        "plotlyServerURL": "https://plot.ly"
       },
       "data": [
        {
         "hovertemplate": "Høstetidspunkt=%{x}<br>Spredning=%{y}<extra></extra>",
         "legendgroup": "",
         "marker": {
          "color": "#636efa",
          "opacity": 0.5,
          "symbol": "circle"
         },
         "mode": "markers",
         "name": "",
         "showlegend": false,
         "type": "scattergl",
         "x": [
          "2021-12-20T05:34:46.129170",
          "2022-06-13T06:25:17.771415",
          "2020-05-09T03:34:08.703274",
          "2020-05-27T13:41:55.845341",
          "2021-01-02T22:40:00.852983",
          "2021-12-28T13:55:59.200087",
          "2021-01-01T20:37:03.929903",
          "2020-07-03T13:29:07.479662",
          "2020-06-12T14:46:55.717997",
          "2021-12-17T12:56:52.389171",
          "2021-12-25T00:05:10.326757",
          "2021-12-25T10:01:01.148709",
          "2020-06-05T06:57:32.653505",
          "2021-04-18T11:54:37.917290",
          "2021-12-22T10:16:53.446808",
          "2021-12-15T08:22:38.936745",
          "2020-05-09T21:45:02.134771",
          "2021-12-28T02:13:39.382092",
          "2020-08-18T23:53:45.275647",
          "2021-01-25T22:17:14.808068",
          "2021-12-27T09:26:08.474388",
          "2021-12-19T16:03:52.266626",
          "2020-05-10T10:29:29.432437",
          "2020-12-31T15:35:50.740018",
          "2021-12-28T12:06:47.096438",
          "2020-03-20T06:10:20.922282",
          "2020-11-23T09:13:01.262514",
          "2020-06-01T20:05:08.709374",
          "2021-12-28T13:17:37.195543",
          "2020-06-02T03:59:20.072426",
          "2021-12-30T07:52:50.715734",
          "2020-05-21T16:45:37.426028",
          "2021-01-08T06:21:06.301000",
          "2020-12-30T00:19:09.331227",
          "2021-08-22T01:45:31.315407",
          "2020-05-19T01:26:21.036042",
          "2021-12-29T22:10:55.155577",
          "2021-12-10T10:24:06.996266",
          "2020-06-16T04:51:38.379012",
          "2021-12-17T09:10:20.872885",
          "2021-12-27T17:45:58.500860",
          "2020-11-22T19:56:27.987073",
          "2021-11-28T16:56:54.495060",
          "2021-12-22T04:51:55.117688",
          "2020-03-23T17:40:40.792746",
          "2021-12-30T17:45:36.992505",
          "2020-11-20T05:46:47.149899",
          "2020-11-14T06:05:28.601712",
          "2020-06-16T08:39:57.177248",
          "2021-12-28T04:10:16.031860",
          "2020-08-15T08:20:58.978298",
          "2021-12-28T16:57:25.357331",
          "2020-06-11T23:34:10.510623",
          "2020-05-25T22:38:42.160104",
          "2020-08-07T00:16:31.884532",
          "2021-12-28T07:41:23.859361",
          "2020-03-23T07:01:00.137500",
          "2021-12-24T16:51:46.513104",
          "2020-12-30T01:41:04.188174",
          "2020-03-26T06:44:11.180510",
          "2020-05-27T18:40:03.382128",
          "2021-12-29T20:24:19.636172",
          "2021-12-28T18:22:37.116610",
          "2021-12-30T18:07:41.016042",
          "2021-12-26T18:14:46.371800",
          "2020-05-09T08:24:52.412376",
          "2020-11-24T03:40:56.233841",
          "2020-06-09T02:33:44.554204",
          "2020-08-22T22:38:26.380708",
          "2021-01-01T07:55:52.652625",
          "2021-01-04T04:21:17.645602",
          "2021-04-06T08:46:21.474092",
          "2021-12-26T05:01:07.341562",
          "2021-10-01T05:43:09.972710",
          "2022-03-06T06:26:56.621834",
          "2021-12-22T04:38:27.116411",
          "2020-12-31T13:00:28.424653",
          "2022-01-22T11:33:27.690638",
          "2021-12-14T03:53:51.906339",
          "2020-12-31T21:13:44.457993",
          "2021-07-09T15:31:36.232652",
          "2021-07-09T21:51:45.762213",
          "2021-01-01T01:43:13.598268",
          "2020-11-08T08:34:46.547591",
          "2022-03-06T02:16:27.120342",
          "2020-11-05T14:29:22.376218",
          "2020-04-26T18:57:16.525289",
          "2021-01-01T04:41:06.416456",
          "2020-11-06T07:59:08.387542",
          "2021-01-01T14:28:33.319343",
          "2021-01-03T02:46:38.258307",
          "2021-12-25T00:58:04.011225",
          "2022-01-14T16:19:47.879832",
          "2021-12-14T15:43:39.526610",
          "2021-12-28T04:43:45.217983",
          "2021-12-22T07:23:33.249901",
          "2021-12-11T12:37:44.681241",
          "2022-01-15T13:18:43.292922",
          "2021-12-21T07:10:31.889618",
          "2020-11-28T06:26:05.443099",
          "2020-11-28T12:44:18.504642",
          "2020-12-31T19:55:21.270755",
          "2021-12-21T01:38:59.927646",
          "2020-11-02T11:55:29.720375",
          "2021-01-03T06:40:08.171752",
          "2022-01-15T08:28:03.268534",
          "2021-01-12T04:12:15.880072",
          "2020-11-12T21:13:06.158394",
          "2020-11-09T15:57:53.747895",
          "2021-12-12T10:49:50.724312",
          "2021-12-26T19:30:42.099763",
          "2021-10-23T05:22:25.749805",
          "2021-12-14T12:33:49.544440",
          "2020-11-28T13:02:33.751013",
          "2020-12-30T03:08:07.158632",
          "2021-12-26T20:25:58.857965",
          "2021-12-30T01:13:05.919140",
          "2021-01-10T12:42:33.556604",
          "2020-11-26T03:14:31.398701",
          "2021-12-31T01:27:18.224431",
          "2021-12-10T01:00:04.065443",
          "2020-09-01T12:42:42.465793",
          "2021-12-22T10:26:18.356069",
          "2020-04-02T01:33:23.001145",
          "2020-06-10T08:19:52.171123",
          "2022-03-04T02:27:09.290683",
          "2020-11-17T15:28:18.879010",
          "2022-01-15T23:13:48.217998",
          "2021-12-30T09:07:13.170476",
          "2021-01-01T16:56:46.599397",
          "2021-12-23T06:04:36.541370",
          "2020-11-03T21:29:12.365081",
          "2020-07-01T23:52:01.490789",
          "2020-05-09T13:35:23.961888",
          "2021-12-26T19:26:11.522651",
          "2021-12-11T01:14:00.256589",
          "2021-12-16T06:44:05.214502",
          "2020-11-12T09:30:07.332527",
          "2021-12-22T15:45:42.579281",
          "2021-12-29T10:56:24.096359",
          "2021-01-01T16:49:28.480224",
          "2021-10-10T23:53:42.679846",
          "2021-12-30T14:15:14.761226",
          "2020-05-10T02:40:08.782800",
          "2021-12-20T23:52:59.309065",
          "2021-12-15T00:31:06.248811",
          "2021-06-07T14:41:18.005243",
          "2021-12-12T12:18:39.349912",
          "2021-07-07T09:00:02.702973",
          "2022-01-24T22:29:05.700628",
          "2020-12-30T06:22:58.784068",
          "2022-03-04T07:56:22.497353",
          "2020-08-22T09:52:04.767730",
          "2022-01-07T03:35:17.025318",
          "2021-12-26T11:21:35.081684",
          "2021-10-25T09:00:07.405746",
          "2021-01-01T13:12:52.334076",
          "2020-12-30T09:33:54.161775",
          "2020-11-11T11:43:18.664933",
          "2021-12-20T13:06:29.869479",
          "2021-01-03T01:12:17.187518",
          "2021-01-14T17:54:28.642762",
          "2021-12-22T09:14:45.571586",
          "2020-11-06T22:30:37.510342",
          "2020-05-10T21:10:56.732189",
          "2020-11-09T18:58:46.711213",
          "2021-12-24T04:13:17.017545",
          "2021-01-02T02:11:43.533195",
          "2021-12-26T06:43:17.567091",
          "2021-10-24T13:49:10.381610",
          "2021-06-19T06:09:09.038584",
          "2020-06-21T02:03:28.335705",
          "2021-04-19T11:03:27.226648",
          "2020-05-15T01:59:31.801987",
          "2021-01-01T04:38:18.810252",
          "2021-12-15T18:21:22.718452",
          "2020-11-16T11:48:50.491216",
          "2021-01-01T23:03:42.642866",
          "2021-10-23T12:48:53.574839",
          "2020-11-24T00:58:16.944401",
          "2021-12-17T08:51:48.955435",
          "2021-12-27T05:58:33.258542",
          "2021-12-24T09:22:50.292522",
          "2022-01-17T08:01:19.087341",
          "2020-11-24T15:25:43.389025",
          "2021-12-18T12:49:16.903425",
          "2021-01-11T01:29:14.151518",
          "2020-12-29T04:47:56.303855",
          "2020-12-30T02:04:18.598490",
          "2020-11-08T17:08:46.955354",
          "2021-12-29T18:15:43.512315",
          "2020-11-17T19:27:40.146368",
          "2020-06-09T02:42:37.353803",
          "2020-06-14T21:34:20.408717",
          "2021-12-22T17:30:34.214597",
          "2021-12-28T05:56:44.016316",
          "2022-01-02T02:36:48.818202",
          "2021-12-30T21:41:45.713545",
          "2020-09-03T18:26:43.237339",
          "2021-12-12T21:03:20.487834",
          "2021-12-25T23:58:01.003870",
          "2020-09-20T00:38:49.680061",
          "2021-12-14T06:38:22.385344",
          "2021-12-28T22:47:11.855294",
          "2020-07-16T11:07:54.506130",
          "2020-04-30T10:23:36.744280",
          "2021-12-29T10:01:50.407146",
          "2020-05-07T22:55:27.315851",
          "2020-09-08T10:47:12.987560",
          "2022-06-02T18:43:34.513279",
          "2021-12-20T15:07:12.061714",
          "2022-01-01T02:13:52.401962",
          "2021-12-25T16:54:14.894951",
          "2021-12-31T06:28:03.626146",
          "2021-12-10T20:07:54.888797",
          "2021-12-30T16:49:34.927608",
          "2021-12-26T11:25:11.959052",
          "2021-12-10T15:21:32.364292",
          "2021-12-29T14:53:19.223201",
          "2021-12-24T22:22:41.547455",
          "2020-08-03T18:50:48.242496",
          "2021-12-19T05:33:58.081960",
          "2021-12-24T08:51:43.855257",
          "2021-12-27T03:27:51.991375",
          "2021-01-06T04:35:17.365340",
          "2020-12-30T13:39:44.479997",
          "2020-06-26T06:35:38.149898",
          "2022-01-03T19:39:21.651631",
          "2022-02-06T20:05:15.461194",
          "2020-12-31T11:59:41.314255",
          "2021-12-12T13:53:16.498585",
          "2021-01-01T17:24:29.503714",
          "2021-12-30T06:23:15.763991",
          "2022-04-10T02:54:38.240168",
          "2020-06-07T07:23:24.836193",
          "2021-12-14T21:45:05.704638",
          "2021-12-25T14:48:30.351688",
          "2020-07-04T18:19:03.240125",
          "2022-05-15T23:54:36.452240",
          "2022-01-11T14:49:14.541036",
          "2020-05-01T01:55:33.619352",
          "2021-01-16T07:28:44.029473",
          "2021-12-21T14:53:09.239171",
          "2020-05-22T23:49:41.924035",
          "2021-12-20T11:13:53.560678",
          "2020-05-25T18:35:37.676606",
          "2020-05-25T21:24:55.485861",
          "2021-12-24T07:03:02.718624",
          "2021-12-14T14:36:58.817789",
          "2021-11-01T15:42:28.079574",
          "2020-04-29T16:50:32.569790",
          "2021-12-22T02:12:59.651255",
          "2021-12-14T10:49:33.900661",
          "2021-12-23T02:47:06.711169",
          "2020-07-11T08:33:14.895556",
          "2020-05-17T05:25:42.142815",
          "2020-08-05T08:38:37.189810",
          "2020-05-24T10:57:24.802822",
          "2022-01-01T12:15:45.358431",
          "2020-11-19T08:45:41.432095",
          "2021-09-30T05:09:34.754544",
          "2020-08-14T01:29:48.357331",
          "2020-05-14T21:39:37.528984",
          "2021-07-07T20:54:48.739670",
          "2020-05-12T08:35:54.777333",
          "2020-07-01T12:43:51.071718",
          "2020-08-10T13:59:03.654578",
          "2020-06-01T15:54:59.317272",
          "2020-12-30T14:04:57.366963",
          "2021-12-25T23:19:48.692915",
          "2020-06-09T20:37:17.715827",
          "2020-07-10T12:43:55.776083",
          "2021-12-26T19:55:51.036536",
          "2021-12-25T02:57:49.147170",
          "2020-07-10T19:02:40.396741",
          "2021-12-28T08:46:30.706377",
          "2021-12-26T23:37:47.906492",
          "2020-08-07T11:04:12.400742",
          "2021-12-22T01:23:44.082619",
          "2020-06-21T11:49:57.446767",
          "2022-01-05T04:35:33.865017",
          "2021-12-22T14:31:24.001495",
          "2020-08-15T11:03:58.774715",
          "2020-08-23T13:28:41.824362",
          "2020-11-29T02:10:29.298113",
          "2021-12-11T13:00:46.052443",
          "2022-01-03T08:21:36.593089",
          "2020-12-29T06:49:20.982054",
          "2020-04-30T00:41:07.832297",
          "2021-12-16T16:09:33.032111",
          "2022-02-24T18:44:17.937331",
          "2020-05-26T04:30:35.867538",
          "2020-11-11T15:32:09.139365",
          "2020-12-31T08:40:08.190087",
          "2021-12-25T09:42:11.612347",
          "2020-06-12T04:06:18.841536",
          "2020-12-31T03:21:01.924980",
          "2021-12-13T12:26:31.353291",
          "2020-11-25T08:47:59.038009",
          "2021-12-22T16:23:26.556957",
          "2022-02-16T02:33:53.927580",
          "2021-12-28T05:12:02.283288",
          "2021-12-30T18:45:52.242323",
          "2021-12-23T20:39:40.126467",
          "2020-11-21T07:00:24.575851",
          "2020-05-22T16:32:44.868943",
          "2020-11-17T09:06:58.059379",
          "2020-05-11T23:38:48.360671",
          "2021-12-29T09:48:22.093075",
          "2020-11-22T23:36:54.322590",
          "2021-12-17T16:29:18.738009",
          "2020-08-26T04:33:15.373218",
          "2021-12-11T02:53:40.960956",
          "2021-12-29T03:14:20.374447",
          "2020-06-08T12:42:14.954169",
          "2022-01-04T07:36:10.219862",
          "2020-11-24T15:37:20.791736",
          "2021-12-24T08:39:41.948264",
          "2021-12-19T00:33:29.370475",
          "2020-07-09T01:44:42.287254",
          "2021-10-28T02:45:43.120676",
          "2020-04-12T01:10:20.334854",
          "2021-12-28T10:05:49.918791",
          "2021-12-29T00:48:29.866068",
          "2022-01-01T09:15:38.683459",
          "2021-03-08T13:18:17.897922",
          "2021-01-07T23:42:57.563920",
          "2020-05-12T00:48:46.935088",
          "2021-12-25T08:13:12.916647",
          "2020-12-31T10:36:50.663773",
          "2021-12-28T02:51:51.879583",
          "2020-12-31T15:02:33.067440",
          "2020-06-19T05:25:33.675978",
          "2020-08-05T03:52:31.546386",
          "2021-12-11T09:03:22.981632",
          "2020-06-23T01:33:27.816524",
          "2020-07-09T12:19:34.855929",
          "2022-04-09T22:15:22.944785",
          "2021-01-09T18:18:43.037091",
          "2021-01-03T08:28:11.596096",
          "2021-01-11T17:48:49.430091",
          "2021-12-29T03:11:04.374623",
          "2020-11-07T08:01:18.342740",
          "2020-05-07T19:59:15.255360",
          "2020-05-17T18:08:01.387771",
          "2020-07-10T15:43:18.795693",
          "2021-12-10T20:34:23.993576",
          "2021-01-01T11:48:06.425396",
          "2020-05-16T03:37:04.979526",
          "2021-01-12T09:56:06.163024",
          "2020-09-08T23:05:48.111186",
          "2020-11-11T21:43:57.182722",
          "2020-11-02T11:21:27.069136",
          "2021-12-14T17:04:03.345530",
          "2020-01-07T05:19:59.901324",
          "2019-12-12T14:06:30.006709",
          "2020-07-12T16:08:01.086099",
          "2020-05-27T00:17:58.645620",
          "2020-05-06T12:26:06.314397",
          "2020-09-04T13:05:21.673527",
          "2021-01-14T01:23:43.891007",
          "2021-12-15T04:40:05.447895",
          "2019-11-30T14:16:13.258948",
          "2019-12-31T08:24:53.633440",
          "2021-12-28T20:46:07.893404",
          "2021-12-27T04:05:48.984741",
          "2022-01-01T15:16:20.739609",
          "2021-12-20T05:54:42.186236",
          "2021-12-19T09:21:10.415990",
          "2020-11-19T13:58:29.991892",
          "2022-01-03T15:52:52.507429",
          "2021-01-11T05:35:13.547335",
          "2021-01-13T17:31:18.624964",
          "2019-12-16T19:58:37.920759",
          "2021-12-24T22:52:40.128518",
          "2020-09-13T14:21:11.331626",
          "2021-12-22T23:12:11.392349",
          "2022-01-15T07:16:00.253630",
          "2022-02-17T07:17:56.341270",
          "2020-07-10T10:49:48.191736",
          "2021-01-11T14:38:21.439376",
          "2020-10-01T09:02:59.327825",
          "2021-12-28T10:57:23.944842",
          "2020-05-15T00:52:04.151162",
          "2020-09-04T13:02:54.430773",
          "2020-05-16T23:15:14.323990",
          "2021-12-28T12:17:13.124378",
          "2020-11-12T05:26:04.015417",
          "2021-12-12T04:46:52.461041",
          "2021-01-11T20:40:11.205763",
          "2020-03-20T02:44:00.027096",
          "2021-01-31T09:34:38.653038",
          "2021-12-26T06:33:46.919463",
          "2020-11-05T20:45:30.553581",
          "2021-12-28T14:16:31.719271",
          "2021-01-04T12:48:40.938902",
          "2020-11-13T09:29:07.322931",
          "2019-12-04T22:12:25.401723",
          "2021-01-03T21:49:57.582939",
          "2020-05-18T19:45:57.489064",
          "2019-12-07T14:57:34.589150",
          "2021-01-14T05:20:01.628261",
          "2022-01-11T02:56:44.705881",
          "2021-12-21T17:15:49.204003",
          "2020-01-10T09:55:35.642406",
          "2021-12-17T06:18:09.273217",
          "2021-01-06T18:04:55.668895",
          "2021-01-10T07:47:30.747891",
          "2020-08-23T19:20:43.952964",
          "2022-01-04T18:42:06.526380",
          "2021-12-22T18:33:31.311945",
          "2020-03-10T09:36:22.065773",
          "2021-12-16T12:41:32.407333",
          "2021-01-03T06:12:44.402630",
          "2020-05-15T07:47:59.892123",
          "2020-11-24T20:12:34.264042",
          "2021-01-12T16:47:17.849547",
          "2021-12-17T21:05:59.898106",
          "2022-01-24T09:13:00.202271",
          "2020-06-18T19:47:34.401202",
          "2021-01-09T22:48:17.278401",
          "2020-05-14T21:33:57.290525",
          "2021-12-12T11:21:35.694866",
          "2021-11-02T22:06:17.664867",
          "2020-11-08T17:29:55.831425",
          "2021-01-12T08:23:05.780880",
          "2020-03-19T11:15:07.612831",
          "2020-12-29T08:42:43.614905",
          "2021-12-15T10:43:33.910670",
          "2020-07-31T03:12:19.598627",
          "2021-12-31T10:06:13.359356",
          "2020-02-16T11:54:54.305257",
          "2021-12-25T15:05:58.553189",
          "2020-08-10T03:51:30.824186",
          "2021-01-02T07:07:14.269770",
          "2022-01-03T08:49:30.727881",
          "2020-03-13T07:18:03.605710",
          "2021-01-10T19:13:17.520613",
          "2020-05-15T00:06:49.292756",
          "2021-02-08T15:12:20.488440",
          "2021-12-27T05:41:57.843980",
          "2020-05-18T23:11:42.805048",
          "2020-06-20T06:12:43.958215",
          "2020-02-16T16:51:12.848788",
          "2021-10-20T19:07:05.116814",
          "2020-01-19T01:36:20.942521",
          "2021-12-11T02:41:07.487673",
          "2021-01-12T04:18:12.510022",
          "2021-01-12T05:15:11.902024",
          "2020-07-12T17:15:50.013434",
          "2021-12-17T16:39:39.650475",
          "2021-12-18T08:15:08.179882",
          "2020-11-13T07:39:07.422873",
          "2020-09-18T06:08:45.553880",
          "2021-12-29T00:57:09.431014",
          "2020-12-30T05:25:30.706678",
          "2022-01-04T22:52:27.200664",
          "2020-11-08T11:24:42.759176",
          "2022-05-31T01:35:30.427564",
          "2022-01-01T14:36:56.403787",
          "2020-11-26T01:13:32.044292",
          "2022-06-07T22:38:01.650573",
          "2020-12-29T12:40:55.213998",
          "2021-01-12T00:14:00.307366",
          "2020-11-06T07:18:13.048623",
          "2021-01-11T01:46:09.292401",
          "2021-01-01T00:47:42.788698",
          "2021-07-23T12:22:33.688635",
          "2021-12-11T03:57:38.165934",
          "2020-11-08T06:23:27.599028",
          "2021-01-14T02:39:45.180241",
          "2020-12-31T02:18:02.257967",
          "2021-01-01T12:40:40.275742",
          "2020-12-30T08:03:33.205196",
          "2021-09-08T03:38:23.599794",
          "2020-10-07T13:13:09.703860",
          "2021-08-02T23:57:01.526700",
          "2021-12-30T06:23:48.565859",
          "2020-09-16T16:34:50.249531",
          "2020-11-09T11:26:03.056974",
          "2021-10-21T07:26:36.874873",
          "2021-12-21T08:07:40.727061",
          "2020-11-07T22:34:17.391274",
          "2020-11-12T10:09:30.756407",
          "2020-08-22T02:39:32.253986",
          "2021-12-10T19:12:05.768933",
          "2020-11-09T14:32:55.836824",
          "2020-11-08T20:23:46.442329",
          "2021-01-14T16:51:33.958113",
          "2020-08-23T05:48:02.655599",
          "2020-11-07T22:22:46.661734",
          "2021-12-30T16:49:48.758040",
          "2021-12-22T01:53:05.238006",
          "2021-12-24T04:04:01.489783",
          "2020-07-13T11:25:56.557404",
          "2020-09-04T14:58:34.226290",
          "2020-05-20T00:10:10.273453",
          "2021-11-05T11:38:21.927746",
          "2020-12-29T13:03:39.749703",
          "2022-01-14T17:20:28.192678",
          "2021-12-30T06:08:34.763058",
          "2021-01-01T14:03:39.639301",
          "2020-11-08T15:53:33.045262",
          "2021-07-23T13:16:33.308794",
          "2022-02-01T01:25:51.278987",
          "2021-12-13T11:31:58.121461",
          "2020-03-30T03:20:23.472390",
          "2020-11-26T11:18:37.702676",
          "2021-12-23T10:42:23.135380",
          "2020-11-07T18:30:31.861724",
          "2020-11-18T12:31:59.367386",
          "2021-12-26T09:24:49.904553",
          "2022-05-30T15:54:31.346863",
          "2020-11-09T12:51:29.730723",
          "2022-05-14T19:50:27.085521",
          "2020-12-31T17:39:09.276999",
          "2020-11-07T17:47:52.686164",
          "2021-01-09T17:17:49.573302",
          "2022-01-02T09:27:23.336638",
          "2021-12-23T09:12:30.012531",
          "2021-12-29T07:58:26.033525",
          "2021-01-14T21:54:41.579934",
          "2021-01-10T22:44:48.921452",
          "2022-03-31T10:00:48.603399",
          "2021-12-11T09:06:53.521106",
          "2021-02-10T10:50:58.048828",
          "2020-09-13T14:10:10.001918",
          "2020-12-30T13:55:52.328259",
          "2021-12-29T18:18:15.770804",
          "2020-11-06T10:59:52.885936",
          "2021-03-23T18:05:36.250429",
          "2021-06-23T14:36:10.397303",
          "2022-06-13T02:41:22.033233",
          "2022-01-02T17:11:50.981254",
          "2021-12-11T13:08:06.226518",
          "2020-11-13T02:18:00.257872",
          "2021-12-24T18:17:20.918356",
          "2022-06-12T10:44:54.258947",
          "2020-11-11T11:08:52.789557",
          "2021-01-01T02:29:53.876632",
          "2021-12-30T13:32:48.464850",
          "2021-12-29T12:00:48.341723",
          "2020-03-21T14:32:27.195555",
          "2020-12-31T11:21:32.891689",
          "2021-01-11T13:13:39.900294",
          "2021-12-31T15:08:53.990001",
          "2020-12-30T09:41:18.021990",
          "2020-09-04T03:09:46.419170",
          "2021-10-11T13:45:29.153214",
          "2021-12-29T15:27:47.114341",
          "2020-12-30T00:29:49.729613",
          "2020-10-04T01:51:26.949746",
          "2020-11-09T12:49:20.700386",
          "2020-11-08T06:33:44.882360",
          "2020-11-09T10:19:25.707225",
          "2021-06-08T10:17:13.710928",
          "2021-01-07T11:31:47.828380",
          "2020-11-19T12:35:16.816409",
          "2021-12-30T06:54:56.619155",
          "2021-12-01T03:22:18.915645",
          "2022-06-02T00:14:20.850270",
          "2022-06-01T16:05:57.205794",
          "2020-08-15T09:55:57.298278",
          "2021-12-24T08:21:07.838317",
          "2021-12-31T20:16:56.363819",
          "2020-11-09T23:14:50.538855",
          "2022-01-02T08:26:10.824064",
          "2021-12-29T18:43:54.894098",
          "2021-10-11T18:18:04.819923",
          "2021-12-27T06:32:01.320706",
          "2020-11-07T22:20:16.333791",
          "2020-11-07T12:49:03.254702",
          "2022-01-14T22:31:30.452302",
          "2021-12-28T03:40:56.752550",
          "2020-11-11T17:13:01.713849",
          "2020-11-24T16:04:07.698574",
          "2021-05-28T20:19:38.105584",
          "2020-08-31T00:28:01.954199",
          "2021-03-19T00:50:51.676385",
          "2022-01-03T11:08:46.546281",
          "2021-12-29T06:05:58.043151",
          "2020-05-28T15:51:36.449426",
          "2021-12-12T13:53:29.979221",
          "2021-12-24T20:59:47.938679",
          "2021-01-10T18:39:37.962497",
          "2022-01-02T10:23:47.443992",
          "2022-06-11T18:35:54.813185",
          "2020-09-19T16:23:34.496393",
          "2021-01-28T04:28:44.078987",
          "2020-11-02T22:10:18.690226",
          "2020-05-19T16:48:38.151051",
          "2020-08-18T11:54:26.637565",
          "2021-01-15T10:13:22.327560",
          "2022-01-01T09:54:15.421052",
          "2021-12-21T10:29:04.811929",
          "2021-12-21T17:17:32.249368",
          "2020-07-28T00:03:27.070536",
          "2020-12-29T21:37:21.609428",
          "2021-12-21T02:26:50.002465",
          "2021-12-25T19:39:46.189101",
          "2020-05-29T01:32:52.493641",
          "2021-12-22T22:17:00.401998",
          "2021-05-05T09:43:23.117640",
          "2021-01-07T06:24:35.946942",
          "2020-11-07T10:02:58.442718",
          "2021-11-10T10:58:12.934187",
          "2021-12-26T08:25:05.498617",
          "2021-01-13T16:16:02.939249",
          "2020-11-13T15:26:15.069405",
          "2021-12-22T03:02:41.122708",
          "2021-12-04T16:16:36.697371",
          "2021-12-30T01:03:24.132121",
          "2021-12-29T11:18:07.989680",
          "2021-12-28T17:28:39.824294",
          "2021-12-13T06:05:19.414219",
          "2021-01-12T12:20:48.882575",
          "2020-05-07T01:38:42.781101",
          "2021-12-23T04:54:48.988157",
          "2021-12-30T06:03:43.055776",
          "2021-12-27T11:39:48.161133",
          "2021-12-24T07:47:58.132247",
          "2021-12-01T16:44:51.148145",
          "2020-07-28T08:01:09.100949",
          "2021-12-25T21:25:46.545665",
          "2020-12-31T16:45:30.893628",
          "2021-12-20T22:17:36.256637",
          "2021-12-12T03:52:43.573287",
          "2020-08-31T12:18:58.786869",
          "2021-12-23T01:37:58.045317",
          "2021-08-04T15:30:50.974840",
          "2021-12-22T13:42:32.852706",
          "2020-11-10T04:06:01.435017",
          "2021-12-19T16:16:49.842560",
          "2020-07-17T00:15:52.557286",
          "2021-12-29T02:15:22.277208",
          "2021-01-13T06:52:55.424517",
          "2020-07-20T10:41:46.443324",
          "2021-12-21T03:56:37.024001",
          "2021-01-01T04:18:15.066179",
          "2022-01-05T00:09:47.291279",
          "2021-12-12T14:05:23.648339",
          "2021-12-18T05:03:48.938561",
          "2021-01-14T04:30:35.592903",
          "2020-10-02T03:09:43.741508",
          "2021-12-25T05:22:21.843346",
          "2021-12-26T04:40:21.165684",
          "2020-11-28T13:06:31.631930",
          "2020-12-30T10:22:26.948963",
          "2020-03-17T20:08:12.078765",
          "2021-12-26T03:06:01.993581",
          "2021-01-04T06:28:01.883963",
          "2021-01-01T04:09:41.186383",
          "2020-11-03T23:02:11.167747",
          "2021-12-25T10:47:55.236083",
          "2021-12-15T03:24:39.410850",
          "2020-12-31T17:33:22.045560",
          "2020-07-28T03:26:41.017194",
          "2021-01-03T23:58:39.674112",
          "2022-01-02T14:50:49.912600",
          "2020-10-13T05:38:58.483174",
          "2021-12-28T15:00:20.738681",
          "2020-05-08T17:49:42.754309",
          "2021-12-25T20:01:15.049879",
          "2020-09-03T22:45:50.966790",
          "2021-12-29T23:57:44.486231",
          "2021-12-26T00:21:55.329631",
          "2020-11-09T16:59:29.298539",
          "2021-12-21T02:34:04.457155",
          "2021-01-02T21:59:27.126999",
          "2021-12-26T00:07:24.564672",
          "2022-01-02T08:02:08.812795",
          "2021-12-28T06:07:05.996563",
          "2021-12-28T22:38:25.127715",
          "2020-11-03T11:25:21.081213",
          "2021-12-17T00:52:33.576835",
          "2021-12-30T11:27:41.827215",
          "2021-12-12T01:05:30.948489",
          "2022-01-09T22:21:40.754663",
          "2021-10-13T07:19:37.288845",
          "2021-12-29T11:34:03.131084",
          "2021-01-13T06:57:55.115589",
          "2020-04-07T08:41:25.219832",
          "2021-12-26T07:35:45.365299",
          "2021-01-01T21:54:42.466843",
          "2020-05-30T05:43:03.706557",
          "2022-01-07T15:44:38.608633",
          "2021-12-27T20:01:27.130908",
          "2021-12-25T12:19:21.687482",
          "2022-01-05T20:38:47.108414",
          "2021-12-22T04:35:38.604242",
          "2021-12-21T16:08:29.687620",
          "2022-01-06T04:14:43.553565",
          "2020-11-05T15:00:21.869009",
          "2021-12-26T11:52:32.827523",
          "2021-12-25T07:22:19.124070",
          "2021-12-30T07:54:52.963728",
          "2021-12-17T20:26:52.219018",
          "2022-04-08T00:36:07.749914",
          "2021-12-25T14:32:05.735841",
          "2021-12-22T04:27:31.388475",
          "2022-01-07T12:02:44.747952",
          "2021-01-01T11:19:17.932222",
          "2021-01-03T04:11:05.208462",
          "2021-12-22T07:43:53.479809",
          "2021-12-21T02:17:27.186527",
          "2021-12-26T17:59:43.050755",
          "2022-01-02T00:39:51.079392",
          "2022-01-03T10:36:58.365536",
          "2020-11-27T04:25:24.462387",
          "2021-12-28T17:49:49.228680",
          "2021-12-16T09:41:58.948849",
          "2021-12-24T16:44:21.938443",
          "2021-12-24T04:41:13.131683",
          "2021-12-30T21:12:43.536200",
          "2020-10-11T12:25:20.893678",
          "2021-01-02T14:26:03.883932",
          "2021-12-23T03:54:15.088378",
          "2021-12-29T05:27:28.106289",
          "2020-07-29T15:31:44.702835",
          "2021-12-15T03:11:30.860978",
          "2020-11-27T00:13:44.288505",
          "2021-12-17T04:07:05.656694",
          "2021-11-01T12:34:19.270331",
          "2021-01-08T14:02:02.178737",
          "2021-12-31T02:41:07.715210",
          "2021-01-02T03:18:16.782861",
          "2021-10-14T03:07:07.987704",
          "2021-12-13T08:24:11.646239",
          "2020-11-10T10:50:49.982923",
          "2021-12-14T02:42:10.577932",
          "2021-12-13T23:49:30.941807",
          "2020-11-12T09:49:36.127972",
          "2021-12-30T14:17:35.453878",
          "2022-02-03T20:49:33.855498",
          "2021-12-28T13:37:18.958031",
          "2021-12-14T04:57:51.963147",
          "2020-12-31T07:39:31.117860",
          "2021-10-29T14:35:19.142802",
          "2021-01-04T22:32:55.690950",
          "2021-12-22T17:35:08.555756",
          "2021-12-26T14:14:36.548474",
          "2021-12-18T21:02:35.598857",
          "2021-12-26T02:38:39.066492",
          "2020-05-26T22:46:21.494824",
          "2020-08-02T10:15:51.971337",
          "2022-01-04T04:49:40.368350",
          "2021-12-28T05:15:08.932920",
          "2021-01-01T08:44:19.380123",
          "2021-01-05T23:29:44.715520",
          "2021-12-25T22:06:19.508170",
          "2021-12-20T06:44:08.388107",
          "2020-09-28T13:35:20.528203",
          "2020-12-31T05:05:45.314089",
          "2021-12-30T17:39:57.478185",
          "2021-12-21T21:54:03.481437",
          "2022-01-05T05:27:33.119424",
          "2021-12-25T18:08:15.809050",
          "2021-12-31T14:32:28.648530",
          "2021-12-31T08:37:25.942200",
          "2020-12-31T14:57:30.683179",
          "2020-11-15T23:17:04.867203",
          "2021-12-28T03:48:00.573577",
          "2021-03-19T01:30:50.777415",
          "2020-05-09T05:32:44.086972",
          "2020-11-04T17:48:15.751597",
          "2022-05-30T13:37:06.788547",
          "2020-11-08T19:00:10.359989",
          "2021-01-15T15:57:49.664776",
          "2021-01-12T19:13:48.063034",
          "2021-12-30T10:27:48.300529",
          "2022-02-26T00:45:15.024677",
          "2019-11-05T06:40:43.698043",
          "2020-11-06T13:45:13.769354",
          "2022-04-10T08:46:27.138158",
          "2021-05-08T01:31:47.819063",
          "2020-11-09T05:21:04.944688",
          "2020-12-31T21:33:03.798609",
          "2021-05-01T21:03:16.910225",
          "2021-12-25T07:54:10.639876",
          "2022-05-30T00:56:47.294937",
          "2021-01-13T11:23:26.685420",
          "2020-11-10T20:27:58.197286",
          "2020-11-16T21:13:17.908611",
          "2020-11-25T22:37:14.499751",
          "2021-02-19T04:29:07.942517",
          "2021-12-14T05:23:46.758027",
          "2020-11-02T00:11:00.587923",
          "2021-03-03T05:21:37.590945",
          "2020-11-12T22:15:07.128050",
          "2020-11-04T00:53:29.075638",
          "2022-04-07T03:36:22.913947",
          "2020-11-14T01:57:52.715316",
          "2020-11-11T17:32:42.339833",
          "2020-11-18T00:35:25.476041",
          "2021-02-01T17:27:10.471175",
          "2020-11-14T09:27:44.136184",
          "2021-03-03T03:01:46.170335",
          "2022-03-26T23:25:00.118338",
          "2020-11-16T14:42:07.317323",
          "2020-05-08T10:27:01.615957",
          "2022-05-30T06:39:04.437607",
          "2020-11-14T19:44:31.106381",
          "2021-01-01T21:44:43.007630",
          "2021-10-30T23:17:56.174548",
          "2021-05-01T02:53:42.020660",
          "2020-11-08T13:33:18.897256",
          "2020-05-11T04:39:57.512284",
          "2021-01-01T16:19:14.357744",
          "2021-03-29T14:43:38.225341",
          "2022-02-11T07:13:29.431844",
          "2021-12-25T08:33:43.508557",
          "2021-01-06T17:22:42.547758",
          "2020-11-12T05:04:37.807952",
          "2021-03-18T04:57:42.908412",
          "2022-03-02T06:27:25.125960",
          "2021-04-24T01:20:04.869132",
          "2020-05-11T09:36:57.203557",
          "2020-05-16T11:16:11.130129",
          "2021-03-13T07:04:27.551002",
          "2022-01-18T20:06:02.647289",
          "2020-05-09T16:11:59.212135",
          "2020-04-14T20:05:33.703555",
          "2020-11-26T09:40:21.141099",
          "2020-11-26T22:02:21.196236",
          "2020-11-14T02:19:18.113672",
          "2021-01-28T21:43:50.297684",
          "2020-12-30T04:19:19.662692",
          "2021-12-14T08:43:38.825443",
          "2022-01-01T09:59:51.893401",
          "2021-01-25T03:51:46.808840",
          "2020-11-03T02:49:38.588015",
          "2020-12-30T03:06:29.044619",
          "2020-11-14T01:11:36.625761",
          "2021-12-23T05:34:18.096616",
          "2021-01-12T18:38:48.203104",
          "2021-01-13T17:51:26.308659",
          "2020-11-09T22:52:00.869675",
          "2021-03-12T10:26:50.389480",
          "2020-11-06T16:52:01.660363",
          "2021-01-05T07:11:47.012950",
          "2021-01-24T04:28:33.772984",
          "2019-11-22T14:26:16.196056",
          "2020-11-19T20:39:13.332257",
          "2022-04-09T23:10:00.887995",
          "2020-06-19T00:59:23.864802",
          "2020-04-24T17:44:35.688657",
          "2021-01-09T00:06:44.363799",
          "2021-04-07T02:27:19.234471",
          "2021-02-24T11:48:43.151958",
          "2021-12-29T10:09:32.721878",
          "2020-11-13T08:57:59.754539",
          "2020-11-22T17:12:50.158348",
          "2020-11-09T07:24:28.840349",
          "2020-03-14T03:00:11.550976",
          "2021-03-06T20:46:58.043667",
          "2021-01-05T22:48:07.281550",
          "2022-01-15T07:02:11.081001",
          "2020-11-13T16:55:05.781651",
          "2021-01-01T16:17:44.887210",
          "2021-05-27T20:46:50.335337",
          "2020-09-05T19:53:18.317747",
          "2020-11-08T03:40:43.451016",
          "2022-05-30T17:11:26.367453",
          "2022-05-30T14:08:14.561915",
          "2021-12-20T11:30:23.954261",
          "2021-06-12T07:49:13.269592",
          "2020-05-31T21:14:55.136778",
          "2020-11-16T21:51:26.113994",
          "2022-02-18T22:29:48.689317",
          "2019-11-09T22:51:50.549371",
          "2022-01-03T14:14:48.332412",
          "2020-11-11T22:22:29.418038",
          "2022-02-03T07:18:05.155855",
          "2020-11-05T12:42:45.907477",
          "2022-04-12T05:37:45.542129",
          "2021-06-17T02:34:24.172430",
          "2021-12-25T08:10:47.969706",
          "2021-10-10T15:42:44.908436",
          "2022-01-01T22:48:53.297753",
          "2020-11-18T14:31:14.689445",
          "2021-12-17T09:01:01.023190",
          "2021-12-18T08:08:30.565198",
          "2020-11-15T13:35:55.355567",
          "2020-12-31T18:19:12.064422",
          "2022-05-29T00:29:02.798291",
          "2022-01-04T15:13:39.851035",
          "2021-10-09T02:00:48.057689",
          "2021-12-28T21:09:03.189003",
          "2020-11-25T13:44:25.169500",
          "2021-05-06T16:13:31.945019",
          "2019-11-10T03:37:06.982210",
          "2020-05-11T02:30:24.070635",
          "2022-05-29T05:14:25.294240",
          "2021-01-11T10:09:43.191403",
          "2022-05-30T05:58:57.763802",
          "2021-12-31T15:16:49.051454",
          "2021-06-19T20:31:03.079288",
          "2021-01-05T09:23:41.002649",
          "2021-01-03T04:30:41.087479",
          "2019-11-13T07:34:41.683678",
          "2020-12-31T10:51:32.027133",
          "2021-01-29T02:33:50.047358",
          "2020-11-01T04:43:00.296767",
          "2020-03-20T19:34:03.331103",
          "2021-05-25T07:30:07.054562",
          "2021-12-28T20:38:11.586023",
          "2021-10-04T18:57:57.397185",
          "2021-01-30T08:42:41.859378",
          "2022-01-05T23:38:13.833243",
          "2021-02-12T15:32:31.463930",
          "2020-09-02T11:57:52.834198",
          "2021-12-13T04:10:09.621860",
          "2022-01-09T17:58:19.459417",
          "2021-12-30T21:05:40.725529",
          "2021-12-27T08:55:58.826746",
          "2021-02-08T05:27:16.918458",
          "2021-12-19T03:06:48.622463",
          "2019-11-03T16:59:05.794445",
          "2021-12-21T14:55:15.588809",
          "2020-05-07T20:17:19.615932",
          "2020-12-30T05:48:24.651705",
          "2021-12-20T18:57:18.058944",
          "2020-11-21T00:42:50.706296",
          "2020-12-30T09:12:45.770765",
          "2020-11-10T17:55:24.705937",
          "2021-12-29T09:14:55.769208",
          "2020-01-02T21:15:32.501331",
          "2022-01-02T00:13:11.378047",
          "2020-11-15T23:57:50.714903",
          "2022-05-31T16:55:37.683474",
          "2021-01-25T01:05:13.616077",
          "2021-01-02T17:21:17.203264",
          "2021-01-15T15:11:35.214833",
          "2019-11-09T18:11:03.561503",
          "2020-11-05T16:24:45.297088",
          "2020-11-15T17:55:45.057779",
          "2020-05-28T16:55:35.499077",
          "2021-12-12T18:41:19.546154",
          "2022-05-29T00:38:42.127698",
          "2021-01-09T12:29:42.128544",
          "2021-01-14T23:11:14.473800",
          "2021-12-27T00:26:23.310244",
          "2020-11-12T18:32:47.319392",
          "2021-12-20T04:10:48.807480",
          "2021-01-09T05:54:53.080700",
          "2021-12-28T20:56:19.576113",
          "2020-05-07T14:59:50.488976",
          "2020-11-16T14:39:35.609942",
          "2020-11-17T05:49:20.118376",
          "2020-11-03T07:20:11.865333",
          "2022-01-03T12:29:03.256725",
          "2020-11-09T18:49:00.218973",
          "2021-09-16T23:35:21.996457",
          "2022-02-05T21:55:54.879385",
          "2019-11-14T04:39:21.207518",
          "2019-11-09T10:02:13.288007",
          "2020-12-31T03:11:29.865652",
          "2021-05-09T13:31:34.025973",
          "2022-01-08T06:19:58.619864",
          "2021-12-31T06:45:25.700488",
          "2021-03-05T16:01:53.728115",
          "2021-12-12T02:15:20.486968",
          "2021-01-12T07:02:23.347572",
          "2021-05-31T08:37:29.039519",
          "2021-01-12T04:04:37.274770",
          "2020-11-17T03:53:41.813230",
          "2021-01-01T22:12:20.632497",
          "2021-01-11T09:30:35.883465",
          "2019-11-16T05:54:42.071534",
          "2020-06-06T06:50:15.271536",
          "2022-05-29T22:43:34.788542",
          "2020-11-11T22:40:30.381477",
          "2021-12-11T06:59:44.590278",
          "2020-12-29T13:27:31.974789",
          "2022-02-05T23:44:27.604254",
          "2021-05-26T02:42:53.717959",
          "2019-12-30T03:26:31.867821",
          "2021-05-07T15:45:27.266660",
          "2020-11-04T22:07:13.061989",
          "2020-11-02T17:41:13.341171",
          "2021-12-09T01:22:20.767915",
          "2021-01-27T15:21:55.432344",
          "2020-11-13T19:03:08.860787",
          "2020-12-31T20:41:44.798799",
          "2021-12-20T03:22:04.246691",
          "2022-01-28T19:19:10.581884",
          "2021-01-11T23:56:51.059957",
          "2020-07-03T09:20:25.775891",
          "2022-05-31T08:20:04.889923",
          "2020-11-03T13:15:13.722337",
          "2021-03-13T07:52:26.828544",
          "2020-11-05T01:44:16.436302",
          "2021-01-27T08:24:13.363188",
          "2020-05-12T07:06:22.854365",
          "2019-11-17T09:52:11.828303",
          "2021-04-08T10:02:39.248124",
          "2020-11-22T18:54:00.684780",
          "2021-02-03T18:05:07.980735",
          "2019-11-20T21:00:04.173335",
          "2020-11-15T17:49:32.425148",
          "2021-01-07T09:21:14.512134",
          "2020-12-30T17:57:49.371259",
          "2021-04-08T21:25:27.988643",
          "2020-09-28T13:17:31.870587",
          "2019-11-11T10:50:56.303379",
          "2021-12-21T10:44:59.375003",
          "2021-02-26T11:41:53.438442",
          "2019-11-17T09:09:59.529213",
          "2021-12-17T04:07:28.066210",
          "2021-12-17T22:58:44.276862",
          "2020-02-23T16:23:53.475072",
          "2021-01-12T14:10:09.847501",
          "2021-10-18T17:34:19.394233",
          "2020-11-14T09:03:32.538264",
          "2021-03-07T08:13:43.584993",
          "2020-11-16T16:20:22.889137",
          "2020-11-03T13:52:26.989720",
          "2021-01-06T23:04:02.566855",
          "2020-11-25T10:54:00.883167",
          "2021-12-24T04:14:28.888990",
          "2020-12-31T19:41:44.937777",
          "2021-12-29T23:28:08.991751",
          "2020-11-19T21:22:47.910001",
          "2020-11-16T05:27:14.924166",
          "2021-12-17T06:23:48.108630",
          "2021-12-30T18:22:24.314108",
          "2019-10-31T04:10:47.178252",
          "2020-11-14T05:21:08.672237",
          "2022-01-13T00:11:42.595332",
          "2020-11-13T13:09:37.382410",
          "2021-01-05T20:08:17.971378",
          "2020-05-09T16:43:45.367644",
          "2021-06-09T16:13:11.087498",
          "2020-12-31T03:01:12.674608",
          "2021-05-12T14:27:56.922065",
          "2021-01-15T22:05:00.389818",
          "2020-06-25T13:45:16.884092",
          "2021-12-27T20:22:38.925724",
          "2020-11-14T11:36:02.770194",
          "2020-12-31T14:35:00.654206",
          "2021-05-28T00:15:59.758566",
          "2020-11-15T04:00:08.509301",
          "2021-12-29T03:16:57.893394",
          "2020-11-05T00:09:34.376666",
          "2021-06-05T16:40:02.969021",
          "2020-11-25T05:51:39.176212",
          "2021-12-30T03:44:59.621741",
          "2020-06-10T21:31:47.342200",
          "2021-01-08T21:39:31.694344",
          "2020-11-10T19:40:42.866562",
          "2021-12-29T01:37:26.343550",
          "2019-11-11T14:25:54.933784",
          "2021-02-09T03:26:52.977546",
          "2021-02-18T13:35:06.013085",
          "2019-11-16T08:33:11.054606",
          "2020-05-10T07:21:53.397242",
          "2021-01-03T11:32:18.092284",
          "2020-05-08T19:50:07.108657",
          "2020-09-01T20:39:10.993879",
          "2020-09-01T14:35:14.372147",
          "2021-03-28T16:52:30.040932",
          "2022-01-16T04:52:31.888115",
          "2020-11-26T02:06:20.815778",
          "2020-11-18T10:34:20.876103",
          "2020-11-16T05:55:09.398673",
          "2020-03-18T23:34:40.551096",
          "2020-11-12T06:34:54.260151",
          "2020-11-14T12:39:48.403573",
          "2021-01-25T20:34:51.369959",
          "2021-02-13T16:47:25.872446",
          "2022-01-14T17:44:28.406425",
          "2020-11-17T06:03:29.665813",
          "2022-05-29T02:14:44.130505",
          "2021-12-21T16:53:30.707699",
          "2020-11-22T05:26:02.151907",
          "2021-01-13T11:30:49.506062",
          "2020-11-04T08:30:12.953170",
          "2021-12-26T18:22:56.445775",
          "2020-11-02T06:01:34.450785",
          "2022-01-04T10:30:58.118283",
          "2021-04-16T14:11:24.513560",
          "2021-01-01T21:02:22.844284",
          "2020-11-03T09:13:44.922793",
          "2021-12-21T19:45:23.329031",
          "2021-12-28T03:45:01.908467",
          "2021-12-29T12:35:12.107070",
          "2019-11-24T13:22:33.812774",
          "2021-12-22T07:45:25.376320",
          "2022-06-01T21:57:16.781921",
          "2020-05-08T23:31:35.950801",
          "2021-12-21T22:51:06.336652",
          "2021-10-30T17:51:43.691293",
          "2020-11-15T00:35:19.196834",
          "2021-06-10T14:51:13.260575",
          "2021-04-24T05:41:41.185776",
          "2021-06-19T04:59:19.230609",
          "2021-02-01T22:45:55.375985",
          "2021-01-13T08:52:58.887244",
          "2020-11-02T06:42:59.968321",
          "2021-03-28T10:43:26.104198",
          "2022-04-12T14:52:55.038777",
          "2022-06-01T10:55:14.731775",
          "2021-12-11T03:23:27.503817",
          "2021-01-13T02:45:23.200238",
          "2020-12-29T05:09:31.882285",
          "2022-01-16T06:33:32.795138",
          "2019-11-03T02:02:38.809893",
          "2020-01-03T00:33:14.827819",
          "2021-10-07T21:04:29.026061",
          "2020-12-30T23:34:49.513882",
          "2020-11-11T08:47:19.329268",
          "2021-12-10T13:31:45.387702",
          "2020-11-15T09:21:59.922143",
          "2021-04-15T23:17:24.384556",
          "2021-04-30T04:26:51.334875",
          "2020-11-16T18:48:27.786947",
          "2020-11-23T01:03:42.567085",
          "2021-03-18T18:15:30.395092",
          "2021-12-14T16:14:00.259812",
          "2021-02-24T14:03:55.689601",
          "2021-12-26T16:43:35.730737",
          "2020-11-15T19:31:49.297466",
          "2021-06-07T07:23:08.075030",
          "2020-11-16T17:36:00.941124",
          "2021-12-23T06:48:25.282297",
          "2021-09-21T23:33:44.536506",
          "2021-06-06T21:33:03.098562",
          "2021-09-18T01:24:36.051690",
          "2020-05-23T00:52:38.728503",
          "2020-11-11T11:30:49.013896",
          "2020-11-16T10:20:37.747067",
          "2022-05-31T18:42:23.557676",
          "2022-01-10T23:16:17.124993",
          "2022-06-01T19:19:26.719435",
          "2021-12-27T05:38:21.273510",
          "2022-03-23T01:33:00.847072",
          "2020-11-14T08:28:28.270013",
          "2020-11-05T02:09:44.199121",
          "2021-12-29T09:51:10.123658",
          "2020-02-21T08:44:01.156831",
          "2021-10-29T19:10:30.238983",
          "2020-09-01T04:44:14.157250",
          "2022-05-31T10:30:45.228416",
          "2020-03-12T18:47:36.391192"
         ],
         "xaxis": "x",
         "y": [
          0.56423082665556,
          0.18042834538189756,
          0.31172373013517274,
          0.7636597693221945,
          0.12098976734461653,
          0.03854712936440019,
          0.142449195298061,
          0.5313802622517868,
          0.25135619580587365,
          0.7991726731751317,
          0.17762824153829726,
          0.25601317376991706,
          0.9035854601300102,
          0.15932958159327926,
          0.10303585644364455,
          0.25175772693984355,
          0.9638749461837284,
          0.8985787008731976,
          0.4693945297990729,
          0.3580452639533731,
          0.7979735848615307,
          0.10733275943171627,
          0.5668190397113523,
          0.8561190447825647,
          0.6569368243441239,
          0.8685433295209571,
          0.3354599094498718,
          0.9183248456111831,
          0.5502180022390873,
          0.053170915224201476,
          0.7207186567028943,
          0.8848967507735894,
          0.9713122199292902,
          0.5684358597336377,
          0.3904539093516316,
          0.05676087813699049,
          0.09117619449731318,
          0.32397007451855864,
          0.5121218808488212,
          0.4929527586564989,
          0.3399762425646028,
          0.3605483593599549,
          0.4410380361184737,
          0.5762282246078654,
          0.0010535858053569713,
          0.3337436501627389,
          0.35368805778005385,
          0.5802778882256944,
          0.30068186977457934,
          0.16841929190555804,
          0.6753885064966899,
          0.2408906002521144,
          0.7498366070260204,
          0.2105809138114707,
          0.9617877702012245,
          0.1185780574985672,
          0.15546329550604765,
          0.5275862888124441,
          0.3627104946892019,
          0.6745441505856244,
          0.02082719127784316,
          0.9164701892969258,
          0.6369955340762704,
          0.6187690330944366,
          0.7733169195442933,
          0.010164620470251018,
          0.2059567045658537,
          0.11264741791929445,
          0.9642996756657845,
          0.12913555225066142,
          0.9959441824552167,
          0.2628704860318869,
          0.1908562260883081,
          0.900905489429168,
          0.8439652078075087,
          0.9790812706907539,
          0.05096545670467301,
          0.8060706395304672,
          0.20880707506405372,
          0.9065521751418537,
          0.9818163841585907,
          0.005410575891889757,
          0.9606345603285733,
          0.4579889008079058,
          0.9534382569986791,
          0.8036598797966303,
          0.5842840219698514,
          0.2902018482929375,
          0.10628050671077882,
          0.9382841772982647,
          0.6149889160562348,
          0.5564028933125204,
          0.032225987973952486,
          0.7527997266442391,
          0.5750177464279749,
          0.939096565109953,
          0.35393335776760204,
          0.1554198630654493,
          0.7085846385368569,
          0.05533110841834499,
          0.3735518161049848,
          0.3494383745176819,
          0.8831365219881431,
          0.06658653341016918,
          0.09760313386706643,
          0.7582090282659236,
          0.9306315766668707,
          0.4294264612441765,
          0.9791800633894845,
          0.322799648989079,
          0.8483313773050578,
          0.00898786614907443,
          0.7744869036262997,
          0.5099039388322936,
          0.6705895608436621,
          0.6565233049198804,
          0.41446559141958894,
          0.11657402935788275,
          0.8695406405942989,
          0.06839029008578767,
          0.1629382049493775,
          0.7990950164365088,
          0.4096169460980059,
          0.7217316456548106,
          0.54153580204011,
          0.0701390291461168,
          0.7328205628411798,
          0.6626904659076728,
          0.5340432270628295,
          0.7573832471990367,
          0.111780428920631,
          0.1930801942728736,
          0.07602066810892638,
          0.3293404252278953,
          0.5704573855553056,
          0.8172163847404929,
          0.9522621842360316,
          0.3135660632810445,
          0.012477141022555704,
          0.6577287478212624,
          0.762585181179268,
          0.5919560711356241,
          0.9890511085307605,
          0.08279285938296932,
          0.9407987588186919,
          0.37549555703142434,
          0.6683780936607312,
          0.4065274521269341,
          0.5763887775092844,
          0.5128633877776799,
          0.2824905080462011,
          0.5290929028136526,
          0.9881308171749656,
          0.6632212606253107,
          0.04993973522240425,
          0.9022950881693722,
          0.508886735009752,
          0.15754726501251803,
          0.9656350800676434,
          0.14816053459560274,
          0.677789663742361,
          0.2989266394099013,
          0.6281255716648293,
          0.8036695918762305,
          0.35475797833072076,
          0.8959225501395669,
          0.7227998420412901,
          0.02705803305097143,
          0.8048024407005023,
          0.18617974126162284,
          0.6174479994087048,
          0.2751331381934654,
          0.36048141743923845,
          0.8750844718793941,
          0.546644673884714,
          0.03933806506095394,
          0.9278783684820177,
          0.7524800954946954,
          0.41431515477439707,
          0.07201681440365315,
          0.19546491043144232,
          0.8589913915055689,
          0.608556734198659,
          0.4683811116378107,
          0.4260293517779783,
          0.5133281106294976,
          0.8420459558435647,
          0.6377902505964193,
          0.7009613466854658,
          0.8173436757083985,
          0.4532332533288409,
          0.26646904724000764,
          0.16132895924945834,
          0.7938359978335313,
          0.7860449071436312,
          0.1533384052365654,
          0.949579225884127,
          0.5579796299457305,
          0.9882160868021709,
          0.8308533892911018,
          0.07266313533276625,
          0.6603536971932019,
          0.5859585880580658,
          0.6237066546186917,
          0.11175215322659393,
          0.5919857736766432,
          0.2877136931098978,
          0.40511808300926855,
          0.7655331637105826,
          0.7624521133166536,
          0.13433414171394276,
          0.3795256342717003,
          0.9363689446698366,
          0.02481087805055493,
          0.3808291727791798,
          0.7306220984834777,
          0.4274030028538177,
          0.4592541195165213,
          0.12940919779311777,
          0.7472822098926487,
          0.5094080426866802,
          0.6067554524694506,
          0.5856307918125544,
          0.630898006789441,
          0.03943194114629767,
          0.6551483692131114,
          0.4770486187878783,
          0.7004983351612893,
          0.2811447458958821,
          0.8605540516004448,
          0.3943809942289166,
          0.06955517238875586,
          0.7631143631884171,
          0.39055089924803965,
          0.20238400252586464,
          0.4974031845297613,
          0.5222150245877956,
          0.024503159708482602,
          0.12457710656697729,
          0.22528245242448075,
          0.9804232892702163,
          0.32810200286017166,
          0.43960904066132933,
          0.36604649177555504,
          0.15030194811511233,
          0.5359544103201076,
          0.09880372321068787,
          0.10486257039404856,
          0.10791512068795284,
          0.9156615441015555,
          0.0940393565894494,
          0.03153136834625381,
          0.12242211538582681,
          0.25474779885056265,
          0.692984950462038,
          0.982872852113979,
          0.6527985386637017,
          0.007589897015863434,
          0.5634641435335147,
          0.7443257534216905,
          0.2363006858829575,
          0.9286626314918711,
          0.0567927558697392,
          0.7282584214600253,
          0.9804257383219005,
          0.40566458933271554,
          0.974853315976273,
          0.11869860059490112,
          0.4443882673434393,
          0.19128330685013362,
          0.03087128854513943,
          0.390849261789295,
          0.12219481474462945,
          0.11751353262265662,
          0.8820155472333372,
          0.30598585187058447,
          0.01016147253349009,
          0.5971043474581266,
          0.285182901796754,
          0.6032075511782871,
          0.5393914304728544,
          0.9990046321687708,
          0.3227949373255199,
          0.7795974501594407,
          0.6400481219067714,
          0.3770139653861513,
          0.19477436911671142,
          0.776486961705405,
          0.7619322858055477,
          0.9229197378092662,
          0.8420023065329784,
          0.02587328739956285,
          0.414265911271008,
          0.42211610101162145,
          0.9332891497218315,
          0.2886163773265775,
          0.7549925251739327,
          0.07806152991198834,
          0.4160263171313532,
          0.41482308425304426,
          0.5451823012437921,
          0.20178746164331574,
          0.2758142565393189,
          0.5598733029097899,
          0.26338447642036666,
          0.8562730815576332,
          0.6010905788552483,
          0.09437056243300335,
          0.639481680891794,
          0.40162211997369124,
          0.6722237039878504,
          0.0951105245435323,
          0.7458149392378393,
          0.08259652105369697,
          0.027042294965850977,
          0.5892402055205952,
          0.6337450204052429,
          0.3658449901982318,
          0.44522980255587175,
          0.6941558552110407,
          0.12129336946177183,
          0.7082667536113323,
          0.6070662857673466,
          0.22526944333999266,
          0.8332883144494874,
          0.22547523876362618,
          0.9467079322008921,
          0.44978392895051655,
          0.9272605461823256,
          0.7085454162942316,
          0.5577326267266668,
          0.7648201620686426,
          0.047942663986166645,
          0.3494304318226561,
          0.9392059602793007,
          0.6375491884657442,
          0.46101595146239593,
          0.5760836359059311,
          0.5437484562376773,
          0.9348458743964113,
          0.4952691468501731,
          0.470726851541552,
          0.4452204570098569,
          0.24147225855245535,
          0.6146935652442037,
          0.7257743134705076,
          0.6951827331879463,
          0.9317760554662659,
          0.2760139209296474,
          0.42400425404100983,
          0.26818006199114086,
          0.8713165603134547,
          0.013922849241765567,
          0.448252761289049,
          0.6389197440506675,
          0.4967990584462536,
          0.621665253058153,
          0.9291485114735418,
          0.2981845008890903,
          0.4532110375600895,
          0.6433797481054915,
          0.7832452132539639,
          0.1944528179385936,
          0.35369547734203866,
          0.372229548571933,
          0.5675714187467688,
          0.9797247578544045,
          0.32936422361543305,
          0.2919167500967258,
          0.7232352678424709,
          0.7715158148195792,
          0.6334136704865712,
          0.3755013845249324,
          0.507861040434653,
          0.9458426047783753,
          0.11634521207084614,
          0.4425410394044136,
          0.8269422428732816,
          0.6818850114855339,
          0.48578716984651626,
          0.4492068990719964,
          0.9373915308884629,
          0.2869043991824357,
          0.5001427965531644,
          0.10298440518018914,
          0.2601566495355895,
          0.4318150618438039,
          0.4326668102958884,
          0.9050360036168752,
          0.9596775048545245,
          0.267554163919674,
          0.889752597815596,
          0.26990713218214635,
          0.9636701531058672,
          0.3381886451790277,
          0.6268542021054034,
          0.9951441801427954,
          0.03635288668704462,
          0.743903680258795,
          0.21849479195763866,
          0.6749116078098768,
          0.805367219280445,
          0.39942347679990753,
          0.3799060545914644,
          0.2050775607476102,
          0.3723613286592291,
          0.020306348697656684,
          0.3988620843695433,
          0.20431689470427605,
          0.8622989706772285,
          0.48633928475383104,
          0.2363860181454982,
          0.5580657548195889,
          0.11454948177546576,
          0.4185495379855836,
          0.5221031176178408,
          0.8853718636743263,
          0.16789321421841197,
          0.2836026699065688,
          0.1112058299615406,
          0.8702515731406947,
          0.33946102192159233,
          0.7287345393857139,
          0.26106684996897933,
          0.03941605307281071,
          0.0677533098954749,
          0.8294183614083626,
          0.4333208192750606,
          0.11497305139749792,
          0.7743219760833582,
          0.2072705610923098,
          0.04535599746043961,
          0.5063579702276156,
          0.1671738844565669,
          0.9283980217012183,
          0.8375633407441606,
          0.25172179436782205,
          0.20619559441633117,
          0.7483809947135445,
          0.27198599217067665,
          0.8186672377534256,
          0.5822930540744636,
          0.35694154898964603,
          0.08005714839260603,
          0.7352853341178258,
          0.06378211160499603,
          0.16673748168992575,
          0.9449599765711529,
          0.8106466531188372,
          0.1577209948438395,
          0.008441607887458957,
          0.8749882981625767,
          0.8981471522009216,
          0.5085226206306831,
          0.5938592289556112,
          0.974451412334732,
          0.940757517429602,
          0.8115141728691778,
          0.41217504738262545,
          0.3946077877793488,
          0.2660849267477071,
          0.187489672101117,
          0.17767051411054147,
          0.5965235193391182,
          0.01628250088912364,
          0.7653459687987955,
          0.058157356821870065,
          0.4583373918852679,
          0.10805898690188831,
          0.6033385679585114,
          0.6522851156845885,
          0.6660581842187394,
          0.8232748176443476,
          0.9492887161215874,
          0.06949030658405841,
          0.1526740257202862,
          0.037115010737212906,
          0.9994461537300474,
          0.5156331757267811,
          0.7687557047058069,
          0.385223861153279,
          0.7858607057882822,
          0.8294713233957758,
          0.42050442314052927,
          0.521533917490701,
          0.9587754754237506,
          0.5514858703968113,
          0.13192740841192863,
          0.2254075488648346,
          0.7862512521066669,
          0.10465217267463234,
          0.1433189650867498,
          0.5664465930668476,
          0.2800357653257697,
          0.13612568530150504,
          0.4448658056338788,
          0.6833448171286066,
          0.1466988955016535,
          0.15147517051541448,
          0.0664143430830999,
          0.21461301697357849,
          0.7132623547863292,
          0.999280287055328,
          0.29635362713646374,
          0.6624669096942611,
          0.053046422438441376,
          0.5913042348488157,
          0.6942862999486802,
          0.16577164095350871,
          0.07759478787708218,
          0.3845146243571068,
          0.5952379519157037,
          0.645859713998453,
          0.0885105598307051,
          0.6060524979259334,
          0.4574577409986019,
          0.6018610494996333,
          0.19693249463908225,
          0.638456082215853,
          0.81353321757632,
          0.17049511471447487,
          0.09137562995646398,
          0.7981173680296442,
          0.31045792154543095,
          0.8021758985079449,
          0.7561141303784567,
          0.15567175520324228,
          0.2784157841633078,
          0.6952207970224064,
          0.06827657595032877,
          0.10424992135132705,
          0.7121102243279142,
          0.22444285325609392,
          0.5709742663992415,
          0.4669636135671076,
          0.5388707398578247,
          0.9471389873497733,
          0.9810707998595604,
          0.43365782412251097,
          0.3626846734995369,
          0.5370380074035024,
          0.7682762336139697,
          0.08413714719098708,
          0.19160969839570785,
          0.4182406838563111,
          0.4003089018716769,
          0.6245367247863355,
          0.45904045812596816,
          0.2753576001975061,
          0.9307233629367635,
          0.8229014307820741,
          0.026852396289412495,
          0.9633487612708344,
          0.050403575490872266,
          0.20974469007596808,
          0.8233015753197584,
          0.6995084332311768,
          0.2483162615028064,
          0.9916608913625375,
          0.3812039422054062,
          0.6519470562845903,
          0.4684715422654052,
          0.8179989058937157,
          0.1782836081005409,
          0.6804837834219432,
          0.0008374634359604727,
          0.6388118149371258,
          0.38964321345968334,
          0.7409416406543707,
          0.8478471920090696,
          0.7055464358603873,
          0.29928329414025323,
          0.04890204355918493,
          0.008332629566937588,
          0.6487434072190331,
          0.4836059707081115,
          0.14255293106843325,
          0.8087577470577142,
          0.7096355831089817,
          0.9611636384182202,
          0.640472273905606,
          0.5171530577641763,
          0.6438466742629725,
          0.16953507192666573,
          0.7480940240641847,
          0.47659308310739923,
          0.8979265958169624,
          0.5638423135707481,
          0.12655117949029193,
          0.8078511969353093,
          0.21794723338050537,
          0.5443218764112874,
          0.8533969061272962,
          0.46961879278395513,
          0.29915923099298725,
          0.32407827683308255,
          0.5151875106595559,
          0.13855118655160026,
          0.29916019565458096,
          0.16579290502854538,
          0.17394582588507146,
          0.8812412307857439,
          0.8922846598334289,
          0.4785971754473769,
          0.6990500464017537,
          0.5654108169961446,
          0.1408908422290155,
          0.7097983997017199,
          0.6350985021157636,
          0.5881348134928145,
          0.7708388745974266,
          0.8685864000253989,
          0.48818588837048416,
          0.1268327526534918,
          0.44212500629979345,
          0.12739890021563705,
          0.7200626175482904,
          0.4490683617909733,
          0.7904758017888716,
          0.4774041298143149,
          0.29935462546110136,
          0.005023272418027469,
          0.2173622157744446,
          0.7044618265654293,
          0.9019276981434758,
          0.28493989631616623,
          0.696810340986209,
          0.4012026671659493,
          0.41723566703981996,
          0.9457940967676207,
          0.008951907680307847,
          0.20548817926063756,
          0.03755529478955988,
          0.8912683898100855,
          0.7364030140444219,
          0.6197697853194676,
          0.6603587805921695,
          0.3876307648471936,
          0.48408944631753925,
          0.4762227036866149,
          0.18603516582969426,
          0.7336612750343098,
          0.28222292838400753,
          0.7987990716700788,
          0.38438159532502614,
          0.5167352753831821,
          0.4512456784586386,
          0.5230833239399872,
          0.07195680384371661,
          0.27925199799559375,
          0.21394109885847756,
          0.726411789479701,
          0.36380677377018056,
          0.3440245970798492,
          0.009902286584651754,
          0.1692160924833459,
          0.6007880224768057,
          0.5505101371900946,
          0.7110281526472296,
          0.35880403013230966,
          0.3604441583386073,
          0.173939456969602,
          0.7316718823881125,
          0.9366383401778052,
          0.8277302208728193,
          0.41763661114576545,
          0.7590034817507071,
          0.8857224328488705,
          0.7068428774036024,
          0.7620654891125173,
          0.9980599230516826,
          0.6604112598622425,
          0.46338895437305894,
          0.4940809330758196,
          0.9050541832815849,
          0.3311230430219526,
          0.8272156478155975,
          0.25087463429496626,
          0.8040562737129325,
          0.22424758710638015,
          0.7687911535334995,
          0.7093353967557448,
          0.0595847552064539,
          0.251773637372534,
          0.0071930637032755484,
          0.32330484635737256,
          0.9794046504777046,
          0.6787529680181928,
          0.16976687639095,
          0.9475288405245494,
          0.18093852352701445,
          0.024384967113780465,
          0.37265130873639796,
          0.7520499696036061,
          0.4126704211750172,
          0.23807080035295136,
          0.8832931902340494,
          0.6356271620494565,
          0.7104647880174565,
          0.6033956004984258,
          0.5919291584788262,
          0.8274376641098332,
          0.5506093902471721,
          0.30017559964997953,
          0.1330054885898485,
          0.44608527226568917,
          0.16322980468759185,
          0.6324577548159362,
          0.010134248544858893,
          0.4235265013437526,
          0.13754060636690424,
          0.22487809964110017,
          0.6873182948220121,
          0.603119021109718,
          0.5904626011538877,
          0.4619211274338946,
          0.28867176319473,
          0.7742438654945845,
          0.2230328346471241,
          0.48919072857847523,
          0.44941376349755646,
          0.6291498156711691,
          0.45172796274413596,
          0.5485099033173836,
          0.8612521367163144,
          0.33286358914747427,
          0.9611018068818457,
          0.29855456231198696,
          0.3151869316932755,
          0.014134429570133666,
          0.34218182170222056,
          0.9301958602306192,
          0.6199476714530339,
          0.08918022165737904,
          0.10742335454102636,
          0.8966270025628111,
          0.09973307478061832,
          0.3594050779698922,
          0.4601871259393815,
          0.780849861731619,
          0.9104595574957782,
          0.9083066641115093,
          0.7993792696842303,
          0.9461826017399516,
          0.23035004222697175,
          0.561838576769885,
          0.14697022568969886,
          0.020413855199484465,
          0.23434947076284984,
          0.8314966659058115,
          0.6454181023182849,
          0.8283639641150742,
          0.48794156748037787,
          0.0518297132157145,
          0.42437661214682665,
          0.009739794313726513,
          0.1360192196152894,
          0.3956451665770313,
          0.7808914856254725,
          0.20982403236740732,
          0.11013573793175713,
          0.4384881436615852,
          0.5844276830260118,
          0.8619770273352098,
          0.8682131627816613,
          0.9887282326035409,
          0.8844671605229831,
          0.6995773984726018,
          0.9060901575096102,
          0.6488817988572784,
          0.1434369017723479,
          0.9734152886243853,
          0.7566540047613884,
          0.3905460141588254,
          0.32914835005240517,
          0.32325058225561865,
          0.912885498925497,
          0.2090590166080517,
          0.04292902711167046,
          0.7433131849082802,
          0.7865914305483627,
          0.5122530530923367,
          0.3430243272682403,
          0.06314659327830219,
          0.998870955573767,
          0.014452501138724982,
          0.20399659871803055,
          0.032031650956421354,
          0.18264570626844967,
          0.0793771308151282,
          0.038688464096335085,
          0.43002313869603914,
          0.8735094662060465,
          0.26586217858205075,
          0.13376929167230256,
          0.17011040822017331,
          0.7493727115079227,
          0.20002651118459003,
          0.45531855960540446,
          0.4174284127070631,
          0.6510973037591884,
          0.17176162827322772,
          0.09178103616809696,
          0.12748552523025602,
          0.597390295272665,
          0.8695442227670273,
          0.06538130809776366,
          0.6815405157956198,
          0.9677958608793861,
          0.21562232563043282,
          0.560002531070461,
          0.03456734343923207,
          0.6511752791171171,
          0.29909416469205063,
          0.9975992493946402,
          0.5174351406505996,
          0.9061736774325001,
          0.9276926376140893,
          0.813406439687775,
          0.9770897408084923,
          0.12506879011933625,
          0.022270217053562358,
          0.4743498746110465,
          0.2016782218833274,
          0.31151866486146307,
          0.5758620244658286,
          0.4438814632386454,
          0.21877826296389868,
          0.028171096088904335,
          0.6185055375600589,
          0.3785470942239284,
          0.5617501297330153,
          0.07469835449616691,
          0.18745926135131552,
          0.8907764857415077,
          0.5128435812734171,
          0.05537279402159767,
          0.5265273579578205,
          0.6846417302611314,
          0.12013330524807753,
          0.9222534241127484,
          0.1744337908782594,
          0.6057731452295859,
          0.26628959116742834,
          0.09926491594477782,
          0.1604363259867474,
          0.42699549908389833,
          0.7714603148546454,
          0.9588850753820011,
          0.06222453917478765,
          0.7023488415446176,
          0.4404964174933266,
          0.5895482799184643,
          0.9451512240442524,
          0.35697108341424144,
          0.4199855067674022,
          0.8066255651327848,
          0.2552445264360388,
          0.3709941099168911,
          0.9734453394412657,
          0.17571923779716092,
          0.9327081247380306,
          0.270649607029507,
          0.9405178192038849,
          0.6296458140370904,
          0.18945494961955434,
          0.36444303380635223,
          0.935953691536232,
          0.5496159074904553,
          0.4133344000677108,
          0.2569914331343661,
          0.5709405609543227,
          0.6782972270469272,
          0.45803444681394956,
          0.09248195221975541,
          0.7618205612201341,
          0.3837092129980294,
          0.9097698492268776,
          0.2001574938853573,
          0.14558181390118174,
          0.6968783285624938,
          0.344141096056492,
          0.7069069537805655,
          0.5409694320865422,
          0.028826632734373248,
          0.07048664131760407,
          0.5302117163707131,
          0.18546723990542002,
          0.1549629447131412,
          0.05366306349057237,
          0.6124244713610815,
          0.4367191646566715,
          0.2234122071903052,
          0.8603147419443115,
          0.6077652088989173,
          0.3359313429071892,
          0.6356615729696422,
          0.22932570472003577,
          0.7702135442715524,
          0.427647231603285,
          0.2445661338771078,
          0.8324488737326582,
          0.5390163275610387,
          0.9921847835564022,
          0.10838971687395438,
          0.9542330164096767,
          0.27189466967395204,
          0.21946023932640724,
          0.4784892392739424,
          0.42020153113527303,
          0.08085355215576451,
          0.24318053110215931,
          0.950682944363737,
          0.9315956510731039,
          0.8148633937178332,
          0.2897426442494644,
          0.8459837893182338,
          0.802330605307302,
          0.3402438448995122,
          0.9406766885107176,
          0.17857362131915222,
          0.040038364782506886,
          0.5943101213331603,
          0.5822886948468559,
          0.31356155330834834,
          0.06176793032611738,
          0.5700275417154871,
          0.2617192938939136,
          0.7663782895544156,
          0.8247359681431617,
          0.8150228816170999,
          0.1923097033443386,
          0.42467996670768293,
          0.5187742346196577,
          0.8100030841200009,
          0.4920437237854315,
          0.35418290576469347,
          0.9732734234880849,
          0.6034770430962825,
          0.25862831072923465,
          0.6740275405296267,
          0.468602665230311,
          0.24287363319466093,
          0.47029315890455936,
          0.24596198591648544,
          0.4429486770503296,
          0.27774231966634966,
          0.5148220390087658,
          0.2670245665319514,
          0.9013185683057657,
          0.8636660561400947,
          0.9340878984121563,
          0.04134817810633351,
          0.949312549054783,
          0.9061953678460628,
          0.12015733964609099,
          0.6375874131240468,
          0.9719273845088147,
          0.5383341259497183,
          0.727695433985971,
          0.909812550320551,
          0.22522080796224375,
          0.8658218991931234,
          0.9047892463750333,
          0.013291391362442395,
          0.7272468172764953,
          0.6372045987999905,
          0.4528538638552627,
          0.10823693536758505,
          0.6955078511629684,
          0.4374733048184838,
          0.23466668797293488,
          0.05375625110958149,
          0.7650905829387769,
          0.3822242993569499,
          0.5759034488636957,
          0.24118787031019218,
          0.1063220620329457,
          0.9732651391804706,
          0.26246107931317186,
          0.3847697098390588,
          0.5353390495444587,
          0.4144397417149921,
          0.5928906823308054,
          0.07055631178269339,
          0.5391675079456432,
          0.6075340758505005,
          0.13298131962876347,
          0.011406687783246827,
          0.5984589418087944,
          0.9981822447389828,
          0.5368296918910642,
          0.3473321236836726,
          0.9847363826999525,
          0.4193175710176439,
          0.07569238362157549,
          0.16906572693467958,
          0.4911715508740492,
          0.20765549689153484,
          0.7617997620464552,
          0.620833464841822,
          0.7089421497995427,
          0.5136240328394143,
          0.785202514788922,
          0.6144978848427686,
          0.41014196864605823,
          0.5261734620011819,
          0.9324952616628128,
          0.9856403490563923,
          0.4075046957296994,
          0.1332431622503234,
          0.3772685926737721,
          0.9482460437318649,
          0.4723247001575269,
          0.05430604931464511,
          0.11487575232625702,
          0.11263704855381584,
          0.3954022677417407,
          0.6094809374347906,
          0.27764556497073845,
          0.5599003099902763,
          0.7840321392787533,
          0.1494190373118357,
          0.37726393501045563,
          0.4162346216770785,
          0.31432259717131183,
          0.3435576835561758,
          0.07164463123649345,
          0.4187089589421972,
          0.548900293315799,
          0.27828733395142036,
          0.14422051314500373,
          0.25603846860020163,
          0.5617691605347507,
          0.2528797265729633,
          0.44144239970911614,
          0.2481919516932155,
          0.026321183370833445,
          0.7917625749161845,
          0.4940640319242675,
          0.3510847873396703,
          0.9447390059728327,
          0.7970632364077583,
          0.9496695661377098,
          0.2490138385369881,
          0.45482060956216663,
          0.3095853242624024,
          0.5408009522085401,
          0.7009681313629841,
          0.7971174207660265,
          0.1074778079273343,
          0.011848703949508987,
          0.399996864021804,
          0.8290819882584582,
          0.44519900394452605,
          0.6995496256691708,
          0.6861320923595281,
          0.8683097198465144,
          0.6897687798447005,
          0.6681502830314573,
          0.6813717098352478,
          0.32408887840981226,
          0.621048109337943,
          0.7792365084553492,
          0.30712652642879035,
          0.14986646380285396,
          0.06677223144325006,
          0.5760650299155214,
          0.3638798530426587,
          0.12590932307201919,
          0.4264595494635718,
          0.43842819651402665,
          0.6263606841843782,
          0.8028591232779162,
          0.6967047498610323,
          0.22557820620169067,
          0.9333035030778161,
          0.7396885738055476,
          0.4092216113265984,
          0.18430780610462316,
          0.5223004922243114,
          0.0777610743322874,
          0.6126178173744922,
          0.28850453910261775,
          0.7322775725356775,
          0.41166819226986306,
          0.3796186561332082,
          0.5375253737361543,
          0.037280710852166554,
          0.563178273515489,
          0.5911735648023563,
          0.759542321633957,
          0.4934854724206136,
          0.40904831425845156,
          0.4233734486278975,
          0.4739839760318916,
          0.7079518889524009,
          0.9780015458585691,
          0.6272514221530953,
          0.28616478152038605,
          0.387166442761545,
          0.735788936454605,
          0.9091065495923216,
          0.38283247991361546,
          0.33920843289847524,
          0.2708778556096464,
          0.0169798898026694,
          0.6333598807991735,
          0.934280939757782,
          0.6179018420955554,
          0.26447998284718965,
          0.9427232094419241,
          0.9528486162484363,
          0.8191780864170958,
          0.7433485334924673,
          0.7424999749770581,
          0.6028709179289684,
          0.8650253280841375,
          0.24210952211287673,
          0.3821555563540211,
          0.26946897796291014,
          0.5577546945598894,
          0.011530055528379157,
          0.7066694674123083,
          0.8348722743273879,
          0.723675754741473,
          0.0399584031732515,
          0.01253357196362237,
          0.8803112660368945,
          0.3670158343361205,
          0.7625689547653348,
          0.25337552315519285,
          0.9419595940526707,
          0.11904561897256483,
          0.3545743684306507,
          0.9574765690167024,
          0.8563850757593661,
          0.23539865992720244,
          0.31711507698542907,
          0.9026492440015321,
          0.814808306926645,
          0.4499271465210346,
          0.8107881670643123,
          0.5416807905813076
         ],
         "yaxis": "y"
        }
       ],
       "layout": {
        "autosize": true,
        "legend": {
         "tracegroupgap": 0
        },
        "template": {
         "data": {
          "bar": [
           {
            "error_x": {
             "color": "#2a3f5f"
            },
            "error_y": {
             "color": "#2a3f5f"
            },
            "marker": {
             "line": {
              "color": "#E5ECF6",
              "width": 0.5
             },
             "pattern": {
              "fillmode": "overlay",
              "size": 10,
              "solidity": 0.2
             }
            },
            "type": "bar"
           }
          ],
          "barpolar": [
           {
            "marker": {
             "line": {
              "color": "#E5ECF6",
              "width": 0.5
             },
             "pattern": {
              "fillmode": "overlay",
              "size": 10,
              "solidity": 0.2
             }
            },
            "type": "barpolar"
           }
          ],
          "carpet": [
           {
            "aaxis": {
             "endlinecolor": "#2a3f5f",
             "gridcolor": "white",
             "linecolor": "white",
             "minorgridcolor": "white",
             "startlinecolor": "#2a3f5f"
            },
            "baxis": {
             "endlinecolor": "#2a3f5f",
             "gridcolor": "white",
             "linecolor": "white",
             "minorgridcolor": "white",
             "startlinecolor": "#2a3f5f"
            },
            "type": "carpet"
           }
          ],
          "choropleth": [
           {
            "colorbar": {
             "outlinewidth": 0,
             "ticks": ""
            },
            "type": "choropleth"
           }
          ],
          "contour": [
           {
            "colorbar": {
             "outlinewidth": 0,
             "ticks": ""
            },
            "colorscale": [
             [
              0,
              "#0d0887"
             ],
             [
              0.1111111111111111,
              "#46039f"
             ],
             [
              0.2222222222222222,
              "#7201a8"
             ],
             [
              0.3333333333333333,
              "#9c179e"
             ],
             [
              0.4444444444444444,
              "#bd3786"
             ],
             [
              0.5555555555555556,
              "#d8576b"
             ],
             [
              0.6666666666666666,
              "#ed7953"
             ],
             [
              0.7777777777777778,
              "#fb9f3a"
             ],
             [
              0.8888888888888888,
              "#fdca26"
             ],
             [
              1,
              "#f0f921"
             ]
            ],
            "type": "contour"
           }
          ],
          "contourcarpet": [
           {
            "colorbar": {
             "outlinewidth": 0,
             "ticks": ""
            },
            "type": "contourcarpet"
           }
          ],
          "heatmap": [
           {
            "colorbar": {
             "outlinewidth": 0,
             "ticks": ""
            },
            "colorscale": [
             [
              0,
              "#0d0887"
             ],
             [
              0.1111111111111111,
              "#46039f"
             ],
             [
              0.2222222222222222,
              "#7201a8"
             ],
             [
              0.3333333333333333,
              "#9c179e"
             ],
             [
              0.4444444444444444,
              "#bd3786"
             ],
             [
              0.5555555555555556,
              "#d8576b"
             ],
             [
              0.6666666666666666,
              "#ed7953"
             ],
             [
              0.7777777777777778,
              "#fb9f3a"
             ],
             [
              0.8888888888888888,
              "#fdca26"
             ],
             [
              1,
              "#f0f921"
             ]
            ],
            "type": "heatmap"
           }
          ],
          "heatmapgl": [
           {
            "colorbar": {
             "outlinewidth": 0,
             "ticks": ""
            },
            "colorscale": [
             [
              0,
              "#0d0887"
             ],
             [
              0.1111111111111111,
              "#46039f"
             ],
             [
              0.2222222222222222,
              "#7201a8"
             ],
             [
              0.3333333333333333,
              "#9c179e"
             ],
             [
              0.4444444444444444,
              "#bd3786"
             ],
             [
              0.5555555555555556,
              "#d8576b"
             ],
             [
              0.6666666666666666,
              "#ed7953"
             ],
             [
              0.7777777777777778,
              "#fb9f3a"
             ],
             [
              0.8888888888888888,
              "#fdca26"
             ],
             [
              1,
              "#f0f921"
             ]
            ],
            "type": "heatmapgl"
           }
          ],
          "histogram": [
           {
            "marker": {
             "pattern": {
              "fillmode": "overlay",
              "size": 10,
              "solidity": 0.2
             }
            },
            "type": "histogram"
           }
          ],
          "histogram2d": [
           {
            "colorbar": {
             "outlinewidth": 0,
             "ticks": ""
            },
            "colorscale": [
             [
              0,
              "#0d0887"
             ],
             [
              0.1111111111111111,
              "#46039f"
             ],
             [
              0.2222222222222222,
              "#7201a8"
             ],
             [
              0.3333333333333333,
              "#9c179e"
             ],
             [
              0.4444444444444444,
              "#bd3786"
             ],
             [
              0.5555555555555556,
              "#d8576b"
             ],
             [
              0.6666666666666666,
              "#ed7953"
             ],
             [
              0.7777777777777778,
              "#fb9f3a"
             ],
             [
              0.8888888888888888,
              "#fdca26"
             ],
             [
              1,
              "#f0f921"
             ]
            ],
            "type": "histogram2d"
           }
          ],
          "histogram2dcontour": [
           {
            "colorbar": {
             "outlinewidth": 0,
             "ticks": ""
            },
            "colorscale": [
             [
              0,
              "#0d0887"
             ],
             [
              0.1111111111111111,
              "#46039f"
             ],
             [
              0.2222222222222222,
              "#7201a8"
             ],
             [
              0.3333333333333333,
              "#9c179e"
             ],
             [
              0.4444444444444444,
              "#bd3786"
             ],
             [
              0.5555555555555556,
              "#d8576b"
             ],
             [
              0.6666666666666666,
              "#ed7953"
             ],
             [
              0.7777777777777778,
              "#fb9f3a"
             ],
             [
              0.8888888888888888,
              "#fdca26"
             ],
             [
              1,
              "#f0f921"
             ]
            ],
            "type": "histogram2dcontour"
           }
          ],
          "mesh3d": [
           {
            "colorbar": {
             "outlinewidth": 0,
             "ticks": ""
            },
            "type": "mesh3d"
           }
          ],
          "parcoords": [
           {
            "line": {
             "colorbar": {
              "outlinewidth": 0,
              "ticks": ""
             }
            },
            "type": "parcoords"
           }
          ],
          "pie": [
           {
            "automargin": true,
            "type": "pie"
           }
          ],
          "scatter": [
           {
            "fillpattern": {
             "fillmode": "overlay",
             "size": 10,
             "solidity": 0.2
            },
            "type": "scatter"
           }
          ],
          "scatter3d": [
           {
            "line": {
             "colorbar": {
              "outlinewidth": 0,
              "ticks": ""
             }
            },
            "marker": {
             "colorbar": {
              "outlinewidth": 0,
              "ticks": ""
             }
            },
            "type": "scatter3d"
           }
          ],
          "scattercarpet": [
           {
            "marker": {
             "colorbar": {
              "outlinewidth": 0,
              "ticks": ""
             }
            },
            "type": "scattercarpet"
           }
          ],
          "scattergeo": [
           {
            "marker": {
             "colorbar": {
              "outlinewidth": 0,
              "ticks": ""
             }
            },
            "type": "scattergeo"
           }
          ],
          "scattergl": [
           {
            "marker": {
             "colorbar": {
              "outlinewidth": 0,
              "ticks": ""
             }
            },
            "type": "scattergl"
           }
          ],
          "scattermapbox": [
           {
            "marker": {
             "colorbar": {
              "outlinewidth": 0,
              "ticks": ""
             }
            },
            "type": "scattermapbox"
           }
          ],
          "scatterpolar": [
           {
            "marker": {
             "colorbar": {
              "outlinewidth": 0,
              "ticks": ""
             }
            },
            "type": "scatterpolar"
           }
          ],
          "scatterpolargl": [
           {
            "marker": {
             "colorbar": {
              "outlinewidth": 0,
              "ticks": ""
             }
            },
            "type": "scatterpolargl"
           }
          ],
          "scatterternary": [
           {
            "marker": {
             "colorbar": {
              "outlinewidth": 0,
              "ticks": ""
             }
            },
            "type": "scatterternary"
           }
          ],
          "surface": [
           {
            "colorbar": {
             "outlinewidth": 0,
             "ticks": ""
            },
            "colorscale": [
             [
              0,
              "#0d0887"
             ],
             [
              0.1111111111111111,
              "#46039f"
             ],
             [
              0.2222222222222222,
              "#7201a8"
             ],
             [
              0.3333333333333333,
              "#9c179e"
             ],
             [
              0.4444444444444444,
              "#bd3786"
             ],
             [
              0.5555555555555556,
              "#d8576b"
             ],
             [
              0.6666666666666666,
              "#ed7953"
             ],
             [
              0.7777777777777778,
              "#fb9f3a"
             ],
             [
              0.8888888888888888,
              "#fdca26"
             ],
             [
              1,
              "#f0f921"
             ]
            ],
            "type": "surface"
           }
          ],
          "table": [
           {
            "cells": {
             "fill": {
              "color": "#EBF0F8"
             },
             "line": {
              "color": "white"
             }
            },
            "header": {
             "fill": {
              "color": "#C8D4E3"
             },
             "line": {
              "color": "white"
             }
            },
            "type": "table"
           }
          ]
         },
         "layout": {
          "annotationdefaults": {
           "arrowcolor": "#2a3f5f",
           "arrowhead": 0,
           "arrowwidth": 1
          },
          "autotypenumbers": "strict",
          "coloraxis": {
           "colorbar": {
            "outlinewidth": 0,
            "ticks": ""
           }
          },
          "colorscale": {
           "diverging": [
            [
             0,
             "#8e0152"
            ],
            [
             0.1,
             "#c51b7d"
            ],
            [
             0.2,
             "#de77ae"
            ],
            [
             0.3,
             "#f1b6da"
            ],
            [
             0.4,
             "#fde0ef"
            ],
            [
             0.5,
             "#f7f7f7"
            ],
            [
             0.6,
             "#e6f5d0"
            ],
            [
             0.7,
             "#b8e186"
            ],
            [
             0.8,
             "#7fbc41"
            ],
            [
             0.9,
             "#4d9221"
            ],
            [
             1,
             "#276419"
            ]
           ],
           "sequential": [
            [
             0,
             "#0d0887"
            ],
            [
             0.1111111111111111,
             "#46039f"
            ],
            [
             0.2222222222222222,
             "#7201a8"
            ],
            [
             0.3333333333333333,
             "#9c179e"
            ],
            [
             0.4444444444444444,
             "#bd3786"
            ],
            [
             0.5555555555555556,
             "#d8576b"
            ],
            [
             0.6666666666666666,
             "#ed7953"
            ],
            [
             0.7777777777777778,
             "#fb9f3a"
            ],
            [
             0.8888888888888888,
             "#fdca26"
            ],
            [
             1,
             "#f0f921"
            ]
           ],
           "sequentialminus": [
            [
             0,
             "#0d0887"
            ],
            [
             0.1111111111111111,
             "#46039f"
            ],
            [
             0.2222222222222222,
             "#7201a8"
            ],
            [
             0.3333333333333333,
             "#9c179e"
            ],
            [
             0.4444444444444444,
             "#bd3786"
            ],
            [
             0.5555555555555556,
             "#d8576b"
            ],
            [
             0.6666666666666666,
             "#ed7953"
            ],
            [
             0.7777777777777778,
             "#fb9f3a"
            ],
            [
             0.8888888888888888,
             "#fdca26"
            ],
            [
             1,
             "#f0f921"
            ]
           ]
          },
          "colorway": [
           "#636efa",
           "#EF553B",
           "#00cc96",
           "#ab63fa",
           "#FFA15A",
           "#19d3f3",
           "#FF6692",
           "#B6E880",
           "#FF97FF",
           "#FECB52"
          ],
          "font": {
           "color": "#2a3f5f"
          },
          "geo": {
           "bgcolor": "white",
           "lakecolor": "white",
           "landcolor": "#E5ECF6",
           "showlakes": true,
           "showland": true,
           "subunitcolor": "white"
          },
          "hoverlabel": {
           "align": "left"
          },
          "hovermode": "closest",
          "mapbox": {
           "style": "light"
          },
          "paper_bgcolor": "white",
          "plot_bgcolor": "#E5ECF6",
          "polar": {
           "angularaxis": {
            "gridcolor": "white",
            "linecolor": "white",
            "ticks": ""
           },
           "bgcolor": "#E5ECF6",
           "radialaxis": {
            "gridcolor": "white",
            "linecolor": "white",
            "ticks": ""
           }
          },
          "scene": {
           "xaxis": {
            "backgroundcolor": "#E5ECF6",
            "gridcolor": "white",
            "gridwidth": 2,
            "linecolor": "white",
            "showbackground": true,
            "ticks": "",
            "zerolinecolor": "white"
           },
           "yaxis": {
            "backgroundcolor": "#E5ECF6",
            "gridcolor": "white",
            "gridwidth": 2,
            "linecolor": "white",
            "showbackground": true,
            "ticks": "",
            "zerolinecolor": "white"
           },
           "zaxis": {
            "backgroundcolor": "#E5ECF6",
            "gridcolor": "white",
            "gridwidth": 2,
            "linecolor": "white",
            "showbackground": true,
            "ticks": "",
            "zerolinecolor": "white"
           }
          },
          "shapedefaults": {
           "line": {
            "color": "#2a3f5f"
           }
          },
          "ternary": {
           "aaxis": {
            "gridcolor": "white",
            "linecolor": "white",
            "ticks": ""
           },
           "baxis": {
            "gridcolor": "white",
            "linecolor": "white",
            "ticks": ""
           },
           "bgcolor": "#E5ECF6",
           "caxis": {
            "gridcolor": "white",
            "linecolor": "white",
            "ticks": ""
           }
          },
          "title": {
           "x": 0.05
          },
          "xaxis": {
           "automargin": true,
           "gridcolor": "white",
           "linecolor": "white",
           "ticks": "",
           "title": {
            "standoff": 15
           },
           "zerolinecolor": "white",
           "zerolinewidth": 2
          },
          "yaxis": {
           "automargin": true,
           "gridcolor": "white",
           "linecolor": "white",
           "ticks": "",
           "title": {
            "standoff": 15
           },
           "zerolinecolor": "white",
           "zerolinewidth": 2
          }
         }
        },
        "title": {
         "text": "Visualisering av høstetidspunkter langs en tidsakse (med jitter)"
        },
        "xaxis": {
         "anchor": "y",
         "autorange": true,
         "domain": [
          0,
          1
         ],
         "range": [
          "2019-09-03 09:31:31.8651",
          "2022-08-10 01:04:33.0846"
         ],
         "title": {
          "text": "Høstetidspunkt"
         },
         "type": "date"
        },
        "yaxis": {
         "anchor": "x",
         "autorange": true,
         "domain": [
          0,
          1
         ],
         "range": [
          -0.08157199158830884,
          1.0818556087543167
         ],
         "title": {
          "text": "Spredning"
         },
         "type": "linear"
        }
       }
      },
      "image/png": "[encoded data removed]",
      "text/html": [
       "<div>                            <div id=\"9e4a4868-0a6f-4027-8b29-387884ed91b3\" class=\"plotly-graph-div\" style=\"height:525px; width:100%;\"></div>            <script type=\"text/javascript\">                require([\"plotly\"], function(Plotly) {                    window.PLOTLYENV=window.PLOTLYENV || {};                                    if (document.getElementById(\"9e4a4868-0a6f-4027-8b29-387884ed91b3\")) {                    Plotly.newPlot(                        \"9e4a4868-0a6f-4027-8b29-387884ed91b3\",                        [{\"hovertemplate\":\"H\\u00f8stetidspunkt=%{x}\\u003cbr\\u003eSpredning=%{y}\\u003cextra\\u003e\\u003c\\u002fextra\\u003e\",\"legendgroup\":\"\",\"marker\":{\"color\":\"#636efa\",\"opacity\":0.5,\"symbol\":\"circle\"},\"mode\":\"markers\",\"name\":\"\",\"showlegend\":false,\"x\":[\"2021-12-20T05:34:46.129170\",\"2022-06-13T06:25:17.771415\",\"2020-05-09T03:34:08.703274\",\"2020-05-27T13:41:55.845341\",\"2021-01-02T22:40:00.852983\",\"2021-12-28T13:55:59.200087\",\"2021-01-01T20:37:03.929903\",\"2020-07-03T13:29:07.479662\",\"2020-06-12T14:46:55.717997\",\"2021-12-17T12:56:52.389171\",\"2021-12-25T00:05:10.326757\",\"2021-12-25T10:01:01.148709\",\"2020-06-05T06:57:32.653505\",\"2021-04-18T11:54:37.917290\",\"2021-12-22T10:16:53.446808\",\"2021-12-15T08:22:38.936745\",\"2020-05-09T21:45:02.134771\",\"2021-12-28T02:13:39.382092\",\"2020-08-18T23:53:45.275647\",\"2021-01-25T22:17:14.808068\",\"2021-12-27T09:26:08.474388\",\"2021-12-19T16:03:52.266626\",\"2020-05-10T10:29:29.432437\",\"2020-12-31T15:35:50.740018\",\"2021-12-28T12:06:47.096438\",\"2020-03-20T06:10:20.922282\",\"2020-11-23T09:13:01.262514\",\"2020-06-01T20:05:08.709374\",\"2021-12-28T13:17:37.195543\",\"2020-06-02T03:59:20.072426\",\"2021-12-30T07:52:50.715734\",\"2020-05-21T16:45:37.426028\",\"2021-01-08T06:21:06.301000\",\"2020-12-30T00:19:09.331227\",\"2021-08-22T01:45:31.315407\",\"2020-05-19T01:26:21.036042\",\"2021-12-29T22:10:55.155577\",\"2021-12-10T10:24:06.996266\",\"2020-06-16T04:51:38.379012\",\"2021-12-17T09:10:20.872885\",\"2021-12-27T17:45:58.500860\",\"2020-11-22T19:56:27.987073\",\"2021-11-28T16:56:54.495060\",\"2021-12-22T04:51:55.117688\",\"2020-03-23T17:40:40.792746\",\"2021-12-30T17:45:36.992505\",\"2020-11-20T05:46:47.149899\",\"2020-11-14T06:05:28.601712\",\"2020-06-16T08:39:57.177248\",\"2021-12-28T04:10:16.031860\",\"2020-08-15T08:20:58.978298\",\"2021-12-28T16:57:25.357331\",\"2020-06-11T23:34:10.510623\",\"2020-05-25T22:38:42.160104\",\"2020-08-07T00:16:31.884532\",\"2021-12-28T07:41:23.859361\",\"2020-03-23T07:01:00.137500\",\"2021-12-24T16:51:46.513104\",\"2020-12-30T01:41:04.188174\",\"2020-03-26T06:44:11.180510\",\"2020-05-27T18:40:03.382128\",\"2021-12-29T20:24:19.636172\",\"2021-12-28T18:22:37.116610\",\"2021-12-30T18:07:41.016042\",\"2021-12-26T18:14:46.371800\",\"2020-05-09T08:24:52.412376\",\"2020-11-24T03:40:56.233841\",\"2020-06-09T02:33:44.554204\",\"2020-08-22T22:38:26.380708\",\"2021-01-01T07:55:52.652625\",\"2021-01-04T04:21:17.645602\",\"2021-04-06T08:46:21.474092\",\"2021-12-26T05:01:07.341562\",\"2021-10-01T05:43:09.972710\",\"2022-03-06T06:26:56.621834\",\"2021-12-22T04:38:27.116411\",\"2020-12-31T13:00:28.424653\",\"2022-01-22T11:33:27.690638\",\"2021-12-14T03:53:51.906339\",\"2020-12-31T21:13:44.457993\",\"2021-07-09T15:31:36.232652\",\"2021-07-09T21:51:45.762213\",\"2021-01-01T01:43:13.598268\",\"2020-11-08T08:34:46.547591\",\"2022-03-06T02:16:27.120342\",\"2020-11-05T14:29:22.376218\",\"2020-04-26T18:57:16.525289\",\"2021-01-01T04:41:06.416456\",\"2020-11-06T07:59:08.387542\",\"2021-01-01T14:28:33.319343\",\"2021-01-03T02:46:38.258307\",\"2021-12-25T00:58:04.011225\",\"2022-01-14T16:19:47.879832\",\"2021-12-14T15:43:39.526610\",\"2021-12-28T04:43:45.217983\",\"2021-12-22T07:23:33.249901\",\"2021-12-11T12:37:44.681241\",\"2022-01-15T13:18:43.292922\",\"2021-12-21T07:10:31.889618\",\"2020-11-28T06:26:05.443099\",\"2020-11-28T12:44:18.504642\",\"2020-12-31T19:55:21.270755\",\"2021-12-21T01:38:59.927646\",\"2020-11-02T11:55:29.720375\",\"2021-01-03T06:40:08.171752\",\"2022-01-15T08:28:03.268534\",\"2021-01-12T04:12:15.880072\",\"2020-11-12T21:13:06.158394\",\"2020-11-09T15:57:53.747895\",\"2021-12-12T10:49:50.724312\",\"2021-12-26T19:30:42.099763\",\"2021-10-23T05:22:25.749805\",\"2021-12-14T12:33:49.544440\",\"2020-11-28T13:02:33.751013\",\"2020-12-30T03:08:07.158632\",\"2021-12-26T20:25:58.857965\",\"2021-12-30T01:13:05.919140\",\"2021-01-10T12:42:33.556604\",\"2020-11-26T03:14:31.398701\",\"2021-12-31T01:27:18.224431\",\"2021-12-10T01:00:04.065443\",\"2020-09-01T12:42:42.465793\",\"2021-12-22T10:26:18.356069\",\"2020-04-02T01:33:23.001145\",\"2020-06-10T08:19:52.171123\",\"2022-03-04T02:27:09.290683\",\"2020-11-17T15:28:18.879010\",\"2022-01-15T23:13:48.217998\",\"2021-12-30T09:07:13.170476\",\"2021-01-01T16:56:46.599397\",\"2021-12-23T06:04:36.541370\",\"2020-11-03T21:29:12.365081\",\"2020-07-01T23:52:01.490789\",\"2020-05-09T13:35:23.961888\",\"2021-12-26T19:26:11.522651\",\"2021-12-11T01:14:00.256589\",\"2021-12-16T06:44:05.214502\",\"2020-11-12T09:30:07.332527\",\"2021-12-22T15:45:42.579281\",\"2021-12-29T10:56:24.096359\",\"2021-01-01T16:49:28.480224\",\"2021-10-10T23:53:42.679846\",\"2021-12-30T14:15:14.761226\",\"2020-05-10T02:40:08.782800\",\"2021-12-20T23:52:59.309065\",\"2021-12-15T00:31:06.248811\",\"2021-06-07T14:41:18.005243\",\"2021-12-12T12:18:39.349912\",\"2021-07-07T09:00:02.702973\",\"2022-01-24T22:29:05.700628\",\"2020-12-30T06:22:58.784068\",\"2022-03-04T07:56:22.497353\",\"2020-08-22T09:52:04.767730\",\"2022-01-07T03:35:17.025318\",\"2021-12-26T11:21:35.081684\",\"2021-10-25T09:00:07.405746\",\"2021-01-01T13:12:52.334076\",\"2020-12-30T09:33:54.161775\",\"2020-11-11T11:43:18.664933\",\"2021-12-20T13:06:29.869479\",\"2021-01-03T01:12:17.187518\",\"2021-01-14T17:54:28.642762\",\"2021-12-22T09:14:45.571586\",\"2020-11-06T22:30:37.510342\",\"2020-05-10T21:10:56.732189\",\"2020-11-09T18:58:46.711213\",\"2021-12-24T04:13:17.017545\",\"2021-01-02T02:11:43.533195\",\"2021-12-26T06:43:17.567091\",\"2021-10-24T13:49:10.381610\",\"2021-06-19T06:09:09.038584\",\"2020-06-21T02:03:28.335705\",\"2021-04-19T11:03:27.226648\",\"2020-05-15T01:59:31.801987\",\"2021-01-01T04:38:18.810252\",\"2021-12-15T18:21:22.718452\",\"2020-11-16T11:48:50.491216\",\"2021-01-01T23:03:42.642866\",\"2021-10-23T12:48:53.574839\",\"2020-11-24T00:58:16.944401\",\"2021-12-17T08:51:48.955435\",\"2021-12-27T05:58:33.258542\",\"2021-12-24T09:22:50.292522\",\"2022-01-17T08:01:19.087341\",\"2020-11-24T15:25:43.389025\",\"2021-12-18T12:49:16.903425\",\"2021-01-11T01:29:14.151518\",\"2020-12-29T04:47:56.303855\",\"2020-12-30T02:04:18.598490\",\"2020-11-08T17:08:46.955354\",\"2021-12-29T18:15:43.512315\",\"2020-11-17T19:27:40.146368\",\"2020-06-09T02:42:37.353803\",\"2020-06-14T21:34:20.408717\",\"2021-12-22T17:30:34.214597\",\"2021-12-28T05:56:44.016316\",\"2022-01-02T02:36:48.818202\",\"2021-12-30T21:41:45.713545\",\"2020-09-03T18:26:43.237339\",\"2021-12-12T21:03:20.487834\",\"2021-12-25T23:58:01.003870\",\"2020-09-20T00:38:49.680061\",\"2021-12-14T06:38:22.385344\",\"2021-12-28T22:47:11.855294\",\"2020-07-16T11:07:54.506130\",\"2020-04-30T10:23:36.744280\",\"2021-12-29T10:01:50.407146\",\"2020-05-07T22:55:27.315851\",\"2020-09-08T10:47:12.987560\",\"2022-06-02T18:43:34.513279\",\"2021-12-20T15:07:12.061714\",\"2022-01-01T02:13:52.401962\",\"2021-12-25T16:54:14.894951\",\"2021-12-31T06:28:03.626146\",\"2021-12-10T20:07:54.888797\",\"2021-12-30T16:49:34.927608\",\"2021-12-26T11:25:11.959052\",\"2021-12-10T15:21:32.364292\",\"2021-12-29T14:53:19.223201\",\"2021-12-24T22:22:41.547455\",\"2020-08-03T18:50:48.242496\",\"2021-12-19T05:33:58.081960\",\"2021-12-24T08:51:43.855257\",\"2021-12-27T03:27:51.991375\",\"2021-01-06T04:35:17.365340\",\"2020-12-30T13:39:44.479997\",\"2020-06-26T06:35:38.149898\",\"2022-01-03T19:39:21.651631\",\"2022-02-06T20:05:15.461194\",\"2020-12-31T11:59:41.314255\",\"2021-12-12T13:53:16.498585\",\"2021-01-01T17:24:29.503714\",\"2021-12-30T06:23:15.763991\",\"2022-04-10T02:54:38.240168\",\"2020-06-07T07:23:24.836193\",\"2021-12-14T21:45:05.704638\",\"2021-12-25T14:48:30.351688\",\"2020-07-04T18:19:03.240125\",\"2022-05-15T23:54:36.452240\",\"2022-01-11T14:49:14.541036\",\"2020-05-01T01:55:33.619352\",\"2021-01-16T07:28:44.029473\",\"2021-12-21T14:53:09.239171\",\"2020-05-22T23:49:41.924035\",\"2021-12-20T11:13:53.560678\",\"2020-05-25T18:35:37.676606\",\"2020-05-25T21:24:55.485861\",\"2021-12-24T07:03:02.718624\",\"2021-12-14T14:36:58.817789\",\"2021-11-01T15:42:28.079574\",\"2020-04-29T16:50:32.569790\",\"2021-12-22T02:12:59.651255\",\"2021-12-14T10:49:33.900661\",\"2021-12-23T02:47:06.711169\",\"2020-07-11T08:33:14.895556\",\"2020-05-17T05:25:42.142815\",\"2020-08-05T08:38:37.189810\",\"2020-05-24T10:57:24.802822\",\"2022-01-01T12:15:45.358431\",\"2020-11-19T08:45:41.432095\",\"2021-09-30T05:09:34.754544\",\"2020-08-14T01:29:48.357331\",\"2020-05-14T21:39:37.528984\",\"2021-07-07T20:54:48.739670\",\"2020-05-12T08:35:54.777333\",\"2020-07-01T12:43:51.071718\",\"2020-08-10T13:59:03.654578\",\"2020-06-01T15:54:59.317272\",\"2020-12-30T14:04:57.366963\",\"2021-12-25T23:19:48.692915\",\"2020-06-09T20:37:17.715827\",\"2020-07-10T12:43:55.776083\",\"2021-12-26T19:55:51.036536\",\"2021-12-25T02:57:49.147170\",\"2020-07-10T19:02:40.396741\",\"2021-12-28T08:46:30.706377\",\"2021-12-26T23:37:47.906492\",\"2020-08-07T11:04:12.400742\",\"2021-12-22T01:23:44.082619\",\"2020-06-21T11:49:57.446767\",\"2022-01-05T04:35:33.865017\",\"2021-12-22T14:31:24.001495\",\"2020-08-15T11:03:58.774715\",\"2020-08-23T13:28:41.824362\",\"2020-11-29T02:10:29.298113\",\"2021-12-11T13:00:46.052443\",\"2022-01-03T08:21:36.593089\",\"2020-12-29T06:49:20.982054\",\"2020-04-30T00:41:07.832297\",\"2021-12-16T16:09:33.032111\",\"2022-02-24T18:44:17.937331\",\"2020-05-26T04:30:35.867538\",\"2020-11-11T15:32:09.139365\",\"2020-12-31T08:40:08.190087\",\"2021-12-25T09:42:11.612347\",\"2020-06-12T04:06:18.841536\",\"2020-12-31T03:21:01.924980\",\"2021-12-13T12:26:31.353291\",\"2020-11-25T08:47:59.038009\",\"2021-12-22T16:23:26.556957\",\"2022-02-16T02:33:53.927580\",\"2021-12-28T05:12:02.283288\",\"2021-12-30T18:45:52.242323\",\"2021-12-23T20:39:40.126467\",\"2020-11-21T07:00:24.575851\",\"2020-05-22T16:32:44.868943\",\"2020-11-17T09:06:58.059379\",\"2020-05-11T23:38:48.360671\",\"2021-12-29T09:48:22.093075\",\"2020-11-22T23:36:54.322590\",\"2021-12-17T16:29:18.738009\",\"2020-08-26T04:33:15.373218\",\"2021-12-11T02:53:40.960956\",\"2021-12-29T03:14:20.374447\",\"2020-06-08T12:42:14.954169\",\"2022-01-04T07:36:10.219862\",\"2020-11-24T15:37:20.791736\",\"2021-12-24T08:39:41.948264\",\"2021-12-19T00:33:29.370475\",\"2020-07-09T01:44:42.287254\",\"2021-10-28T02:45:43.120676\",\"2020-04-12T01:10:20.334854\",\"2021-12-28T10:05:49.918791\",\"2021-12-29T00:48:29.866068\",\"2022-01-01T09:15:38.683459\",\"2021-03-08T13:18:17.897922\",\"2021-01-07T23:42:57.563920\",\"2020-05-12T00:48:46.935088\",\"2021-12-25T08:13:12.916647\",\"2020-12-31T10:36:50.663773\",\"2021-12-28T02:51:51.879583\",\"2020-12-31T15:02:33.067440\",\"2020-06-19T05:25:33.675978\",\"2020-08-05T03:52:31.546386\",\"2021-12-11T09:03:22.981632\",\"2020-06-23T01:33:27.816524\",\"2020-07-09T12:19:34.855929\",\"2022-04-09T22:15:22.944785\",\"2021-01-09T18:18:43.037091\",\"2021-01-03T08:28:11.596096\",\"2021-01-11T17:48:49.430091\",\"2021-12-29T03:11:04.374623\",\"2020-11-07T08:01:18.342740\",\"2020-05-07T19:59:15.255360\",\"2020-05-17T18:08:01.387771\",\"2020-07-10T15:43:18.795693\",\"2021-12-10T20:34:23.993576\",\"2021-01-01T11:48:06.425396\",\"2020-05-16T03:37:04.979526\",\"2021-01-12T09:56:06.163024\",\"2020-09-08T23:05:48.111186\",\"2020-11-11T21:43:57.182722\",\"2020-11-02T11:21:27.069136\",\"2021-12-14T17:04:03.345530\",\"2020-01-07T05:19:59.901324\",\"2019-12-12T14:06:30.006709\",\"2020-07-12T16:08:01.086099\",\"2020-05-27T00:17:58.645620\",\"2020-05-06T12:26:06.314397\",\"2020-09-04T13:05:21.673527\",\"2021-01-14T01:23:43.891007\",\"2021-12-15T04:40:05.447895\",\"2019-11-30T14:16:13.258948\",\"2019-12-31T08:24:53.633440\",\"2021-12-28T20:46:07.893404\",\"2021-12-27T04:05:48.984741\",\"2022-01-01T15:16:20.739609\",\"2021-12-20T05:54:42.186236\",\"2021-12-19T09:21:10.415990\",\"2020-11-19T13:58:29.991892\",\"2022-01-03T15:52:52.507429\",\"2021-01-11T05:35:13.547335\",\"2021-01-13T17:31:18.624964\",\"2019-12-16T19:58:37.920759\",\"2021-12-24T22:52:40.128518\",\"2020-09-13T14:21:11.331626\",\"2021-12-22T23:12:11.392349\",\"2022-01-15T07:16:00.253630\",\"2022-02-17T07:17:56.341270\",\"2020-07-10T10:49:48.191736\",\"2021-01-11T14:38:21.439376\",\"2020-10-01T09:02:59.327825\",\"2021-12-28T10:57:23.944842\",\"2020-05-15T00:52:04.151162\",\"2020-09-04T13:02:54.430773\",\"2020-05-16T23:15:14.323990\",\"2021-12-28T12:17:13.124378\",\"2020-11-12T05:26:04.015417\",\"2021-12-12T04:46:52.461041\",\"2021-01-11T20:40:11.205763\",\"2020-03-20T02:44:00.027096\",\"2021-01-31T09:34:38.653038\",\"2021-12-26T06:33:46.919463\",\"2020-11-05T20:45:30.553581\",\"2021-12-28T14:16:31.719271\",\"2021-01-04T12:48:40.938902\",\"2020-11-13T09:29:07.322931\",\"2019-12-04T22:12:25.401723\",\"2021-01-03T21:49:57.582939\",\"2020-05-18T19:45:57.489064\",\"2019-12-07T14:57:34.589150\",\"2021-01-14T05:20:01.628261\",\"2022-01-11T02:56:44.705881\",\"2021-12-21T17:15:49.204003\",\"2020-01-10T09:55:35.642406\",\"2021-12-17T06:18:09.273217\",\"2021-01-06T18:04:55.668895\",\"2021-01-10T07:47:30.747891\",\"2020-08-23T19:20:43.952964\",\"2022-01-04T18:42:06.526380\",\"2021-12-22T18:33:31.311945\",\"2020-03-10T09:36:22.065773\",\"2021-12-16T12:41:32.407333\",\"2021-01-03T06:12:44.402630\",\"2020-05-15T07:47:59.892123\",\"2020-11-24T20:12:34.264042\",\"2021-01-12T16:47:17.849547\",\"2021-12-17T21:05:59.898106\",\"2022-01-24T09:13:00.202271\",\"2020-06-18T19:47:34.401202\",\"2021-01-09T22:48:17.278401\",\"2020-05-14T21:33:57.290525\",\"2021-12-12T11:21:35.694866\",\"2021-11-02T22:06:17.664867\",\"2020-11-08T17:29:55.831425\",\"2021-01-12T08:23:05.780880\",\"2020-03-19T11:15:07.612831\",\"2020-12-29T08:42:43.614905\",\"2021-12-15T10:43:33.910670\",\"2020-07-31T03:12:19.598627\",\"2021-12-31T10:06:13.359356\",\"2020-02-16T11:54:54.305257\",\"2021-12-25T15:05:58.553189\",\"2020-08-10T03:51:30.824186\",\"2021-01-02T07:07:14.269770\",\"2022-01-03T08:49:30.727881\",\"2020-03-13T07:18:03.605710\",\"2021-01-10T19:13:17.520613\",\"2020-05-15T00:06:49.292756\",\"2021-02-08T15:12:20.488440\",\"2021-12-27T05:41:57.843980\",\"2020-05-18T23:11:42.805048\",\"2020-06-20T06:12:43.958215\",\"2020-02-16T16:51:12.848788\",\"2021-10-20T19:07:05.116814\",\"2020-01-19T01:36:20.942521\",\"2021-12-11T02:41:07.487673\",\"2021-01-12T04:18:12.510022\",\"2021-01-12T05:15:11.902024\",\"2020-07-12T17:15:50.013434\",\"2021-12-17T16:39:39.650475\",\"2021-12-18T08:15:08.179882\",\"2020-11-13T07:39:07.422873\",\"2020-09-18T06:08:45.553880\",\"2021-12-29T00:57:09.431014\",\"2020-12-30T05:25:30.706678\",\"2022-01-04T22:52:27.200664\",\"2020-11-08T11:24:42.759176\",\"2022-05-31T01:35:30.427564\",\"2022-01-01T14:36:56.403787\",\"2020-11-26T01:13:32.044292\",\"2022-06-07T22:38:01.650573\",\"2020-12-29T12:40:55.213998\",\"2021-01-12T00:14:00.307366\",\"2020-11-06T07:18:13.048623\",\"2021-01-11T01:46:09.292401\",\"2021-01-01T00:47:42.788698\",\"2021-07-23T12:22:33.688635\",\"2021-12-11T03:57:38.165934\",\"2020-11-08T06:23:27.599028\",\"2021-01-14T02:39:45.180241\",\"2020-12-31T02:18:02.257967\",\"2021-01-01T12:40:40.275742\",\"2020-12-30T08:03:33.205196\",\"2021-09-08T03:38:23.599794\",\"2020-10-07T13:13:09.703860\",\"2021-08-02T23:57:01.526700\",\"2021-12-30T06:23:48.565859\",\"2020-09-16T16:34:50.249531\",\"2020-11-09T11:26:03.056974\",\"2021-10-21T07:26:36.874873\",\"2021-12-21T08:07:40.727061\",\"2020-11-07T22:34:17.391274\",\"2020-11-12T10:09:30.756407\",\"2020-08-22T02:39:32.253986\",\"2021-12-10T19:12:05.768933\",\"2020-11-09T14:32:55.836824\",\"2020-11-08T20:23:46.442329\",\"2021-01-14T16:51:33.958113\",\"2020-08-23T05:48:02.655599\",\"2020-11-07T22:22:46.661734\",\"2021-12-30T16:49:48.758040\",\"2021-12-22T01:53:05.238006\",\"2021-12-24T04:04:01.489783\",\"2020-07-13T11:25:56.557404\",\"2020-09-04T14:58:34.226290\",\"2020-05-20T00:10:10.273453\",\"2021-11-05T11:38:21.927746\",\"2020-12-29T13:03:39.749703\",\"2022-01-14T17:20:28.192678\",\"2021-12-30T06:08:34.763058\",\"2021-01-01T14:03:39.639301\",\"2020-11-08T15:53:33.045262\",\"2021-07-23T13:16:33.308794\",\"2022-02-01T01:25:51.278987\",\"2021-12-13T11:31:58.121461\",\"2020-03-30T03:20:23.472390\",\"2020-11-26T11:18:37.702676\",\"2021-12-23T10:42:23.135380\",\"2020-11-07T18:30:31.861724\",\"2020-11-18T12:31:59.367386\",\"2021-12-26T09:24:49.904553\",\"2022-05-30T15:54:31.346863\",\"2020-11-09T12:51:29.730723\",\"2022-05-14T19:50:27.085521\",\"2020-12-31T17:39:09.276999\",\"2020-11-07T17:47:52.686164\",\"2021-01-09T17:17:49.573302\",\"2022-01-02T09:27:23.336638\",\"2021-12-23T09:12:30.012531\",\"2021-12-29T07:58:26.033525\",\"2021-01-14T21:54:41.579934\",\"2021-01-10T22:44:48.921452\",\"2022-03-31T10:00:48.603399\",\"2021-12-11T09:06:53.521106\",\"2021-02-10T10:50:58.048828\",\"2020-09-13T14:10:10.001918\",\"2020-12-30T13:55:52.328259\",\"2021-12-29T18:18:15.770804\",\"2020-11-06T10:59:52.885936\",\"2021-03-23T18:05:36.250429\",\"2021-06-23T14:36:10.397303\",\"2022-06-13T02:41:22.033233\",\"2022-01-02T17:11:50.981254\",\"2021-12-11T13:08:06.226518\",\"2020-11-13T02:18:00.257872\",\"2021-12-24T18:17:20.918356\",\"2022-06-12T10:44:54.258947\",\"2020-11-11T11:08:52.789557\",\"2021-01-01T02:29:53.876632\",\"2021-12-30T13:32:48.464850\",\"2021-12-29T12:00:48.341723\",\"2020-03-21T14:32:27.195555\",\"2020-12-31T11:21:32.891689\",\"2021-01-11T13:13:39.900294\",\"2021-12-31T15:08:53.990001\",\"2020-12-30T09:41:18.021990\",\"2020-09-04T03:09:46.419170\",\"2021-10-11T13:45:29.153214\",\"2021-12-29T15:27:47.114341\",\"2020-12-30T00:29:49.729613\",\"2020-10-04T01:51:26.949746\",\"2020-11-09T12:49:20.700386\",\"2020-11-08T06:33:44.882360\",\"2020-11-09T10:19:25.707225\",\"2021-06-08T10:17:13.710928\",\"2021-01-07T11:31:47.828380\",\"2020-11-19T12:35:16.816409\",\"2021-12-30T06:54:56.619155\",\"2021-12-01T03:22:18.915645\",\"2022-06-02T00:14:20.850270\",\"2022-06-01T16:05:57.205794\",\"2020-08-15T09:55:57.298278\",\"2021-12-24T08:21:07.838317\",\"2021-12-31T20:16:56.363819\",\"2020-11-09T23:14:50.538855\",\"2022-01-02T08:26:10.824064\",\"2021-12-29T18:43:54.894098\",\"2021-10-11T18:18:04.819923\",\"2021-12-27T06:32:01.320706\",\"2020-11-07T22:20:16.333791\",\"2020-11-07T12:49:03.254702\",\"2022-01-14T22:31:30.452302\",\"2021-12-28T03:40:56.752550\",\"2020-11-11T17:13:01.713849\",\"2020-11-24T16:04:07.698574\",\"2021-05-28T20:19:38.105584\",\"2020-08-31T00:28:01.954199\",\"2021-03-19T00:50:51.676385\",\"2022-01-03T11:08:46.546281\",\"2021-12-29T06:05:58.043151\",\"2020-05-28T15:51:36.449426\",\"2021-12-12T13:53:29.979221\",\"2021-12-24T20:59:47.938679\",\"2021-01-10T18:39:37.962497\",\"2022-01-02T10:23:47.443992\",\"2022-06-11T18:35:54.813185\",\"2020-09-19T16:23:34.496393\",\"2021-01-28T04:28:44.078987\",\"2020-11-02T22:10:18.690226\",\"2020-05-19T16:48:38.151051\",\"2020-08-18T11:54:26.637565\",\"2021-01-15T10:13:22.327560\",\"2022-01-01T09:54:15.421052\",\"2021-12-21T10:29:04.811929\",\"2021-12-21T17:17:32.249368\",\"2020-07-28T00:03:27.070536\",\"2020-12-29T21:37:21.609428\",\"2021-12-21T02:26:50.002465\",\"2021-12-25T19:39:46.189101\",\"2020-05-29T01:32:52.493641\",\"2021-12-22T22:17:00.401998\",\"2021-05-05T09:43:23.117640\",\"2021-01-07T06:24:35.946942\",\"2020-11-07T10:02:58.442718\",\"2021-11-10T10:58:12.934187\",\"2021-12-26T08:25:05.498617\",\"2021-01-13T16:16:02.939249\",\"2020-11-13T15:26:15.069405\",\"2021-12-22T03:02:41.122708\",\"2021-12-04T16:16:36.697371\",\"2021-12-30T01:03:24.132121\",\"2021-12-29T11:18:07.989680\",\"2021-12-28T17:28:39.824294\",\"2021-12-13T06:05:19.414219\",\"2021-01-12T12:20:48.882575\",\"2020-05-07T01:38:42.781101\",\"2021-12-23T04:54:48.988157\",\"2021-12-30T06:03:43.055776\",\"2021-12-27T11:39:48.161133\",\"2021-12-24T07:47:58.132247\",\"2021-12-01T16:44:51.148145\",\"2020-07-28T08:01:09.100949\",\"2021-12-25T21:25:46.545665\",\"2020-12-31T16:45:30.893628\",\"2021-12-20T22:17:36.256637\",\"2021-12-12T03:52:43.573287\",\"2020-08-31T12:18:58.786869\",\"2021-12-23T01:37:58.045317\",\"2021-08-04T15:30:50.974840\",\"2021-12-22T13:42:32.852706\",\"2020-11-10T04:06:01.435017\",\"2021-12-19T16:16:49.842560\",\"2020-07-17T00:15:52.557286\",\"2021-12-29T02:15:22.277208\",\"2021-01-13T06:52:55.424517\",\"2020-07-20T10:41:46.443324\",\"2021-12-21T03:56:37.024001\",\"2021-01-01T04:18:15.066179\",\"2022-01-05T00:09:47.291279\",\"2021-12-12T14:05:23.648339\",\"2021-12-18T05:03:48.938561\",\"2021-01-14T04:30:35.592903\",\"2020-10-02T03:09:43.741508\",\"2021-12-25T05:22:21.843346\",\"2021-12-26T04:40:21.165684\",\"2020-11-28T13:06:31.631930\",\"2020-12-30T10:22:26.948963\",\"2020-03-17T20:08:12.078765\",\"2021-12-26T03:06:01.993581\",\"2021-01-04T06:28:01.883963\",\"2021-01-01T04:09:41.186383\",\"2020-11-03T23:02:11.167747\",\"2021-12-25T10:47:55.236083\",\"2021-12-15T03:24:39.410850\",\"2020-12-31T17:33:22.045560\",\"2020-07-28T03:26:41.017194\",\"2021-01-03T23:58:39.674112\",\"2022-01-02T14:50:49.912600\",\"2020-10-13T05:38:58.483174\",\"2021-12-28T15:00:20.738681\",\"2020-05-08T17:49:42.754309\",\"2021-12-25T20:01:15.049879\",\"2020-09-03T22:45:50.966790\",\"2021-12-29T23:57:44.486231\",\"2021-12-26T00:21:55.329631\",\"2020-11-09T16:59:29.298539\",\"2021-12-21T02:34:04.457155\",\"2021-01-02T21:59:27.126999\",\"2021-12-26T00:07:24.564672\",\"2022-01-02T08:02:08.812795\",\"2021-12-28T06:07:05.996563\",\"2021-12-28T22:38:25.127715\",\"2020-11-03T11:25:21.081213\",\"2021-12-17T00:52:33.576835\",\"2021-12-30T11:27:41.827215\",\"2021-12-12T01:05:30.948489\",\"2022-01-09T22:21:40.754663\",\"2021-10-13T07:19:37.288845\",\"2021-12-29T11:34:03.131084\",\"2021-01-13T06:57:55.115589\",\"2020-04-07T08:41:25.219832\",\"2021-12-26T07:35:45.365299\",\"2021-01-01T21:54:42.466843\",\"2020-05-30T05:43:03.706557\",\"2022-01-07T15:44:38.608633\",\"2021-12-27T20:01:27.130908\",\"2021-12-25T12:19:21.687482\",\"2022-01-05T20:38:47.108414\",\"2021-12-22T04:35:38.604242\",\"2021-12-21T16:08:29.687620\",\"2022-01-06T04:14:43.553565\",\"2020-11-05T15:00:21.869009\",\"2021-12-26T11:52:32.827523\",\"2021-12-25T07:22:19.124070\",\"2021-12-30T07:54:52.963728\",\"2021-12-17T20:26:52.219018\",\"2022-04-08T00:36:07.749914\",\"2021-12-25T14:32:05.735841\",\"2021-12-22T04:27:31.388475\",\"2022-01-07T12:02:44.747952\",\"2021-01-01T11:19:17.932222\",\"2021-01-03T04:11:05.208462\",\"2021-12-22T07:43:53.479809\",\"2021-12-21T02:17:27.186527\",\"2021-12-26T17:59:43.050755\",\"2022-01-02T00:39:51.079392\",\"2022-01-03T10:36:58.365536\",\"2020-11-27T04:25:24.462387\",\"2021-12-28T17:49:49.228680\",\"2021-12-16T09:41:58.948849\",\"2021-12-24T16:44:21.938443\",\"2021-12-24T04:41:13.131683\",\"2021-12-30T21:12:43.536200\",\"2020-10-11T12:25:20.893678\",\"2021-01-02T14:26:03.883932\",\"2021-12-23T03:54:15.088378\",\"2021-12-29T05:27:28.106289\",\"2020-07-29T15:31:44.702835\",\"2021-12-15T03:11:30.860978\",\"2020-11-27T00:13:44.288505\",\"2021-12-17T04:07:05.656694\",\"2021-11-01T12:34:19.270331\",\"2021-01-08T14:02:02.178737\",\"2021-12-31T02:41:07.715210\",\"2021-01-02T03:18:16.782861\",\"2021-10-14T03:07:07.987704\",\"2021-12-13T08:24:11.646239\",\"2020-11-10T10:50:49.982923\",\"2021-12-14T02:42:10.577932\",\"2021-12-13T23:49:30.941807\",\"2020-11-12T09:49:36.127972\",\"2021-12-30T14:17:35.453878\",\"2022-02-03T20:49:33.855498\",\"2021-12-28T13:37:18.958031\",\"2021-12-14T04:57:51.963147\",\"2020-12-31T07:39:31.117860\",\"2021-10-29T14:35:19.142802\",\"2021-01-04T22:32:55.690950\",\"2021-12-22T17:35:08.555756\",\"2021-12-26T14:14:36.548474\",\"2021-12-18T21:02:35.598857\",\"2021-12-26T02:38:39.066492\",\"2020-05-26T22:46:21.494824\",\"2020-08-02T10:15:51.971337\",\"2022-01-04T04:49:40.368350\",\"2021-12-28T05:15:08.932920\",\"2021-01-01T08:44:19.380123\",\"2021-01-05T23:29:44.715520\",\"2021-12-25T22:06:19.508170\",\"2021-12-20T06:44:08.388107\",\"2020-09-28T13:35:20.528203\",\"2020-12-31T05:05:45.314089\",\"2021-12-30T17:39:57.478185\",\"2021-12-21T21:54:03.481437\",\"2022-01-05T05:27:33.119424\",\"2021-12-25T18:08:15.809050\",\"2021-12-31T14:32:28.648530\",\"2021-12-31T08:37:25.942200\",\"2020-12-31T14:57:30.683179\",\"2020-11-15T23:17:04.867203\",\"2021-12-28T03:48:00.573577\",\"2021-03-19T01:30:50.777415\",\"2020-05-09T05:32:44.086972\",\"2020-11-04T17:48:15.751597\",\"2022-05-30T13:37:06.788547\",\"2020-11-08T19:00:10.359989\",\"2021-01-15T15:57:49.664776\",\"2021-01-12T19:13:48.063034\",\"2021-12-30T10:27:48.300529\",\"2022-02-26T00:45:15.024677\",\"2019-11-05T06:40:43.698043\",\"2020-11-06T13:45:13.769354\",\"2022-04-10T08:46:27.138158\",\"2021-05-08T01:31:47.819063\",\"2020-11-09T05:21:04.944688\",\"2020-12-31T21:33:03.798609\",\"2021-05-01T21:03:16.910225\",\"2021-12-25T07:54:10.639876\",\"2022-05-30T00:56:47.294937\",\"2021-01-13T11:23:26.685420\",\"2020-11-10T20:27:58.197286\",\"2020-11-16T21:13:17.908611\",\"2020-11-25T22:37:14.499751\",\"2021-02-19T04:29:07.942517\",\"2021-12-14T05:23:46.758027\",\"2020-11-02T00:11:00.587923\",\"2021-03-03T05:21:37.590945\",\"2020-11-12T22:15:07.128050\",\"2020-11-04T00:53:29.075638\",\"2022-04-07T03:36:22.913947\",\"2020-11-14T01:57:52.715316\",\"2020-11-11T17:32:42.339833\",\"2020-11-18T00:35:25.476041\",\"2021-02-01T17:27:10.471175\",\"2020-11-14T09:27:44.136184\",\"2021-03-03T03:01:46.170335\",\"2022-03-26T23:25:00.118338\",\"2020-11-16T14:42:07.317323\",\"2020-05-08T10:27:01.615957\",\"2022-05-30T06:39:04.437607\",\"2020-11-14T19:44:31.106381\",\"2021-01-01T21:44:43.007630\",\"2021-10-30T23:17:56.174548\",\"2021-05-01T02:53:42.020660\",\"2020-11-08T13:33:18.897256\",\"2020-05-11T04:39:57.512284\",\"2021-01-01T16:19:14.357744\",\"2021-03-29T14:43:38.225341\",\"2022-02-11T07:13:29.431844\",\"2021-12-25T08:33:43.508557\",\"2021-01-06T17:22:42.547758\",\"2020-11-12T05:04:37.807952\",\"2021-03-18T04:57:42.908412\",\"2022-03-02T06:27:25.125960\",\"2021-04-24T01:20:04.869132\",\"2020-05-11T09:36:57.203557\",\"2020-05-16T11:16:11.130129\",\"2021-03-13T07:04:27.551002\",\"2022-01-18T20:06:02.647289\",\"2020-05-09T16:11:59.212135\",\"2020-04-14T20:05:33.703555\",\"2020-11-26T09:40:21.141099\",\"2020-11-26T22:02:21.196236\",\"2020-11-14T02:19:18.113672\",\"2021-01-28T21:43:50.297684\",\"2020-12-30T04:19:19.662692\",\"2021-12-14T08:43:38.825443\",\"2022-01-01T09:59:51.893401\",\"2021-01-25T03:51:46.808840\",\"2020-11-03T02:49:38.588015\",\"2020-12-30T03:06:29.044619\",\"2020-11-14T01:11:36.625761\",\"2021-12-23T05:34:18.096616\",\"2021-01-12T18:38:48.203104\",\"2021-01-13T17:51:26.308659\",\"2020-11-09T22:52:00.869675\",\"2021-03-12T10:26:50.389480\",\"2020-11-06T16:52:01.660363\",\"2021-01-05T07:11:47.012950\",\"2021-01-24T04:28:33.772984\",\"2019-11-22T14:26:16.196056\",\"2020-11-19T20:39:13.332257\",\"2022-04-09T23:10:00.887995\",\"2020-06-19T00:59:23.864802\",\"2020-04-24T17:44:35.688657\",\"2021-01-09T00:06:44.363799\",\"2021-04-07T02:27:19.234471\",\"2021-02-24T11:48:43.151958\",\"2021-12-29T10:09:32.721878\",\"2020-11-13T08:57:59.754539\",\"2020-11-22T17:12:50.158348\",\"2020-11-09T07:24:28.840349\",\"2020-03-14T03:00:11.550976\",\"2021-03-06T20:46:58.043667\",\"2021-01-05T22:48:07.281550\",\"2022-01-15T07:02:11.081001\",\"2020-11-13T16:55:05.781651\",\"2021-01-01T16:17:44.887210\",\"2021-05-27T20:46:50.335337\",\"2020-09-05T19:53:18.317747\",\"2020-11-08T03:40:43.451016\",\"2022-05-30T17:11:26.367453\",\"2022-05-30T14:08:14.561915\",\"2021-12-20T11:30:23.954261\",\"2021-06-12T07:49:13.269592\",\"2020-05-31T21:14:55.136778\",\"2020-11-16T21:51:26.113994\",\"2022-02-18T22:29:48.689317\",\"2019-11-09T22:51:50.549371\",\"2022-01-03T14:14:48.332412\",\"2020-11-11T22:22:29.418038\",\"2022-02-03T07:18:05.155855\",\"2020-11-05T12:42:45.907477\",\"2022-04-12T05:37:45.542129\",\"2021-06-17T02:34:24.172430\",\"2021-12-25T08:10:47.969706\",\"2021-10-10T15:42:44.908436\",\"2022-01-01T22:48:53.297753\",\"2020-11-18T14:31:14.689445\",\"2021-12-17T09:01:01.023190\",\"2021-12-18T08:08:30.565198\",\"2020-11-15T13:35:55.355567\",\"2020-12-31T18:19:12.064422\",\"2022-05-29T00:29:02.798291\",\"2022-01-04T15:13:39.851035\",\"2021-10-09T02:00:48.057689\",\"2021-12-28T21:09:03.189003\",\"2020-11-25T13:44:25.169500\",\"2021-05-06T16:13:31.945019\",\"2019-11-10T03:37:06.982210\",\"2020-05-11T02:30:24.070635\",\"2022-05-29T05:14:25.294240\",\"2021-01-11T10:09:43.191403\",\"2022-05-30T05:58:57.763802\",\"2021-12-31T15:16:49.051454\",\"2021-06-19T20:31:03.079288\",\"2021-01-05T09:23:41.002649\",\"2021-01-03T04:30:41.087479\",\"2019-11-13T07:34:41.683678\",\"2020-12-31T10:51:32.027133\",\"2021-01-29T02:33:50.047358\",\"2020-11-01T04:43:00.296767\",\"2020-03-20T19:34:03.331103\",\"2021-05-25T07:30:07.054562\",\"2021-12-28T20:38:11.586023\",\"2021-10-04T18:57:57.397185\",\"2021-01-30T08:42:41.859378\",\"2022-01-05T23:38:13.833243\",\"2021-02-12T15:32:31.463930\",\"2020-09-02T11:57:52.834198\",\"2021-12-13T04:10:09.621860\",\"2022-01-09T17:58:19.459417\",\"2021-12-30T21:05:40.725529\",\"2021-12-27T08:55:58.826746\",\"2021-02-08T05:27:16.918458\",\"2021-12-19T03:06:48.622463\",\"2019-11-03T16:59:05.794445\",\"2021-12-21T14:55:15.588809\",\"2020-05-07T20:17:19.615932\",\"2020-12-30T05:48:24.651705\",\"2021-12-20T18:57:18.058944\",\"2020-11-21T00:42:50.706296\",\"2020-12-30T09:12:45.770765\",\"2020-11-10T17:55:24.705937\",\"2021-12-29T09:14:55.769208\",\"2020-01-02T21:15:32.501331\",\"2022-01-02T00:13:11.378047\",\"2020-11-15T23:57:50.714903\",\"2022-05-31T16:55:37.683474\",\"2021-01-25T01:05:13.616077\",\"2021-01-02T17:21:17.203264\",\"2021-01-15T15:11:35.214833\",\"2019-11-09T18:11:03.561503\",\"2020-11-05T16:24:45.297088\",\"2020-11-15T17:55:45.057779\",\"2020-05-28T16:55:35.499077\",\"2021-12-12T18:41:19.546154\",\"2022-05-29T00:38:42.127698\",\"2021-01-09T12:29:42.128544\",\"2021-01-14T23:11:14.473800\",\"2021-12-27T00:26:23.310244\",\"2020-11-12T18:32:47.319392\",\"2021-12-20T04:10:48.807480\",\"2021-01-09T05:54:53.080700\",\"2021-12-28T20:56:19.576113\",\"2020-05-07T14:59:50.488976\",\"2020-11-16T14:39:35.609942\",\"2020-11-17T05:49:20.118376\",\"2020-11-03T07:20:11.865333\",\"2022-01-03T12:29:03.256725\",\"2020-11-09T18:49:00.218973\",\"2021-09-16T23:35:21.996457\",\"2022-02-05T21:55:54.879385\",\"2019-11-14T04:39:21.207518\",\"2019-11-09T10:02:13.288007\",\"2020-12-31T03:11:29.865652\",\"2021-05-09T13:31:34.025973\",\"2022-01-08T06:19:58.619864\",\"2021-12-31T06:45:25.700488\",\"2021-03-05T16:01:53.728115\",\"2021-12-12T02:15:20.486968\",\"2021-01-12T07:02:23.347572\",\"2021-05-31T08:37:29.039519\",\"2021-01-12T04:04:37.274770\",\"2020-11-17T03:53:41.813230\",\"2021-01-01T22:12:20.632497\",\"2021-01-11T09:30:35.883465\",\"2019-11-16T05:54:42.071534\",\"2020-06-06T06:50:15.271536\",\"2022-05-29T22:43:34.788542\",\"2020-11-11T22:40:30.381477\",\"2021-12-11T06:59:44.590278\",\"2020-12-29T13:27:31.974789\",\"2022-02-05T23:44:27.604254\",\"2021-05-26T02:42:53.717959\",\"2019-12-30T03:26:31.867821\",\"2021-05-07T15:45:27.266660\",\"2020-11-04T22:07:13.061989\",\"2020-11-02T17:41:13.341171\",\"2021-12-09T01:22:20.767915\",\"2021-01-27T15:21:55.432344\",\"2020-11-13T19:03:08.860787\",\"2020-12-31T20:41:44.798799\",\"2021-12-20T03:22:04.246691\",\"2022-01-28T19:19:10.581884\",\"2021-01-11T23:56:51.059957\",\"2020-07-03T09:20:25.775891\",\"2022-05-31T08:20:04.889923\",\"2020-11-03T13:15:13.722337\",\"2021-03-13T07:52:26.828544\",\"2020-11-05T01:44:16.436302\",\"2021-01-27T08:24:13.363188\",\"2020-05-12T07:06:22.854365\",\"2019-11-17T09:52:11.828303\",\"2021-04-08T10:02:39.248124\",\"2020-11-22T18:54:00.684780\",\"2021-02-03T18:05:07.980735\",\"2019-11-20T21:00:04.173335\",\"2020-11-15T17:49:32.425148\",\"2021-01-07T09:21:14.512134\",\"2020-12-30T17:57:49.371259\",\"2021-04-08T21:25:27.988643\",\"2020-09-28T13:17:31.870587\",\"2019-11-11T10:50:56.303379\",\"2021-12-21T10:44:59.375003\",\"2021-02-26T11:41:53.438442\",\"2019-11-17T09:09:59.529213\",\"2021-12-17T04:07:28.066210\",\"2021-12-17T22:58:44.276862\",\"2020-02-23T16:23:53.475072\",\"2021-01-12T14:10:09.847501\",\"2021-10-18T17:34:19.394233\",\"2020-11-14T09:03:32.538264\",\"2021-03-07T08:13:43.584993\",\"2020-11-16T16:20:22.889137\",\"2020-11-03T13:52:26.989720\",\"2021-01-06T23:04:02.566855\",\"2020-11-25T10:54:00.883167\",\"2021-12-24T04:14:28.888990\",\"2020-12-31T19:41:44.937777\",\"2021-12-29T23:28:08.991751\",\"2020-11-19T21:22:47.910001\",\"2020-11-16T05:27:14.924166\",\"2021-12-17T06:23:48.108630\",\"2021-12-30T18:22:24.314108\",\"2019-10-31T04:10:47.178252\",\"2020-11-14T05:21:08.672237\",\"2022-01-13T00:11:42.595332\",\"2020-11-13T13:09:37.382410\",\"2021-01-05T20:08:17.971378\",\"2020-05-09T16:43:45.367644\",\"2021-06-09T16:13:11.087498\",\"2020-12-31T03:01:12.674608\",\"2021-05-12T14:27:56.922065\",\"2021-01-15T22:05:00.389818\",\"2020-06-25T13:45:16.884092\",\"2021-12-27T20:22:38.925724\",\"2020-11-14T11:36:02.770194\",\"2020-12-31T14:35:00.654206\",\"2021-05-28T00:15:59.758566\",\"2020-11-15T04:00:08.509301\",\"2021-12-29T03:16:57.893394\",\"2020-11-05T00:09:34.376666\",\"2021-06-05T16:40:02.969021\",\"2020-11-25T05:51:39.176212\",\"2021-12-30T03:44:59.621741\",\"2020-06-10T21:31:47.342200\",\"2021-01-08T21:39:31.694344\",\"2020-11-10T19:40:42.866562\",\"2021-12-29T01:37:26.343550\",\"2019-11-11T14:25:54.933784\",\"2021-02-09T03:26:52.977546\",\"2021-02-18T13:35:06.013085\",\"2019-11-16T08:33:11.054606\",\"2020-05-10T07:21:53.397242\",\"2021-01-03T11:32:18.092284\",\"2020-05-08T19:50:07.108657\",\"2020-09-01T20:39:10.993879\",\"2020-09-01T14:35:14.372147\",\"2021-03-28T16:52:30.040932\",\"2022-01-16T04:52:31.888115\",\"2020-11-26T02:06:20.815778\",\"2020-11-18T10:34:20.876103\",\"2020-11-16T05:55:09.398673\",\"2020-03-18T23:34:40.551096\",\"2020-11-12T06:34:54.260151\",\"2020-11-14T12:39:48.403573\",\"2021-01-25T20:34:51.369959\",\"2021-02-13T16:47:25.872446\",\"2022-01-14T17:44:28.406425\",\"2020-11-17T06:03:29.665813\",\"2022-05-29T02:14:44.130505\",\"2021-12-21T16:53:30.707699\",\"2020-11-22T05:26:02.151907\",\"2021-01-13T11:30:49.506062\",\"2020-11-04T08:30:12.953170\",\"2021-12-26T18:22:56.445775\",\"2020-11-02T06:01:34.450785\",\"2022-01-04T10:30:58.118283\",\"2021-04-16T14:11:24.513560\",\"2021-01-01T21:02:22.844284\",\"2020-11-03T09:13:44.922793\",\"2021-12-21T19:45:23.329031\",\"2021-12-28T03:45:01.908467\",\"2021-12-29T12:35:12.107070\",\"2019-11-24T13:22:33.812774\",\"2021-12-22T07:45:25.376320\",\"2022-06-01T21:57:16.781921\",\"2020-05-08T23:31:35.950801\",\"2021-12-21T22:51:06.336652\",\"2021-10-30T17:51:43.691293\",\"2020-11-15T00:35:19.196834\",\"2021-06-10T14:51:13.260575\",\"2021-04-24T05:41:41.185776\",\"2021-06-19T04:59:19.230609\",\"2021-02-01T22:45:55.375985\",\"2021-01-13T08:52:58.887244\",\"2020-11-02T06:42:59.968321\",\"2021-03-28T10:43:26.104198\",\"2022-04-12T14:52:55.038777\",\"2022-06-01T10:55:14.731775\",\"2021-12-11T03:23:27.503817\",\"2021-01-13T02:45:23.200238\",\"2020-12-29T05:09:31.882285\",\"2022-01-16T06:33:32.795138\",\"2019-11-03T02:02:38.809893\",\"2020-01-03T00:33:14.827819\",\"2021-10-07T21:04:29.026061\",\"2020-12-30T23:34:49.513882\",\"2020-11-11T08:47:19.329268\",\"2021-12-10T13:31:45.387702\",\"2020-11-15T09:21:59.922143\",\"2021-04-15T23:17:24.384556\",\"2021-04-30T04:26:51.334875\",\"2020-11-16T18:48:27.786947\",\"2020-11-23T01:03:42.567085\",\"2021-03-18T18:15:30.395092\",\"2021-12-14T16:14:00.259812\",\"2021-02-24T14:03:55.689601\",\"2021-12-26T16:43:35.730737\",\"2020-11-15T19:31:49.297466\",\"2021-06-07T07:23:08.075030\",\"2020-11-16T17:36:00.941124\",\"2021-12-23T06:48:25.282297\",\"2021-09-21T23:33:44.536506\",\"2021-06-06T21:33:03.098562\",\"2021-09-18T01:24:36.051690\",\"2020-05-23T00:52:38.728503\",\"2020-11-11T11:30:49.013896\",\"2020-11-16T10:20:37.747067\",\"2022-05-31T18:42:23.557676\",\"2022-01-10T23:16:17.124993\",\"2022-06-01T19:19:26.719435\",\"2021-12-27T05:38:21.273510\",\"2022-03-23T01:33:00.847072\",\"2020-11-14T08:28:28.270013\",\"2020-11-05T02:09:44.199121\",\"2021-12-29T09:51:10.123658\",\"2020-02-21T08:44:01.156831\",\"2021-10-29T19:10:30.238983\",\"2020-09-01T04:44:14.157250\",\"2022-05-31T10:30:45.228416\",\"2020-03-12T18:47:36.391192\"],\"xaxis\":\"x\",\"y\":[0.56423082665556,0.18042834538189756,0.31172373013517274,0.7636597693221945,0.12098976734461653,0.03854712936440019,0.142449195298061,0.5313802622517868,0.25135619580587365,0.7991726731751317,0.17762824153829726,0.25601317376991706,0.9035854601300102,0.15932958159327926,0.10303585644364455,0.25175772693984355,0.9638749461837284,0.8985787008731976,0.4693945297990729,0.3580452639533731,0.7979735848615307,0.10733275943171627,0.5668190397113523,0.8561190447825647,0.6569368243441239,0.8685433295209571,0.3354599094498718,0.9183248456111831,0.5502180022390873,0.053170915224201476,0.7207186567028943,0.8848967507735894,0.9713122199292902,0.5684358597336377,0.3904539093516316,0.05676087813699049,0.09117619449731318,0.32397007451855864,0.5121218808488212,0.4929527586564989,0.3399762425646028,0.3605483593599549,0.4410380361184737,0.5762282246078654,0.0010535858053569713,0.3337436501627389,0.35368805778005385,0.5802778882256944,0.30068186977457934,0.16841929190555804,0.6753885064966899,0.2408906002521144,0.7498366070260204,0.2105809138114707,0.9617877702012245,0.1185780574985672,0.15546329550604765,0.5275862888124441,0.3627104946892019,0.6745441505856244,0.02082719127784316,0.9164701892969258,0.6369955340762704,0.6187690330944366,0.7733169195442933,0.010164620470251018,0.2059567045658537,0.11264741791929445,0.9642996756657845,0.12913555225066142,0.9959441824552167,0.2628704860318869,0.1908562260883081,0.900905489429168,0.8439652078075087,0.9790812706907539,0.05096545670467301,0.8060706395304672,0.20880707506405372,0.9065521751418537,0.9818163841585907,0.005410575891889757,0.9606345603285733,0.4579889008079058,0.9534382569986791,0.8036598797966303,0.5842840219698514,0.2902018482929375,0.10628050671077882,0.9382841772982647,0.6149889160562348,0.5564028933125204,0.032225987973952486,0.7527997266442391,0.5750177464279749,0.939096565109953,0.35393335776760204,0.1554198630654493,0.7085846385368569,0.05533110841834499,0.3735518161049848,0.3494383745176819,0.8831365219881431,0.06658653341016918,0.09760313386706643,0.7582090282659236,0.9306315766668707,0.4294264612441765,0.9791800633894845,0.322799648989079,0.8483313773050578,0.00898786614907443,0.7744869036262997,0.5099039388322936,0.6705895608436621,0.6565233049198804,0.41446559141958894,0.11657402935788275,0.8695406405942989,0.06839029008578767,0.1629382049493775,0.7990950164365088,0.4096169460980059,0.7217316456548106,0.54153580204011,0.0701390291461168,0.7328205628411798,0.6626904659076728,0.5340432270628295,0.7573832471990367,0.111780428920631,0.1930801942728736,0.07602066810892638,0.3293404252278953,0.5704573855553056,0.8172163847404929,0.9522621842360316,0.3135660632810445,0.012477141022555704,0.6577287478212624,0.762585181179268,0.5919560711356241,0.9890511085307605,0.08279285938296932,0.9407987588186919,0.37549555703142434,0.6683780936607312,0.4065274521269341,0.5763887775092844,0.5128633877776799,0.2824905080462011,0.5290929028136526,0.9881308171749656,0.6632212606253107,0.04993973522240425,0.9022950881693722,0.508886735009752,0.15754726501251803,0.9656350800676434,0.14816053459560274,0.677789663742361,0.2989266394099013,0.6281255716648293,0.8036695918762305,0.35475797833072076,0.8959225501395669,0.7227998420412901,0.02705803305097143,0.8048024407005023,0.18617974126162284,0.6174479994087048,0.2751331381934654,0.36048141743923845,0.8750844718793941,0.546644673884714,0.03933806506095394,0.9278783684820177,0.7524800954946954,0.41431515477439707,0.07201681440365315,0.19546491043144232,0.8589913915055689,0.608556734198659,0.4683811116378107,0.4260293517779783,0.5133281106294976,0.8420459558435647,0.6377902505964193,0.7009613466854658,0.8173436757083985,0.4532332533288409,0.26646904724000764,0.16132895924945834,0.7938359978335313,0.7860449071436312,0.1533384052365654,0.949579225884127,0.5579796299457305,0.9882160868021709,0.8308533892911018,0.07266313533276625,0.6603536971932019,0.5859585880580658,0.6237066546186917,0.11175215322659393,0.5919857736766432,0.2877136931098978,0.40511808300926855,0.7655331637105826,0.7624521133166536,0.13433414171394276,0.3795256342717003,0.9363689446698366,0.02481087805055493,0.3808291727791798,0.7306220984834777,0.4274030028538177,0.4592541195165213,0.12940919779311777,0.7472822098926487,0.5094080426866802,0.6067554524694506,0.5856307918125544,0.630898006789441,0.03943194114629767,0.6551483692131114,0.4770486187878783,0.7004983351612893,0.2811447458958821,0.8605540516004448,0.3943809942289166,0.06955517238875586,0.7631143631884171,0.39055089924803965,0.20238400252586464,0.4974031845297613,0.5222150245877956,0.024503159708482602,0.12457710656697729,0.22528245242448075,0.9804232892702163,0.32810200286017166,0.43960904066132933,0.36604649177555504,0.15030194811511233,0.5359544103201076,0.09880372321068787,0.10486257039404856,0.10791512068795284,0.9156615441015555,0.0940393565894494,0.03153136834625381,0.12242211538582681,0.25474779885056265,0.692984950462038,0.982872852113979,0.6527985386637017,0.007589897015863434,0.5634641435335147,0.7443257534216905,0.2363006858829575,0.9286626314918711,0.0567927558697392,0.7282584214600253,0.9804257383219005,0.40566458933271554,0.974853315976273,0.11869860059490112,0.4443882673434393,0.19128330685013362,0.03087128854513943,0.390849261789295,0.12219481474462945,0.11751353262265662,0.8820155472333372,0.30598585187058447,0.01016147253349009,0.5971043474581266,0.285182901796754,0.6032075511782871,0.5393914304728544,0.9990046321687708,0.3227949373255199,0.7795974501594407,0.6400481219067714,0.3770139653861513,0.19477436911671142,0.776486961705405,0.7619322858055477,0.9229197378092662,0.8420023065329784,0.02587328739956285,0.414265911271008,0.42211610101162145,0.9332891497218315,0.2886163773265775,0.7549925251739327,0.07806152991198834,0.4160263171313532,0.41482308425304426,0.5451823012437921,0.20178746164331574,0.2758142565393189,0.5598733029097899,0.26338447642036666,0.8562730815576332,0.6010905788552483,0.09437056243300335,0.639481680891794,0.40162211997369124,0.6722237039878504,0.0951105245435323,0.7458149392378393,0.08259652105369697,0.027042294965850977,0.5892402055205952,0.6337450204052429,0.3658449901982318,0.44522980255587175,0.6941558552110407,0.12129336946177183,0.7082667536113323,0.6070662857673466,0.22526944333999266,0.8332883144494874,0.22547523876362618,0.9467079322008921,0.44978392895051655,0.9272605461823256,0.7085454162942316,0.5577326267266668,0.7648201620686426,0.047942663986166645,0.3494304318226561,0.9392059602793007,0.6375491884657442,0.46101595146239593,0.5760836359059311,0.5437484562376773,0.9348458743964113,0.4952691468501731,0.470726851541552,0.4452204570098569,0.24147225855245535,0.6146935652442037,0.7257743134705076,0.6951827331879463,0.9317760554662659,0.2760139209296474,0.42400425404100983,0.26818006199114086,0.8713165603134547,0.013922849241765567,0.448252761289049,0.6389197440506675,0.4967990584462536,0.621665253058153,0.9291485114735418,0.2981845008890903,0.4532110375600895,0.6433797481054915,0.7832452132539639,0.1944528179385936,0.35369547734203866,0.372229548571933,0.5675714187467688,0.9797247578544045,0.32936422361543305,0.2919167500967258,0.7232352678424709,0.7715158148195792,0.6334136704865712,0.3755013845249324,0.507861040434653,0.9458426047783753,0.11634521207084614,0.4425410394044136,0.8269422428732816,0.6818850114855339,0.48578716984651626,0.4492068990719964,0.9373915308884629,0.2869043991824357,0.5001427965531644,0.10298440518018914,0.2601566495355895,0.4318150618438039,0.4326668102958884,0.9050360036168752,0.9596775048545245,0.267554163919674,0.889752597815596,0.26990713218214635,0.9636701531058672,0.3381886451790277,0.6268542021054034,0.9951441801427954,0.03635288668704462,0.743903680258795,0.21849479195763866,0.6749116078098768,0.805367219280445,0.39942347679990753,0.3799060545914644,0.2050775607476102,0.3723613286592291,0.020306348697656684,0.3988620843695433,0.20431689470427605,0.8622989706772285,0.48633928475383104,0.2363860181454982,0.5580657548195889,0.11454948177546576,0.4185495379855836,0.5221031176178408,0.8853718636743263,0.16789321421841197,0.2836026699065688,0.1112058299615406,0.8702515731406947,0.33946102192159233,0.7287345393857139,0.26106684996897933,0.03941605307281071,0.0677533098954749,0.8294183614083626,0.4333208192750606,0.11497305139749792,0.7743219760833582,0.2072705610923098,0.04535599746043961,0.5063579702276156,0.1671738844565669,0.9283980217012183,0.8375633407441606,0.25172179436782205,0.20619559441633117,0.7483809947135445,0.27198599217067665,0.8186672377534256,0.5822930540744636,0.35694154898964603,0.08005714839260603,0.7352853341178258,0.06378211160499603,0.16673748168992575,0.9449599765711529,0.8106466531188372,0.1577209948438395,0.008441607887458957,0.8749882981625767,0.8981471522009216,0.5085226206306831,0.5938592289556112,0.974451412334732,0.940757517429602,0.8115141728691778,0.41217504738262545,0.3946077877793488,0.2660849267477071,0.187489672101117,0.17767051411054147,0.5965235193391182,0.01628250088912364,0.7653459687987955,0.058157356821870065,0.4583373918852679,0.10805898690188831,0.6033385679585114,0.6522851156845885,0.6660581842187394,0.8232748176443476,0.9492887161215874,0.06949030658405841,0.1526740257202862,0.037115010737212906,0.9994461537300474,0.5156331757267811,0.7687557047058069,0.385223861153279,0.7858607057882822,0.8294713233957758,0.42050442314052927,0.521533917490701,0.9587754754237506,0.5514858703968113,0.13192740841192863,0.2254075488648346,0.7862512521066669,0.10465217267463234,0.1433189650867498,0.5664465930668476,0.2800357653257697,0.13612568530150504,0.4448658056338788,0.6833448171286066,0.1466988955016535,0.15147517051541448,0.0664143430830999,0.21461301697357849,0.7132623547863292,0.999280287055328,0.29635362713646374,0.6624669096942611,0.053046422438441376,0.5913042348488157,0.6942862999486802,0.16577164095350871,0.07759478787708218,0.3845146243571068,0.5952379519157037,0.645859713998453,0.0885105598307051,0.6060524979259334,0.4574577409986019,0.6018610494996333,0.19693249463908225,0.638456082215853,0.81353321757632,0.17049511471447487,0.09137562995646398,0.7981173680296442,0.31045792154543095,0.8021758985079449,0.7561141303784567,0.15567175520324228,0.2784157841633078,0.6952207970224064,0.06827657595032877,0.10424992135132705,0.7121102243279142,0.22444285325609392,0.5709742663992415,0.4669636135671076,0.5388707398578247,0.9471389873497733,0.9810707998595604,0.43365782412251097,0.3626846734995369,0.5370380074035024,0.7682762336139697,0.08413714719098708,0.19160969839570785,0.4182406838563111,0.4003089018716769,0.6245367247863355,0.45904045812596816,0.2753576001975061,0.9307233629367635,0.8229014307820741,0.026852396289412495,0.9633487612708344,0.050403575490872266,0.20974469007596808,0.8233015753197584,0.6995084332311768,0.2483162615028064,0.9916608913625375,0.3812039422054062,0.6519470562845903,0.4684715422654052,0.8179989058937157,0.1782836081005409,0.6804837834219432,0.0008374634359604727,0.6388118149371258,0.38964321345968334,0.7409416406543707,0.8478471920090696,0.7055464358603873,0.29928329414025323,0.04890204355918493,0.008332629566937588,0.6487434072190331,0.4836059707081115,0.14255293106843325,0.8087577470577142,0.7096355831089817,0.9611636384182202,0.640472273905606,0.5171530577641763,0.6438466742629725,0.16953507192666573,0.7480940240641847,0.47659308310739923,0.8979265958169624,0.5638423135707481,0.12655117949029193,0.8078511969353093,0.21794723338050537,0.5443218764112874,0.8533969061272962,0.46961879278395513,0.29915923099298725,0.32407827683308255,0.5151875106595559,0.13855118655160026,0.29916019565458096,0.16579290502854538,0.17394582588507146,0.8812412307857439,0.8922846598334289,0.4785971754473769,0.6990500464017537,0.5654108169961446,0.1408908422290155,0.7097983997017199,0.6350985021157636,0.5881348134928145,0.7708388745974266,0.8685864000253989,0.48818588837048416,0.1268327526534918,0.44212500629979345,0.12739890021563705,0.7200626175482904,0.4490683617909733,0.7904758017888716,0.4774041298143149,0.29935462546110136,0.005023272418027469,0.2173622157744446,0.7044618265654293,0.9019276981434758,0.28493989631616623,0.696810340986209,0.4012026671659493,0.41723566703981996,0.9457940967676207,0.008951907680307847,0.20548817926063756,0.03755529478955988,0.8912683898100855,0.7364030140444219,0.6197697853194676,0.6603587805921695,0.3876307648471936,0.48408944631753925,0.4762227036866149,0.18603516582969426,0.7336612750343098,0.28222292838400753,0.7987990716700788,0.38438159532502614,0.5167352753831821,0.4512456784586386,0.5230833239399872,0.07195680384371661,0.27925199799559375,0.21394109885847756,0.726411789479701,0.36380677377018056,0.3440245970798492,0.009902286584651754,0.1692160924833459,0.6007880224768057,0.5505101371900946,0.7110281526472296,0.35880403013230966,0.3604441583386073,0.173939456969602,0.7316718823881125,0.9366383401778052,0.8277302208728193,0.41763661114576545,0.7590034817507071,0.8857224328488705,0.7068428774036024,0.7620654891125173,0.9980599230516826,0.6604112598622425,0.46338895437305894,0.4940809330758196,0.9050541832815849,0.3311230430219526,0.8272156478155975,0.25087463429496626,0.8040562737129325,0.22424758710638015,0.7687911535334995,0.7093353967557448,0.0595847552064539,0.251773637372534,0.0071930637032755484,0.32330484635737256,0.9794046504777046,0.6787529680181928,0.16976687639095,0.9475288405245494,0.18093852352701445,0.024384967113780465,0.37265130873639796,0.7520499696036061,0.4126704211750172,0.23807080035295136,0.8832931902340494,0.6356271620494565,0.7104647880174565,0.6033956004984258,0.5919291584788262,0.8274376641098332,0.5506093902471721,0.30017559964997953,0.1330054885898485,0.44608527226568917,0.16322980468759185,0.6324577548159362,0.010134248544858893,0.4235265013437526,0.13754060636690424,0.22487809964110017,0.6873182948220121,0.603119021109718,0.5904626011538877,0.4619211274338946,0.28867176319473,0.7742438654945845,0.2230328346471241,0.48919072857847523,0.44941376349755646,0.6291498156711691,0.45172796274413596,0.5485099033173836,0.8612521367163144,0.33286358914747427,0.9611018068818457,0.29855456231198696,0.3151869316932755,0.014134429570133666,0.34218182170222056,0.9301958602306192,0.6199476714530339,0.08918022165737904,0.10742335454102636,0.8966270025628111,0.09973307478061832,0.3594050779698922,0.4601871259393815,0.780849861731619,0.9104595574957782,0.9083066641115093,0.7993792696842303,0.9461826017399516,0.23035004222697175,0.561838576769885,0.14697022568969886,0.020413855199484465,0.23434947076284984,0.8314966659058115,0.6454181023182849,0.8283639641150742,0.48794156748037787,0.0518297132157145,0.42437661214682665,0.009739794313726513,0.1360192196152894,0.3956451665770313,0.7808914856254725,0.20982403236740732,0.11013573793175713,0.4384881436615852,0.5844276830260118,0.8619770273352098,0.8682131627816613,0.9887282326035409,0.8844671605229831,0.6995773984726018,0.9060901575096102,0.6488817988572784,0.1434369017723479,0.9734152886243853,0.7566540047613884,0.3905460141588254,0.32914835005240517,0.32325058225561865,0.912885498925497,0.2090590166080517,0.04292902711167046,0.7433131849082802,0.7865914305483627,0.5122530530923367,0.3430243272682403,0.06314659327830219,0.998870955573767,0.014452501138724982,0.20399659871803055,0.032031650956421354,0.18264570626844967,0.0793771308151282,0.038688464096335085,0.43002313869603914,0.8735094662060465,0.26586217858205075,0.13376929167230256,0.17011040822017331,0.7493727115079227,0.20002651118459003,0.45531855960540446,0.4174284127070631,0.6510973037591884,0.17176162827322772,0.09178103616809696,0.12748552523025602,0.597390295272665,0.8695442227670273,0.06538130809776366,0.6815405157956198,0.9677958608793861,0.21562232563043282,0.560002531070461,0.03456734343923207,0.6511752791171171,0.29909416469205063,0.9975992493946402,0.5174351406505996,0.9061736774325001,0.9276926376140893,0.813406439687775,0.9770897408084923,0.12506879011933625,0.022270217053562358,0.4743498746110465,0.2016782218833274,0.31151866486146307,0.5758620244658286,0.4438814632386454,0.21877826296389868,0.028171096088904335,0.6185055375600589,0.3785470942239284,0.5617501297330153,0.07469835449616691,0.18745926135131552,0.8907764857415077,0.5128435812734171,0.05537279402159767,0.5265273579578205,0.6846417302611314,0.12013330524807753,0.9222534241127484,0.1744337908782594,0.6057731452295859,0.26628959116742834,0.09926491594477782,0.1604363259867474,0.42699549908389833,0.7714603148546454,0.9588850753820011,0.06222453917478765,0.7023488415446176,0.4404964174933266,0.5895482799184643,0.9451512240442524,0.35697108341424144,0.4199855067674022,0.8066255651327848,0.2552445264360388,0.3709941099168911,0.9734453394412657,0.17571923779716092,0.9327081247380306,0.270649607029507,0.9405178192038849,0.6296458140370904,0.18945494961955434,0.36444303380635223,0.935953691536232,0.5496159074904553,0.4133344000677108,0.2569914331343661,0.5709405609543227,0.6782972270469272,0.45803444681394956,0.09248195221975541,0.7618205612201341,0.3837092129980294,0.9097698492268776,0.2001574938853573,0.14558181390118174,0.6968783285624938,0.344141096056492,0.7069069537805655,0.5409694320865422,0.028826632734373248,0.07048664131760407,0.5302117163707131,0.18546723990542002,0.1549629447131412,0.05366306349057237,0.6124244713610815,0.4367191646566715,0.2234122071903052,0.8603147419443115,0.6077652088989173,0.3359313429071892,0.6356615729696422,0.22932570472003577,0.7702135442715524,0.427647231603285,0.2445661338771078,0.8324488737326582,0.5390163275610387,0.9921847835564022,0.10838971687395438,0.9542330164096767,0.27189466967395204,0.21946023932640724,0.4784892392739424,0.42020153113527303,0.08085355215576451,0.24318053110215931,0.950682944363737,0.9315956510731039,0.8148633937178332,0.2897426442494644,0.8459837893182338,0.802330605307302,0.3402438448995122,0.9406766885107176,0.17857362131915222,0.040038364782506886,0.5943101213331603,0.5822886948468559,0.31356155330834834,0.06176793032611738,0.5700275417154871,0.2617192938939136,0.7663782895544156,0.8247359681431617,0.8150228816170999,0.1923097033443386,0.42467996670768293,0.5187742346196577,0.8100030841200009,0.4920437237854315,0.35418290576469347,0.9732734234880849,0.6034770430962825,0.25862831072923465,0.6740275405296267,0.468602665230311,0.24287363319466093,0.47029315890455936,0.24596198591648544,0.4429486770503296,0.27774231966634966,0.5148220390087658,0.2670245665319514,0.9013185683057657,0.8636660561400947,0.9340878984121563,0.04134817810633351,0.949312549054783,0.9061953678460628,0.12015733964609099,0.6375874131240468,0.9719273845088147,0.5383341259497183,0.727695433985971,0.909812550320551,0.22522080796224375,0.8658218991931234,0.9047892463750333,0.013291391362442395,0.7272468172764953,0.6372045987999905,0.4528538638552627,0.10823693536758505,0.6955078511629684,0.4374733048184838,0.23466668797293488,0.05375625110958149,0.7650905829387769,0.3822242993569499,0.5759034488636957,0.24118787031019218,0.1063220620329457,0.9732651391804706,0.26246107931317186,0.3847697098390588,0.5353390495444587,0.4144397417149921,0.5928906823308054,0.07055631178269339,0.5391675079456432,0.6075340758505005,0.13298131962876347,0.011406687783246827,0.5984589418087944,0.9981822447389828,0.5368296918910642,0.3473321236836726,0.9847363826999525,0.4193175710176439,0.07569238362157549,0.16906572693467958,0.4911715508740492,0.20765549689153484,0.7617997620464552,0.620833464841822,0.7089421497995427,0.5136240328394143,0.785202514788922,0.6144978848427686,0.41014196864605823,0.5261734620011819,0.9324952616628128,0.9856403490563923,0.4075046957296994,0.1332431622503234,0.3772685926737721,0.9482460437318649,0.4723247001575269,0.05430604931464511,0.11487575232625702,0.11263704855381584,0.3954022677417407,0.6094809374347906,0.27764556497073845,0.5599003099902763,0.7840321392787533,0.1494190373118357,0.37726393501045563,0.4162346216770785,0.31432259717131183,0.3435576835561758,0.07164463123649345,0.4187089589421972,0.548900293315799,0.27828733395142036,0.14422051314500373,0.25603846860020163,0.5617691605347507,0.2528797265729633,0.44144239970911614,0.2481919516932155,0.026321183370833445,0.7917625749161845,0.4940640319242675,0.3510847873396703,0.9447390059728327,0.7970632364077583,0.9496695661377098,0.2490138385369881,0.45482060956216663,0.3095853242624024,0.5408009522085401,0.7009681313629841,0.7971174207660265,0.1074778079273343,0.011848703949508987,0.399996864021804,0.8290819882584582,0.44519900394452605,0.6995496256691708,0.6861320923595281,0.8683097198465144,0.6897687798447005,0.6681502830314573,0.6813717098352478,0.32408887840981226,0.621048109337943,0.7792365084553492,0.30712652642879035,0.14986646380285396,0.06677223144325006,0.5760650299155214,0.3638798530426587,0.12590932307201919,0.4264595494635718,0.43842819651402665,0.6263606841843782,0.8028591232779162,0.6967047498610323,0.22557820620169067,0.9333035030778161,0.7396885738055476,0.4092216113265984,0.18430780610462316,0.5223004922243114,0.0777610743322874,0.6126178173744922,0.28850453910261775,0.7322775725356775,0.41166819226986306,0.3796186561332082,0.5375253737361543,0.037280710852166554,0.563178273515489,0.5911735648023563,0.759542321633957,0.4934854724206136,0.40904831425845156,0.4233734486278975,0.4739839760318916,0.7079518889524009,0.9780015458585691,0.6272514221530953,0.28616478152038605,0.387166442761545,0.735788936454605,0.9091065495923216,0.38283247991361546,0.33920843289847524,0.2708778556096464,0.0169798898026694,0.6333598807991735,0.934280939757782,0.6179018420955554,0.26447998284718965,0.9427232094419241,0.9528486162484363,0.8191780864170958,0.7433485334924673,0.7424999749770581,0.6028709179289684,0.8650253280841375,0.24210952211287673,0.3821555563540211,0.26946897796291014,0.5577546945598894,0.011530055528379157,0.7066694674123083,0.8348722743273879,0.723675754741473,0.0399584031732515,0.01253357196362237,0.8803112660368945,0.3670158343361205,0.7625689547653348,0.25337552315519285,0.9419595940526707,0.11904561897256483,0.3545743684306507,0.9574765690167024,0.8563850757593661,0.23539865992720244,0.31711507698542907,0.9026492440015321,0.814808306926645,0.4499271465210346,0.8107881670643123,0.5416807905813076],\"yaxis\":\"y\",\"type\":\"scattergl\"}],                        {\"template\":{\"data\":{\"histogram2dcontour\":[{\"type\":\"histogram2dcontour\",\"colorbar\":{\"outlinewidth\":0,\"ticks\":\"\"},\"colorscale\":[[0.0,\"#0d0887\"],[0.1111111111111111,\"#46039f\"],[0.2222222222222222,\"#7201a8\"],[0.3333333333333333,\"#9c179e\"],[0.4444444444444444,\"#bd3786\"],[0.5555555555555556,\"#d8576b\"],[0.6666666666666666,\"#ed7953\"],[0.7777777777777778,\"#fb9f3a\"],[0.8888888888888888,\"#fdca26\"],[1.0,\"#f0f921\"]]}],\"choropleth\":[{\"type\":\"choropleth\",\"colorbar\":{\"outlinewidth\":0,\"ticks\":\"\"}}],\"histogram2d\":[{\"type\":\"histogram2d\",\"colorbar\":{\"outlinewidth\":0,\"ticks\":\"\"},\"colorscale\":[[0.0,\"#0d0887\"],[0.1111111111111111,\"#46039f\"],[0.2222222222222222,\"#7201a8\"],[0.3333333333333333,\"#9c179e\"],[0.4444444444444444,\"#bd3786\"],[0.5555555555555556,\"#d8576b\"],[0.6666666666666666,\"#ed7953\"],[0.7777777777777778,\"#fb9f3a\"],[0.8888888888888888,\"#fdca26\"],[1.0,\"#f0f921\"]]}],\"heatmap\":[{\"type\":\"heatmap\",\"colorbar\":{\"outlinewidth\":0,\"ticks\":\"\"},\"colorscale\":[[0.0,\"#0d0887\"],[0.1111111111111111,\"#46039f\"],[0.2222222222222222,\"#7201a8\"],[0.3333333333333333,\"#9c179e\"],[0.4444444444444444,\"#bd3786\"],[0.5555555555555556,\"#d8576b\"],[0.6666666666666666,\"#ed7953\"],[0.7777777777777778,\"#fb9f3a\"],[0.8888888888888888,\"#fdca26\"],[1.0,\"#f0f921\"]]}],\"heatmapgl\":[{\"type\":\"heatmapgl\",\"colorbar\":{\"outlinewidth\":0,\"ticks\":\"\"},\"colorscale\":[[0.0,\"#0d0887\"],[0.1111111111111111,\"#46039f\"],[0.2222222222222222,\"#7201a8\"],[0.3333333333333333,\"#9c179e\"],[0.4444444444444444,\"#bd3786\"],[0.5555555555555556,\"#d8576b\"],[0.6666666666666666,\"#ed7953\"],[0.7777777777777778,\"#fb9f3a\"],[0.8888888888888888,\"#fdca26\"],[1.0,\"#f0f921\"]]}],\"contourcarpet\":[{\"type\":\"contourcarpet\",\"colorbar\":{\"outlinewidth\":0,\"ticks\":\"\"}}],\"contour\":[{\"type\":\"contour\",\"colorbar\":{\"outlinewidth\":0,\"ticks\":\"\"},\"colorscale\":[[0.0,\"#0d0887\"],[0.1111111111111111,\"#46039f\"],[0.2222222222222222,\"#7201a8\"],[0.3333333333333333,\"#9c179e\"],[0.4444444444444444,\"#bd3786\"],[0.5555555555555556,\"#d8576b\"],[0.6666666666666666,\"#ed7953\"],[0.7777777777777778,\"#fb9f3a\"],[0.8888888888888888,\"#fdca26\"],[1.0,\"#f0f921\"]]}],\"surface\":[{\"type\":\"surface\",\"colorbar\":{\"outlinewidth\":0,\"ticks\":\"\"},\"colorscale\":[[0.0,\"#0d0887\"],[0.1111111111111111,\"#46039f\"],[0.2222222222222222,\"#7201a8\"],[0.3333333333333333,\"#9c179e\"],[0.4444444444444444,\"#bd3786\"],[0.5555555555555556,\"#d8576b\"],[0.6666666666666666,\"#ed7953\"],[0.7777777777777778,\"#fb9f3a\"],[0.8888888888888888,\"#fdca26\"],[1.0,\"#f0f921\"]]}],\"mesh3d\":[{\"type\":\"mesh3d\",\"colorbar\":{\"outlinewidth\":0,\"ticks\":\"\"}}],\"scatter\":[{\"fillpattern\":{\"fillmode\":\"overlay\",\"size\":10,\"solidity\":0.2},\"type\":\"scatter\"}],\"parcoords\":[{\"type\":\"parcoords\",\"line\":{\"colorbar\":{\"outlinewidth\":0,\"ticks\":\"\"}}}],\"scatterpolargl\":[{\"type\":\"scatterpolargl\",\"marker\":{\"colorbar\":{\"outlinewidth\":0,\"ticks\":\"\"}}}],\"bar\":[{\"error_x\":{\"color\":\"#2a3f5f\"},\"error_y\":{\"color\":\"#2a3f5f\"},\"marker\":{\"line\":{\"color\":\"#E5ECF6\",\"width\":0.5},\"pattern\":{\"fillmode\":\"overlay\",\"size\":10,\"solidity\":0.2}},\"type\":\"bar\"}],\"scattergeo\":[{\"type\":\"scattergeo\",\"marker\":{\"colorbar\":{\"outlinewidth\":0,\"ticks\":\"\"}}}],\"scatterpolar\":[{\"type\":\"scatterpolar\",\"marker\":{\"colorbar\":{\"outlinewidth\":0,\"ticks\":\"\"}}}],\"histogram\":[{\"marker\":{\"pattern\":{\"fillmode\":\"overlay\",\"size\":10,\"solidity\":0.2}},\"type\":\"histogram\"}],\"scattergl\":[{\"type\":\"scattergl\",\"marker\":{\"colorbar\":{\"outlinewidth\":0,\"ticks\":\"\"}}}],\"scatter3d\":[{\"type\":\"scatter3d\",\"line\":{\"colorbar\":{\"outlinewidth\":0,\"ticks\":\"\"}},\"marker\":{\"colorbar\":{\"outlinewidth\":0,\"ticks\":\"\"}}}],\"scattermapbox\":[{\"type\":\"scattermapbox\",\"marker\":{\"colorbar\":{\"outlinewidth\":0,\"ticks\":\"\"}}}],\"scatterternary\":[{\"type\":\"scatterternary\",\"marker\":{\"colorbar\":{\"outlinewidth\":0,\"ticks\":\"\"}}}],\"scattercarpet\":[{\"type\":\"scattercarpet\",\"marker\":{\"colorbar\":{\"outlinewidth\":0,\"ticks\":\"\"}}}],\"carpet\":[{\"aaxis\":{\"endlinecolor\":\"#2a3f5f\",\"gridcolor\":\"white\",\"linecolor\":\"white\",\"minorgridcolor\":\"white\",\"startlinecolor\":\"#2a3f5f\"},\"baxis\":{\"endlinecolor\":\"#2a3f5f\",\"gridcolor\":\"white\",\"linecolor\":\"white\",\"minorgridcolor\":\"white\",\"startlinecolor\":\"#2a3f5f\"},\"type\":\"carpet\"}],\"table\":[{\"cells\":{\"fill\":{\"color\":\"#EBF0F8\"},\"line\":{\"color\":\"white\"}},\"header\":{\"fill\":{\"color\":\"#C8D4E3\"},\"line\":{\"color\":\"white\"}},\"type\":\"table\"}],\"barpolar\":[{\"marker\":{\"line\":{\"color\":\"#E5ECF6\",\"width\":0.5},\"pattern\":{\"fillmode\":\"overlay\",\"size\":10,\"solidity\":0.2}},\"type\":\"barpolar\"}],\"pie\":[{\"automargin\":true,\"type\":\"pie\"}]},\"layout\":{\"autotypenumbers\":\"strict\",\"colorway\":[\"#636efa\",\"#EF553B\",\"#00cc96\",\"#ab63fa\",\"#FFA15A\",\"#19d3f3\",\"#FF6692\",\"#B6E880\",\"#FF97FF\",\"#FECB52\"],\"font\":{\"color\":\"#2a3f5f\"},\"hovermode\":\"closest\",\"hoverlabel\":{\"align\":\"left\"},\"paper_bgcolor\":\"white\",\"plot_bgcolor\":\"#E5ECF6\",\"polar\":{\"bgcolor\":\"#E5ECF6\",\"angularaxis\":{\"gridcolor\":\"white\",\"linecolor\":\"white\",\"ticks\":\"\"},\"radialaxis\":{\"gridcolor\":\"white\",\"linecolor\":\"white\",\"ticks\":\"\"}},\"ternary\":{\"bgcolor\":\"#E5ECF6\",\"aaxis\":{\"gridcolor\":\"white\",\"linecolor\":\"white\",\"ticks\":\"\"},\"baxis\":{\"gridcolor\":\"white\",\"linecolor\":\"white\",\"ticks\":\"\"},\"caxis\":{\"gridcolor\":\"white\",\"linecolor\":\"white\",\"ticks\":\"\"}},\"coloraxis\":{\"colorbar\":{\"outlinewidth\":0,\"ticks\":\"\"}},\"colorscale\":{\"sequential\":[[0.0,\"#0d0887\"],[0.1111111111111111,\"#46039f\"],[0.2222222222222222,\"#7201a8\"],[0.3333333333333333,\"#9c179e\"],[0.4444444444444444,\"#bd3786\"],[0.5555555555555556,\"#d8576b\"],[0.6666666666666666,\"#ed7953\"],[0.7777777777777778,\"#fb9f3a\"],[0.8888888888888888,\"#fdca26\"],[1.0,\"#f0f921\"]],\"sequentialminus\":[[0.0,\"#0d0887\"],[0.1111111111111111,\"#46039f\"],[0.2222222222222222,\"#7201a8\"],[0.3333333333333333,\"#9c179e\"],[0.4444444444444444,\"#bd3786\"],[0.5555555555555556,\"#d8576b\"],[0.6666666666666666,\"#ed7953\"],[0.7777777777777778,\"#fb9f3a\"],[0.8888888888888888,\"#fdca26\"],[1.0,\"#f0f921\"]],\"diverging\":[[0,\"#8e0152\"],[0.1,\"#c51b7d\"],[0.2,\"#de77ae\"],[0.3,\"#f1b6da\"],[0.4,\"#fde0ef\"],[0.5,\"#f7f7f7\"],[0.6,\"#e6f5d0\"],[0.7,\"#b8e186\"],[0.8,\"#7fbc41\"],[0.9,\"#4d9221\"],[1,\"#276419\"]]},\"xaxis\":{\"gridcolor\":\"white\",\"linecolor\":\"white\",\"ticks\":\"\",\"title\":{\"standoff\":15},\"zerolinecolor\":\"white\",\"automargin\":true,\"zerolinewidth\":2},\"yaxis\":{\"gridcolor\":\"white\",\"linecolor\":\"white\",\"ticks\":\"\",\"title\":{\"standoff\":15},\"zerolinecolor\":\"white\",\"automargin\":true,\"zerolinewidth\":2},\"scene\":{\"xaxis\":{\"backgroundcolor\":\"#E5ECF6\",\"gridcolor\":\"white\",\"linecolor\":\"white\",\"showbackground\":true,\"ticks\":\"\",\"zerolinecolor\":\"white\",\"gridwidth\":2},\"yaxis\":{\"backgroundcolor\":\"#E5ECF6\",\"gridcolor\":\"white\",\"linecolor\":\"white\",\"showbackground\":true,\"ticks\":\"\",\"zerolinecolor\":\"white\",\"gridwidth\":2},\"zaxis\":{\"backgroundcolor\":\"#E5ECF6\",\"gridcolor\":\"white\",\"linecolor\":\"white\",\"showbackground\":true,\"ticks\":\"\",\"zerolinecolor\":\"white\",\"gridwidth\":2}},\"shapedefaults\":{\"line\":{\"color\":\"#2a3f5f\"}},\"annotationdefaults\":{\"arrowcolor\":\"#2a3f5f\",\"arrowhead\":0,\"arrowwidth\":1},\"geo\":{\"bgcolor\":\"white\",\"landcolor\":\"#E5ECF6\",\"subunitcolor\":\"white\",\"showland\":true,\"showlakes\":true,\"lakecolor\":\"white\"},\"title\":{\"x\":0.05},\"mapbox\":{\"style\":\"light\"}}},\"xaxis\":{\"anchor\":\"y\",\"domain\":[0.0,1.0],\"title\":{\"text\":\"H\\u00f8stetidspunkt\"}},\"yaxis\":{\"anchor\":\"x\",\"domain\":[0.0,1.0],\"title\":{\"text\":\"Spredning\"}},\"legend\":{\"tracegroupgap\":0},\"title\":{\"text\":\"Visualisering av h\\u00f8stetidspunkter langs en tidsakse (med jitter)\"}},                        {\"responsive\": true}                    ).then(function(){\n",
       "                            \n",
       "var gd = document.getElementById('9e4a4868-0a6f-4027-8b29-387884ed91b3');\n",
       "var x = new MutationObserver(function (mutations, observer) {{\n",
       "        var display = window.getComputedStyle(gd).display;\n",
       "        if (!display || display === 'none') {{\n",
       "            console.log([gd, 'removed!']);\n",
       "            Plotly.purge(gd);\n",
       "            observer.disconnect();\n",
       "        }}\n",
       "}});\n",
       "\n",
       "// Listen for the removal of the full notebook cells\n",
       "var notebookContainer = gd.closest('#notebook-container');\n",
       "if (notebookContainer) {{\n",
       "    x.observe(notebookContainer, {childList: true});\n",
       "}}\n",
       "\n",
       "// Listen for the clearing of the current output cell\n",
       "var outputEl = gd.closest('.output');\n",
       "if (outputEl) {{\n",
       "    x.observe(outputEl, {childList: true});\n",
       "}}\n",
       "\n",
       "                        })                };                });            </script>        </div>"
      ]
     },
     "metadata": {},
     "output_type": "display_data"
    }
   ],
   "source": [
    "import plotly.express as px\n",
    "import pandas as pd\n",
    "import numpy as np\n",
    "\n",
    "# Konverter 'timestamp' fra formatet YYYYMMDD til datetime\n",
    "hoestetid = pd.to_datetime(corpus['timestamp'], format='%Y%m%d')\n",
    "\n",
    "# Generer tilfeldige verdier for spredning langs y-aksen\n",
    "y_spredning = np.random.uniform(0, 1, size=len(hoestetid))\n",
    "\n",
    "# Legg til jitter (tilfeldig liten justering) på høstetidspunktene\n",
    "x_jitter = hoestetid + pd.to_timedelta(np.random.uniform(-2, 2, size=len(hoestetid)), unit='D')\n",
    "\n",
    "# Lag et scatter plot med jitter for bedre spredning\n",
    "fig = px.scatter(\n",
    "    x=x_jitter,  # Høstetidspunkter med jitter på x-aksen\n",
    "    y=y_spredning,  # Tilfeldig spredning på y-aksen\n",
    "    labels={'x': 'Høstetidspunkt', 'y': 'Spredning'},\n",
    "    title='Visualisering av høstetidspunkter langs en tidsakse (med jitter)',\n",
    "    opacity=0.5,  # Gjør punktene delvis gjennomsiktige\n",
    "    size_max=5  # Øk punktstørrelsen\n",
    ")\n",
    "\n",
    "# Vis diagrammet\n",
    "fig.show()\n"
   ]
  },
  {
   "cell_type": "markdown",
   "id": "b87c3df6-02b5-474a-ac9d-cc094a461b35",
   "metadata": {},
   "source": [
    "## 1.3 Eksportere korpus"
   ]
  },
  {
   "cell_type": "markdown",
   "id": "7ec42cc1-50ca-42b5-b9b6-cc9b81485b9d",
   "metadata": {},
   "source": [
    "Hvis du vil lagre resultatene kan du eksportere dem i Excel og/eller JSONL format. Husk å endre filnavnet og ev. filsti!"
   ]
  },
  {
   "cell_type": "code",
   "execution_count": 3,
   "id": "7f432435-b867-4b11-ab20-dca23dec297a",
   "metadata": {},
   "outputs": [],
   "source": [
    "# Eksporter korpus til Excel (endre filnavn og filsti)\n",
    "corpus.frame.to_excel('./korpus-vindmølle.xlsx', index=False)\n",
    "\n",
    "# Eksportere korpus til JSONL (endre filnavn og filsti)\n",
    "corpus.frame.to_json('./korpus-vindmølle.jsonl', orient='records', lines=True)"
   ]
  },
  {
   "cell_type": "markdown",
   "id": "efd768d9-d975-47ea-b2e2-8e435acd436a",
   "metadata": {},
   "source": [
    "## 2. Konkordanser"
   ]
  },
  {
   "cell_type": "markdown",
   "id": "fd4652ee-8106-4384-9886-832c2923f774",
   "metadata": {},
   "source": [
    "Når du har bygget korpuset kan du hente ut ulike informasjon om korpuset.\n",
    "\n",
    "Kodecellen under henter ut konkordanser, det vil si et tekstvindu med inntil 12 ord før/etter et søkeord. Søkeordet fremheves i fet skrift.\n",
    "\n",
    "La oss be om konkordanser for ordet \"vindmølle\"."
   ]
  },
  {
   "cell_type": "code",
   "execution_count": null,
   "id": "e56b9211-dbea-4490-82f6-8696aeb4d3e0",
   "metadata": {
    "scrolled": true
   },
   "outputs": [],
   "source": [
    "conc_windmill = corpus.conc(words=\"vindmølle*\")\n",
    "conc_windmill.show()"
   ]
  },
  {
   "cell_type": "markdown",
   "id": "71cd054d-1743-40ef-be2e-298ad5897345",
   "metadata": {},
   "source": [
    "### Eksportere konkordanser"
   ]
  },
  {
   "cell_type": "markdown",
   "id": "45af6a29-c073-48a9-b505-eaf704532c08",
   "metadata": {},
   "source": [
    "Hvis du vil lagre resultatene kan du eksportere dem i Excel og/eller JSONL format. Husk å endre filnavnet og ev. filsti!"
   ]
  },
  {
   "cell_type": "code",
   "execution_count": null,
   "id": "5c00ae65-d510-46ad-a81b-7cbebacd6e0d",
   "metadata": {},
   "outputs": [],
   "source": [
    "# Eksportere konkordanser til Excel\n",
    "conc_windmill.frame.to_excel('./konkordanser-vindmølle.xlsx', index=False)\n",
    "\n",
    "# Eksportere konkordanser til JSONL\n",
    "conc_windmill.frame.to_json('./konkordanser-vindmølle.jsonl', orient='records', lines=True)"
   ]
  },
  {
   "cell_type": "markdown",
   "id": "5996ff6b-8c0c-4cf5-9c58-7144e9bae006",
   "metadata": {},
   "source": [
    "## 3. Kollokasjoner og ordfrekvenser\n",
    "Kollokasjoner er ordpar som forekommer sammen. Ved å telle kollokasjoner for et gitt ord kan vi si noe om frekvensen for hvor hyppig/sjelden ulike ord forekommer sammen med hverandre.\n",
    "\n",
    "En del ord alltid vil forekomme hyppig i alle tekster, slik som `og`, `han` og `hun`. For å finne ord som er signifikante innen en gitt kontekst kan vi beregne en relativfrekvens, der vi sammenlikner frekvensen i vårt eget korpus med et allment referansekorpus.\n",
    "\n",
    "Cellen under lister ordene med høyest relativfrekvens, gitt et nøkkelord i korpuset."
   ]
  },
  {
   "cell_type": "code",
   "execution_count": null,
   "id": "f8a6916f-a88f-46fd-b15c-fe4e21f9b7d6",
   "metadata": {},
   "outputs": [],
   "source": [
    "tot = totals(50000) # Henter referansekorpus for å sammenlikne relativfrekvens\n",
    "coll = corpus.coll(\"vindmøller\").frame.sort_values(by=\"counts\", ascending=False) # Teller kollokasjoner for nøkkelord i korpuset\n",
    "(coll.counts / tot.freq).sort_values(ascending = False).head(20) # Finner relativfrekvens i korpuset, sammenliknet med referansekorpuset"
   ]
  }
 ],
 "metadata": {
  "kernelspec": {
   "display_name": "Python 3 (ipykernel)",
   "language": "python",
   "name": "python3"
  },
  "language_info": {
   "codemirror_mode": {
    "name": "ipython",
    "version": 3
   },
   "file_extension": ".py",
   "mimetype": "text/x-python",
   "name": "python",
   "nbconvert_exporter": "python",
   "pygments_lexer": "ipython3",
   "version": "3.12.4"
  }
 },
 "nbformat": 4,
 "nbformat_minor": 5
}
